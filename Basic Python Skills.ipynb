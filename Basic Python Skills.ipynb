{
 "cells": [
  {
   "cell_type": "markdown",
   "id": "988e178b",
   "metadata": {},
   "source": [
    "# Imports"
   ]
  },
  {
   "cell_type": "code",
   "execution_count": 1,
   "id": "30292bd5",
   "metadata": {},
   "outputs": [],
   "source": [
    "import numpy as np\n",
    "import pandas as pd\n",
    "import random as rnd\n",
    "import matplotlib.pyplot as plt\n",
    "import networkx as nx"
   ]
  },
  {
   "cell_type": "markdown",
   "id": "b2df2e93",
   "metadata": {},
   "source": [
    "# First Part"
   ]
  },
  {
   "cell_type": "markdown",
   "id": "745869ed",
   "metadata": {},
   "source": [
    "### 1.Reading and visualising the dataset file"
   ]
  },
  {
   "cell_type": "code",
   "execution_count": 2,
   "id": "4fe60c40",
   "metadata": {},
   "outputs": [
    {
     "name": "stdout",
     "output_type": "stream",
     "text": [
      "    longitude  latitude  housing_median_age  total_rooms  population  median_income  median_house_value ocean_proximity\n",
      "0     -122.23     37.88             41.0000          880         322         8.3252              452600        NEAR BAY\n",
      "1     -122.23     37.88             41.0000          880         322         8.3252              452600        NEAR BAY\n",
      "2     -122.22     37.86             21.0000         7099        2401         8.3014              358500        NEAR BAY\n",
      "3     -122.25     37.84             52.0001         3104        1157         3.1200              241400        NEAR BAY\n",
      "4     -122.26     37.85             52.0000         3503        1504         3.2705              241800        NEAR BAY\n",
      "5     -121.65     39.32             40.0000          812         374         2.7891               73500          INLAND\n",
      "6     -121.69     39.36             29.0000         2220        1170         2.3224               56200          INLAND\n",
      "7     -121.70     39.37             32.0000         1852         911         1.7885               57000          INLAND\n",
      "8     -121.70     39.36             46.0000         1210         523         1.9100               63900          INLAND\n",
      "9     -121.70     39.36             37.0000         2330        1505         2.0474               56000          INLAND\n",
      "10    -121.69     39.36             34.0000          842         635         1.8355               63000          INLAND\n",
      "11    -121.74     39.38             27.0000         2596        1100         2.3243               85500             NaN\n",
      "12    -121.80     39.33             30.0000         1019         501         2.5259               81300          INLAND\n",
      "13    -120.46     38.15             16.0000         4221        1516         2.3816              116000          INLAND\n",
      "14    -120.55     38.12             10.0000         1566         785         2.5000              116100          INLAND\n",
      "15    -120.56     38.09             34.0000         2745        1150         2.3654               94900          INLAND\n",
      "16    -124.23     41.75             11.0000         3159        1343         2.4805               73200      NEAR OCEAN\n",
      "17    -124.21     41.77             17.0000         3461        1947         2.5795               68400          NEAR O\n",
      "18    -124.19     41.78             15.0000         3140        1645         1.6654               74600          NEAR O\n",
      "19    -124.16     41.74             15.0000         2715        1532         2.1829               69500      NEAR OCEAN\n",
      "20    -124.14     41.95             21.0000         2696        1208            NaN              122400      NEAR OCEAN\n",
      "21    -124.16     41.92             19.0000         1668         841         2.1336               75000      NEAR OCEAN\n",
      "22    -118.32     33.35             27.0000         1675         744         2.1579              450000          ISLAND\n",
      "23    -118.33     33.34             52.0000         2359        1100         2.8333              414700          ISLAND\n",
      "24    -118.32     33.33             52.0000         2127         733         3.3906              300000          ISLAND\n",
      "25    -118.32     33.34             52.0000          996         341         2.7361              450000          ISLAND\n",
      "26    -118.48     33.43             29.0000          716         422         2.6042              287500          ISLAND\n",
      "27    -118.48     33.43             29.0000          716         422         2.6042              287500          ISLAND\n"
     ]
    }
   ],
   "source": [
    "dataset = pd.read_csv('Dataset.csv')\n",
    "print(dataset.to_string())"
   ]
  },
  {
   "cell_type": "markdown",
   "id": "331641f7",
   "metadata": {},
   "source": [
    "### (2-6).Data Cleaning (Preprocessing)"
   ]
  },
  {
   "cell_type": "markdown",
   "id": "01818049",
   "metadata": {},
   "source": [
    "2. Fix missing values"
   ]
  },
  {
   "cell_type": "code",
   "execution_count": 3,
   "id": "ae9c3679",
   "metadata": {
    "scrolled": false
   },
   "outputs": [
    {
     "name": "stdout",
     "output_type": "stream",
     "text": [
      "is there any null values? True \n",
      "\n",
      "longitude             0\n",
      "latitude              0\n",
      "housing_median_age    0\n",
      "total_rooms           0\n",
      "population            0\n",
      "median_income         1\n",
      "median_house_value    0\n",
      "ocean_proximity       1\n",
      "dtype: int64 \n",
      "\n",
      "    longitude  latitude  housing_median_age  total_rooms  population  median_income  median_house_value  ocean_proximity\n",
      "0       False     False               False        False       False          False               False            False\n",
      "1       False     False               False        False       False          False               False            False\n",
      "2       False     False               False        False       False          False               False            False\n",
      "3       False     False               False        False       False          False               False            False\n",
      "4       False     False               False        False       False          False               False            False\n",
      "5       False     False               False        False       False          False               False            False\n",
      "6       False     False               False        False       False          False               False            False\n",
      "7       False     False               False        False       False          False               False            False\n",
      "8       False     False               False        False       False          False               False            False\n",
      "9       False     False               False        False       False          False               False            False\n",
      "10      False     False               False        False       False          False               False            False\n",
      "11      False     False               False        False       False          False               False             True\n",
      "12      False     False               False        False       False          False               False            False\n",
      "13      False     False               False        False       False          False               False            False\n",
      "14      False     False               False        False       False          False               False            False\n",
      "15      False     False               False        False       False          False               False            False\n",
      "16      False     False               False        False       False          False               False            False\n",
      "17      False     False               False        False       False          False               False            False\n",
      "18      False     False               False        False       False          False               False            False\n",
      "19      False     False               False        False       False          False               False            False\n",
      "20      False     False               False        False       False           True               False            False\n",
      "21      False     False               False        False       False          False               False            False\n",
      "22      False     False               False        False       False          False               False            False\n",
      "23      False     False               False        False       False          False               False            False\n",
      "24      False     False               False        False       False          False               False            False\n",
      "25      False     False               False        False       False          False               False            False\n",
      "26      False     False               False        False       False          False               False            False\n",
      "27      False     False               False        False       False          False               False            False\n"
     ]
    }
   ],
   "source": [
    "print('is there any null values?',dataset.isnull().values.any(), '\\n') # Check if there is any null values\n",
    "print(dataset.isnull().sum(),'\\n') # Check which columns have null values\n",
    "print(dataset.isnull().to_string()) # Check where the null values fall"
   ]
  },
  {
   "cell_type": "markdown",
   "id": "65154505",
   "metadata": {},
   "source": [
    "I have decided to set the missing value in ocean_proximity to INLAND as it falls between two INLAND values in terms of longitude."
   ]
  },
  {
   "cell_type": "code",
   "execution_count": 4,
   "id": "7409548f",
   "metadata": {},
   "outputs": [],
   "source": [
    "dataset.at[11, 'ocean_proximity'] = str('INLAND')"
   ]
  },
  {
   "cell_type": "markdown",
   "id": "b18db549",
   "metadata": {},
   "source": [
    "I have decided to auto-generate a value for the missing median income value by finding the correlation to other columns."
   ]
  },
  {
   "cell_type": "code",
   "execution_count": 5,
   "id": "0ac05726",
   "metadata": {},
   "outputs": [
    {
     "name": "stdout",
     "output_type": "stream",
     "text": [
      "                    longitude  latitude  housing_median_age  total_rooms  population  median_income  median_house_value\n",
      "longitude            1.000000 -0.951331            0.460223    -0.326288   -0.464498      -0.072013            0.551852\n",
      "latitude            -0.951331  1.000000           -0.535713     0.257412    0.424459      -0.128513           -0.749265\n",
      "housing_median_age   0.460223 -0.535713            1.000000    -0.298333   -0.411813       0.173745            0.469196\n",
      "total_rooms         -0.326288  0.257412           -0.298333     1.000000    0.923021       0.202128           -0.081461\n",
      "population          -0.464498  0.424459           -0.411813     0.923021    1.000000      -0.006953           -0.287138\n",
      "median_income       -0.072013 -0.128513            0.173745     0.202128   -0.006953       1.000000            0.625799\n",
      "median_house_value   0.551852 -0.749265            0.469196    -0.081461   -0.287138       0.625799            1.000000\n"
     ]
    }
   ],
   "source": [
    "print(dataset.corr().to_string()) # Find the correlation in the dataset"
   ]
  },
  {
   "cell_type": "markdown",
   "id": "c247e72c",
   "metadata": {},
   "source": [
    "The mdeian_income best correlates to the median_house_value column therefore I'll generate a random value between the corresponding values between both columns."
   ]
  },
  {
   "cell_type": "code",
   "execution_count": 6,
   "id": "cf3ed042",
   "metadata": {},
   "outputs": [],
   "source": [
    "dataset.at[20,'median_income'] = rnd.uniform(2.5000,3.1200) #fill the null value with the random value"
   ]
  },
  {
   "cell_type": "markdown",
   "id": "bb46838d",
   "metadata": {},
   "source": [
    "I know the value is not accurate but it is the most suitable way I found to generate the random value"
   ]
  },
  {
   "cell_type": "markdown",
   "id": "7a221d2d",
   "metadata": {},
   "source": [
    "3. Fix duplicates"
   ]
  },
  {
   "cell_type": "code",
   "execution_count": 7,
   "id": "7b1c50d8",
   "metadata": {
    "scrolled": false
   },
   "outputs": [
    {
     "name": "stdout",
     "output_type": "stream",
     "text": [
      "0     False\n",
      "1      True\n",
      "2     False\n",
      "3     False\n",
      "4     False\n",
      "5     False\n",
      "6     False\n",
      "7     False\n",
      "8     False\n",
      "9     False\n",
      "10    False\n",
      "11    False\n",
      "12    False\n",
      "13    False\n",
      "14    False\n",
      "15    False\n",
      "16    False\n",
      "17    False\n",
      "18    False\n",
      "19    False\n",
      "20    False\n",
      "21    False\n",
      "22    False\n",
      "23    False\n",
      "24    False\n",
      "25    False\n",
      "26    False\n",
      "27     True\n"
     ]
    }
   ],
   "source": [
    "# Check for duplicated rows\n",
    "print(dataset.duplicated().to_string())"
   ]
  },
  {
   "cell_type": "code",
   "execution_count": 8,
   "id": "be8f4c49",
   "metadata": {
    "scrolled": false
   },
   "outputs": [
    {
     "name": "stdout",
     "output_type": "stream",
     "text": [
      "    longitude  latitude  housing_median_age  total_rooms  population  median_income  median_house_value ocean_proximity\n",
      "0     -122.23     37.88             41.0000          880         322       8.325200              452600        NEAR BAY\n",
      "2     -122.22     37.86             21.0000         7099        2401       8.301400              358500        NEAR BAY\n",
      "3     -122.25     37.84             52.0001         3104        1157       3.120000              241400        NEAR BAY\n",
      "4     -122.26     37.85             52.0000         3503        1504       3.270500              241800        NEAR BAY\n",
      "5     -121.65     39.32             40.0000          812         374       2.789100               73500          INLAND\n",
      "6     -121.69     39.36             29.0000         2220        1170       2.322400               56200          INLAND\n",
      "7     -121.70     39.37             32.0000         1852         911       1.788500               57000          INLAND\n",
      "8     -121.70     39.36             46.0000         1210         523       1.910000               63900          INLAND\n",
      "9     -121.70     39.36             37.0000         2330        1505       2.047400               56000          INLAND\n",
      "10    -121.69     39.36             34.0000          842         635       1.835500               63000          INLAND\n",
      "11    -121.74     39.38             27.0000         2596        1100       2.324300               85500          INLAND\n",
      "12    -121.80     39.33             30.0000         1019         501       2.525900               81300          INLAND\n",
      "13    -120.46     38.15             16.0000         4221        1516       2.381600              116000          INLAND\n",
      "14    -120.55     38.12             10.0000         1566         785       2.500000              116100          INLAND\n",
      "15    -120.56     38.09             34.0000         2745        1150       2.365400               94900          INLAND\n",
      "16    -124.23     41.75             11.0000         3159        1343       2.480500               73200      NEAR OCEAN\n",
      "17    -124.21     41.77             17.0000         3461        1947       2.579500               68400          NEAR O\n",
      "18    -124.19     41.78             15.0000         3140        1645       1.665400               74600          NEAR O\n",
      "19    -124.16     41.74             15.0000         2715        1532       2.182900               69500      NEAR OCEAN\n",
      "20    -124.14     41.95             21.0000         2696        1208       2.598875              122400      NEAR OCEAN\n",
      "21    -124.16     41.92             19.0000         1668         841       2.133600               75000      NEAR OCEAN\n",
      "22    -118.32     33.35             27.0000         1675         744       2.157900              450000          ISLAND\n",
      "23    -118.33     33.34             52.0000         2359        1100       2.833300              414700          ISLAND\n",
      "24    -118.32     33.33             52.0000         2127         733       3.390600              300000          ISLAND\n",
      "25    -118.32     33.34             52.0000          996         341       2.736100              450000          ISLAND\n",
      "26    -118.48     33.43             29.0000          716         422       2.604200              287500          ISLAND\n"
     ]
    }
   ],
   "source": [
    "# Remove duplicate rows\n",
    "dataset1 = dataset.drop_duplicates()\n",
    "print(dataset1.to_string())"
   ]
  },
  {
   "cell_type": "code",
   "execution_count": 9,
   "id": "e91033f7",
   "metadata": {
    "scrolled": false
   },
   "outputs": [
    {
     "name": "stdout",
     "output_type": "stream",
     "text": [
      "    longitude  latitude  housing_median_age  total_rooms  population  median_income  median_house_value ocean_proximity\n",
      "0     -122.23     37.88             41.0000          880         322       8.325200              452600        NEAR BAY\n",
      "1     -122.22     37.86             21.0000         7099        2401       8.301400              358500        NEAR BAY\n",
      "2     -122.25     37.84             52.0001         3104        1157       3.120000              241400        NEAR BAY\n",
      "3     -122.26     37.85             52.0000         3503        1504       3.270500              241800        NEAR BAY\n",
      "4     -121.65     39.32             40.0000          812         374       2.789100               73500          INLAND\n",
      "5     -121.69     39.36             29.0000         2220        1170       2.322400               56200          INLAND\n",
      "6     -121.70     39.37             32.0000         1852         911       1.788500               57000          INLAND\n",
      "7     -121.70     39.36             46.0000         1210         523       1.910000               63900          INLAND\n",
      "8     -121.70     39.36             37.0000         2330        1505       2.047400               56000          INLAND\n",
      "9     -121.69     39.36             34.0000          842         635       1.835500               63000          INLAND\n",
      "10    -121.74     39.38             27.0000         2596        1100       2.324300               85500          INLAND\n",
      "11    -121.80     39.33             30.0000         1019         501       2.525900               81300          INLAND\n",
      "12    -120.46     38.15             16.0000         4221        1516       2.381600              116000          INLAND\n",
      "13    -120.55     38.12             10.0000         1566         785       2.500000              116100          INLAND\n",
      "14    -120.56     38.09             34.0000         2745        1150       2.365400               94900          INLAND\n",
      "15    -124.23     41.75             11.0000         3159        1343       2.480500               73200      NEAR OCEAN\n",
      "16    -124.21     41.77             17.0000         3461        1947       2.579500               68400          NEAR O\n",
      "17    -124.19     41.78             15.0000         3140        1645       1.665400               74600          NEAR O\n",
      "18    -124.16     41.74             15.0000         2715        1532       2.182900               69500      NEAR OCEAN\n",
      "19    -124.14     41.95             21.0000         2696        1208       2.598875              122400      NEAR OCEAN\n",
      "20    -124.16     41.92             19.0000         1668         841       2.133600               75000      NEAR OCEAN\n",
      "21    -118.32     33.35             27.0000         1675         744       2.157900              450000          ISLAND\n",
      "22    -118.33     33.34             52.0000         2359        1100       2.833300              414700          ISLAND\n",
      "23    -118.32     33.33             52.0000         2127         733       3.390600              300000          ISLAND\n",
      "24    -118.32     33.34             52.0000          996         341       2.736100              450000          ISLAND\n",
      "25    -118.48     33.43             29.0000          716         422       2.604200              287500          ISLAND\n"
     ]
    }
   ],
   "source": [
    "# Reset the indices\n",
    "dataset1.reset_index(drop=True, inplace=True)\n",
    "print(dataset1.to_string())"
   ]
  },
  {
   "cell_type": "markdown",
   "id": "00524eb5",
   "metadata": {},
   "source": [
    "4. Fix wrong data types"
   ]
  },
  {
   "cell_type": "markdown",
   "id": "f9ebe681",
   "metadata": {},
   "source": [
    "Obviously, housing_median_age should be an integer instead of a float"
   ]
  },
  {
   "cell_type": "code",
   "execution_count": 10,
   "id": "f3fda2d6",
   "metadata": {},
   "outputs": [],
   "source": [
    "dataset1 = dataset1.astype({'housing_median_age': int})"
   ]
  },
  {
   "cell_type": "markdown",
   "id": "84fc47bd",
   "metadata": {},
   "source": [
    "5. Fix wrong values"
   ]
  },
  {
   "cell_type": "markdown",
   "id": "a1750868",
   "metadata": {},
   "source": [
    "ocean_proximity has 2 'Near O' values that should be 'Near Ocean' for consistency"
   ]
  },
  {
   "cell_type": "code",
   "execution_count": 11,
   "id": "00dcb69f",
   "metadata": {},
   "outputs": [],
   "source": [
    "dataset1.at[16,'ocean_proximity'] = str('NEAR OCEAN')\n",
    "dataset1.at[17,'ocean_proximity'] = str('NEAR OCEAN')"
   ]
  },
  {
   "cell_type": "code",
   "execution_count": 12,
   "id": "eacb698b",
   "metadata": {},
   "outputs": [
    {
     "name": "stdout",
     "output_type": "stream",
     "text": [
      "    longitude  latitude  housing_median_age  total_rooms  population  median_income  median_house_value ocean_proximity\n",
      "0     -122.23     37.88                  41          880         322       8.325200              452600        NEAR BAY\n",
      "1     -122.22     37.86                  21         7099        2401       8.301400              358500        NEAR BAY\n",
      "2     -122.25     37.84                  52         3104        1157       3.120000              241400        NEAR BAY\n",
      "3     -122.26     37.85                  52         3503        1504       3.270500              241800        NEAR BAY\n",
      "4     -121.65     39.32                  40          812         374       2.789100               73500          INLAND\n",
      "5     -121.69     39.36                  29         2220        1170       2.322400               56200          INLAND\n",
      "6     -121.70     39.37                  32         1852         911       1.788500               57000          INLAND\n",
      "7     -121.70     39.36                  46         1210         523       1.910000               63900          INLAND\n",
      "8     -121.70     39.36                  37         2330        1505       2.047400               56000          INLAND\n",
      "9     -121.69     39.36                  34          842         635       1.835500               63000          INLAND\n",
      "10    -121.74     39.38                  27         2596        1100       2.324300               85500          INLAND\n",
      "11    -121.80     39.33                  30         1019         501       2.525900               81300          INLAND\n",
      "12    -120.46     38.15                  16         4221        1516       2.381600              116000          INLAND\n",
      "13    -120.55     38.12                  10         1566         785       2.500000              116100          INLAND\n",
      "14    -120.56     38.09                  34         2745        1150       2.365400               94900          INLAND\n",
      "15    -124.23     41.75                  11         3159        1343       2.480500               73200      NEAR OCEAN\n",
      "16    -124.21     41.77                  17         3461        1947       2.579500               68400      NEAR OCEAN\n",
      "17    -124.19     41.78                  15         3140        1645       1.665400               74600      NEAR OCEAN\n",
      "18    -124.16     41.74                  15         2715        1532       2.182900               69500      NEAR OCEAN\n",
      "19    -124.14     41.95                  21         2696        1208       2.598875              122400      NEAR OCEAN\n",
      "20    -124.16     41.92                  19         1668         841       2.133600               75000      NEAR OCEAN\n",
      "21    -118.32     33.35                  27         1675         744       2.157900              450000          ISLAND\n",
      "22    -118.33     33.34                  52         2359        1100       2.833300              414700          ISLAND\n",
      "23    -118.32     33.33                  52         2127         733       3.390600              300000          ISLAND\n",
      "24    -118.32     33.34                  52          996         341       2.736100              450000          ISLAND\n",
      "25    -118.48     33.43                  29          716         422       2.604200              287500          ISLAND\n"
     ]
    }
   ],
   "source": [
    "print(dataset1.to_string()) #View the updated dataset"
   ]
  },
  {
   "cell_type": "markdown",
   "id": "2dd62431",
   "metadata": {},
   "source": [
    "6. Save CSV file"
   ]
  },
  {
   "cell_type": "code",
   "execution_count": 13,
   "id": "351e6494",
   "metadata": {},
   "outputs": [],
   "source": [
    "dataset1.to_csv('Updated Dataset.csv')"
   ]
  },
  {
   "cell_type": "markdown",
   "id": "b6e095c6",
   "metadata": {},
   "source": [
    "### (7-9). Data Analysis for  the column 'median_house_value'"
   ]
  },
  {
   "cell_type": "markdown",
   "id": "bab82420",
   "metadata": {},
   "source": [
    "7. Mean"
   ]
  },
  {
   "cell_type": "code",
   "execution_count": 14,
   "id": "ca103e01",
   "metadata": {},
   "outputs": [
    {
     "name": "stdout",
     "output_type": "stream",
     "text": [
      "The mean value of the \"median_house_value\" column is: 174730.77\n"
     ]
    }
   ],
   "source": [
    "meanvalue = dataset1['median_house_value'].mean() # get the mean value of the column\n",
    "print('The mean value of the \"median_house_value\" column is:',round(meanvalue,2))"
   ]
  },
  {
   "cell_type": "markdown",
   "id": "954049b1",
   "metadata": {},
   "source": [
    "8. Median"
   ]
  },
  {
   "cell_type": "code",
   "execution_count": 15,
   "id": "b27c58fd",
   "metadata": {},
   "outputs": [
    {
     "name": "stdout",
     "output_type": "stream",
     "text": [
      "The median value of the \"median_house_value\" column is: 90200\n"
     ]
    }
   ],
   "source": [
    "medianvalue = dataset1['median_house_value'].median() #get the median value of the column\n",
    "print('The median value of the \"median_house_value\" column is:', int(medianvalue))"
   ]
  },
  {
   "cell_type": "markdown",
   "id": "4e693082",
   "metadata": {},
   "source": [
    "9. Range"
   ]
  },
  {
   "cell_type": "code",
   "execution_count": 16,
   "id": "166b4583",
   "metadata": {},
   "outputs": [
    {
     "name": "stdout",
     "output_type": "stream",
     "text": [
      "The range of values in the \"median_house_value\" column is 396600\n"
     ]
    }
   ],
   "source": [
    "maxval = dataset1['median_house_value'].max()\n",
    "minval = dataset1['median_house_value'].min()\n",
    "print('The range of values in the \"median_house_value\" column is', maxval - minval)"
   ]
  },
  {
   "cell_type": "markdown",
   "id": "c50777c4",
   "metadata": {},
   "source": [
    "### 10. Currency Update"
   ]
  },
  {
   "cell_type": "markdown",
   "id": "23662425",
   "metadata": {},
   "source": [
    "The values in median_income needs to be multiplied by 10000 to represent USD"
   ]
  },
  {
   "cell_type": "code",
   "execution_count": 17,
   "id": "4a1be81f",
   "metadata": {},
   "outputs": [],
   "source": [
    "dataset1['median_income'] = dataset1['median_income']*10000"
   ]
  },
  {
   "cell_type": "markdown",
   "id": "a6220066",
   "metadata": {},
   "source": [
    "Updating the column data type to be an integer instead of a float"
   ]
  },
  {
   "cell_type": "code",
   "execution_count": 18,
   "id": "9f41533e",
   "metadata": {},
   "outputs": [],
   "source": [
    "dataset1 = dataset1.astype({'median_income': int})"
   ]
  },
  {
   "cell_type": "markdown",
   "id": "53cf73c3",
   "metadata": {},
   "source": [
    "### Entire Updated Data frame"
   ]
  },
  {
   "cell_type": "code",
   "execution_count": 19,
   "id": "bed9cdd1",
   "metadata": {},
   "outputs": [
    {
     "name": "stdout",
     "output_type": "stream",
     "text": [
      "    longitude  latitude  housing_median_age  total_rooms  population  median_income  median_house_value ocean_proximity\n",
      "0     -122.23     37.88                  41          880         322          83252              452600        NEAR BAY\n",
      "1     -122.22     37.86                  21         7099        2401          83013              358500        NEAR BAY\n",
      "2     -122.25     37.84                  52         3104        1157          31200              241400        NEAR BAY\n",
      "3     -122.26     37.85                  52         3503        1504          32705              241800        NEAR BAY\n",
      "4     -121.65     39.32                  40          812         374          27891               73500          INLAND\n",
      "5     -121.69     39.36                  29         2220        1170          23224               56200          INLAND\n",
      "6     -121.70     39.37                  32         1852         911          17885               57000          INLAND\n",
      "7     -121.70     39.36                  46         1210         523          19100               63900          INLAND\n",
      "8     -121.70     39.36                  37         2330        1505          20474               56000          INLAND\n",
      "9     -121.69     39.36                  34          842         635          18355               63000          INLAND\n",
      "10    -121.74     39.38                  27         2596        1100          23243               85500          INLAND\n",
      "11    -121.80     39.33                  30         1019         501          25259               81300          INLAND\n",
      "12    -120.46     38.15                  16         4221        1516          23816              116000          INLAND\n",
      "13    -120.55     38.12                  10         1566         785          25000              116100          INLAND\n",
      "14    -120.56     38.09                  34         2745        1150          23654               94900          INLAND\n",
      "15    -124.23     41.75                  11         3159        1343          24805               73200      NEAR OCEAN\n",
      "16    -124.21     41.77                  17         3461        1947          25795               68400      NEAR OCEAN\n",
      "17    -124.19     41.78                  15         3140        1645          16654               74600      NEAR OCEAN\n",
      "18    -124.16     41.74                  15         2715        1532          21829               69500      NEAR OCEAN\n",
      "19    -124.14     41.95                  21         2696        1208          25988              122400      NEAR OCEAN\n",
      "20    -124.16     41.92                  19         1668         841          21336               75000      NEAR OCEAN\n",
      "21    -118.32     33.35                  27         1675         744          21579              450000          ISLAND\n",
      "22    -118.33     33.34                  52         2359        1100          28333              414700          ISLAND\n",
      "23    -118.32     33.33                  52         2127         733          33906              300000          ISLAND\n",
      "24    -118.32     33.34                  52          996         341          27361              450000          ISLAND\n",
      "25    -118.48     33.43                  29          716         422          26042              287500          ISLAND\n"
     ]
    }
   ],
   "source": [
    "print(dataset1.to_string())"
   ]
  },
  {
   "cell_type": "markdown",
   "id": "bcc5b473",
   "metadata": {},
   "source": [
    "# Second Part"
   ]
  },
  {
   "cell_type": "markdown",
   "id": "0c828233",
   "metadata": {},
   "source": [
    "### Part 1"
   ]
  },
  {
   "cell_type": "code",
   "execution_count": 20,
   "id": "7e96d2cf",
   "metadata": {},
   "outputs": [],
   "source": [
    "A = np.random.randint(0,10,(5,10)) #Initialising the 2D array"
   ]
  },
  {
   "cell_type": "code",
   "execution_count": 21,
   "id": "0f9b68c1",
   "metadata": {},
   "outputs": [
    {
     "name": "stdout",
     "output_type": "stream",
     "text": [
      "[[1 6 2 4 5 8 6 9 8 9]\n",
      " [1 9 1 3 8 5 2 0 1 3]\n",
      " [2 4 7 1 5 9 1 3 2 6]\n",
      " [8 1 7 3 1 1 5 0 3 5]\n",
      " [8 5 2 3 9 6 8 2 0 8]]\n"
     ]
    }
   ],
   "source": [
    "print(A) #Displaying the array as a table"
   ]
  },
  {
   "cell_type": "markdown",
   "id": "10e3048d",
   "metadata": {},
   "source": [
    "Plotting the first two rows on a single diagram"
   ]
  },
  {
   "cell_type": "code",
   "execution_count": 22,
   "id": "15e5de8d",
   "metadata": {},
   "outputs": [
    {
     "data": {
      "image/png": "[encoded data removed]",
      "text/plain": [
       "<Figure size 432x288 with 1 Axes>"
      ]
     },
     "metadata": {
      "needs_background": "light"
     },
     "output_type": "display_data"
    }
   ],
   "source": [
    "plt.plot(A[0,], marker='x', color='black') \n",
    "plt.plot(A[1,], marker='o', color='crimson')\n",
    "plt.show()"
   ]
  },
  {
   "cell_type": "markdown",
   "id": "c044d775",
   "metadata": {},
   "source": [
    "### Part 2"
   ]
  },
  {
   "cell_type": "markdown",
   "id": "d9f2ea2e",
   "metadata": {},
   "source": [
    "Mean values for each individual row:"
   ]
  },
  {
   "cell_type": "code",
   "execution_count": 23,
   "id": "2035a500",
   "metadata": {},
   "outputs": [
    {
     "name": "stdout",
     "output_type": "stream",
     "text": [
      "1st Row Mean = 5.8\n",
      "2nd Row Mean = 3.3\n",
      "3rd Row Mean = 4.0\n",
      "4th Row Mean = 3.4\n",
      "5th Row Mean = 5.1\n"
     ]
    }
   ],
   "source": [
    "R = np.mean(A, axis=1)\n",
    "print('1st Row Mean =', R[0])\n",
    "print('2nd Row Mean =', R[1])\n",
    "print('3rd Row Mean =', R[2])\n",
    "print('4th Row Mean =', R[3])\n",
    "print('5th Row Mean =', R[4])"
   ]
  },
  {
   "cell_type": "markdown",
   "id": "aac93975",
   "metadata": {},
   "source": [
    "Median values for each individual row:"
   ]
  },
  {
   "cell_type": "code",
   "execution_count": 24,
   "id": "2ed88f0a",
   "metadata": {},
   "outputs": [
    {
     "name": "stdout",
     "output_type": "stream",
     "text": [
      "1st Row Median = 6.0\n",
      "2nd Row Median = 2.5\n",
      "3rd Row Median = 3.5\n",
      "4th Row Median = 3.0\n",
      "5th Row Median = 5.5\n"
     ]
    }
   ],
   "source": [
    "M = np.median(A, axis=1)\n",
    "print('1st Row Median =', M[0])\n",
    "print('2nd Row Median =', M[1])\n",
    "print('3rd Row Median =', M[2])\n",
    "print('4th Row Median =', M[3])\n",
    "print('5th Row Median =', M[4])"
   ]
  },
  {
   "cell_type": "markdown",
   "id": "0a0eb65a",
   "metadata": {},
   "source": [
    "Standard Deviation values for each individual row:"
   ]
  },
  {
   "cell_type": "code",
   "execution_count": 25,
   "id": "6bf6f755",
   "metadata": {},
   "outputs": [
    {
     "name": "stdout",
     "output_type": "stream",
     "text": [
      "1st Row SD = 2.68\n",
      "2nd Row SD = 2.93\n",
      "3rd Row SD = 2.57\n",
      "4th Row SD = 2.62\n",
      "5th Row SD = 3.01\n"
     ]
    }
   ],
   "source": [
    "S= np.std(A, axis=1)\n",
    "print('1st Row SD =', round(S[0],2))\n",
    "print('2nd Row SD =', round(S[1],2))\n",
    "print('3rd Row SD =', round(S[2],2))\n",
    "print('4th Row SD =', round(S[3],2))\n",
    "print('5th Row SD =', round(S[4],2))"
   ]
  },
  {
   "cell_type": "markdown",
   "id": "396e9ce4",
   "metadata": {},
   "source": [
    "### Part 3"
   ]
  },
  {
   "cell_type": "markdown",
   "id": "299fa4ef",
   "metadata": {},
   "source": [
    "1D normally distributed array initialisation"
   ]
  },
  {
   "cell_type": "code",
   "execution_count": 26,
   "id": "40ef2b1a",
   "metadata": {},
   "outputs": [],
   "source": [
    "N = np.random.normal(17,0.2,1000) "
   ]
  },
  {
   "cell_type": "markdown",
   "id": "7b50afb7",
   "metadata": {},
   "source": [
    "### Part 4"
   ]
  },
  {
   "cell_type": "code",
   "execution_count": 27,
   "id": "f36f9252",
   "metadata": {},
   "outputs": [
    {
     "name": "stdout",
     "output_type": "stream",
     "text": [
      "Maximum Value:  17.66\n",
      "Minimum Value:  16.32\n",
      "Range Value:  1.34\n"
     ]
    }
   ],
   "source": [
    "maxval = np.max(N)\n",
    "minval = np.min(N)\n",
    "print ('Maximum Value: ', round(maxval,2))\n",
    "print ('Minimum Value: ', round(minval,2))\n",
    "print ('Range Value: ', round(maxval-minval,2))"
   ]
  },
  {
   "cell_type": "markdown",
   "id": "02b63160",
   "metadata": {},
   "source": [
    "### Part 5"
   ]
  },
  {
   "cell_type": "markdown",
   "id": "5cc9bcc8",
   "metadata": {},
   "source": [
    "Histogram"
   ]
  },
  {
   "cell_type": "code",
   "execution_count": 28,
   "id": "45f7f5f1",
   "metadata": {},
   "outputs": [
    {
     "data": {
      "image/png": "[encoded data removed]",
      "text/plain": [
       "<Figure size 432x288 with 1 Axes>"
      ]
     },
     "metadata": {
      "needs_background": "light"
     },
     "output_type": "display_data"
    }
   ],
   "source": [
    "Y, X, H = plt.hist(N, bins=10) # Histogram with 10 bins\n",
    "plt.show()"
   ]
  },
  {
   "cell_type": "markdown",
   "id": "bfeab7b2",
   "metadata": {},
   "source": [
    "Probability density function"
   ]
  },
  {
   "cell_type": "code",
   "execution_count": 29,
   "id": "b91c7a2a",
   "metadata": {},
   "outputs": [
    {
     "data": {
      "image/png": "[encoded data removed]",
      "text/plain": [
       "<Figure size 432x288 with 1 Axes>"
      ]
     },
     "metadata": {
      "needs_background": "light"
     },
     "output_type": "display_data"
    }
   ],
   "source": [
    "NS = np.std(N) #Standard Deviation value of the 1D array\n",
    "NM = np.mean(N) #Mean Value of the 1D Array\n",
    "f = (1/(NS*np.sqrt(2*np.pi)))*np.exp(-((X-NM)/(2*NS))**2) #PDF equation\n",
    "plt.plot(X, f)\n",
    "plt.show()"
   ]
  },
  {
   "cell_type": "markdown",
   "id": "5d1de368",
   "metadata": {},
   "source": [
    "# Third Part"
   ]
  },
  {
   "cell_type": "markdown",
   "id": "a43fc2d2",
   "metadata": {},
   "source": [
    "### Task 1"
   ]
  },
  {
   "cell_type": "markdown",
   "id": "bf6a454b",
   "metadata": {},
   "source": [
    "Matrix Initialization:"
   ]
  },
  {
   "cell_type": "code",
   "execution_count": 30,
   "id": "a252f2c6",
   "metadata": {},
   "outputs": [
    {
     "name": "stdout",
     "output_type": "stream",
     "text": [
      "[[2 5 1]\n",
      " [4 3 7]\n",
      " [1 3 2]]\n"
     ]
    }
   ],
   "source": [
    "A = np.array([[2, 5, 1],[4, 3, 7],[1, 3, 2]])\n",
    "print(A)"
   ]
  },
  {
   "cell_type": "markdown",
   "id": "fd1787be",
   "metadata": {},
   "source": [
    "Determinant:"
   ]
  },
  {
   "cell_type": "code",
   "execution_count": 31,
   "id": "10f2526a",
   "metadata": {},
   "outputs": [
    {
     "name": "stdout",
     "output_type": "stream",
     "text": [
      "Matrix Determinant is: -26.0\n"
     ]
    }
   ],
   "source": [
    "print('Matrix Determinant is:', round(np.linalg.det(A),1))"
   ]
  },
  {
   "cell_type": "markdown",
   "id": "be449a85",
   "metadata": {},
   "source": [
    "Trace:"
   ]
  },
  {
   "cell_type": "code",
   "execution_count": 32,
   "id": "ec61dbd2",
   "metadata": {},
   "outputs": [
    {
     "name": "stdout",
     "output_type": "stream",
     "text": [
      "Matrix Trace is: 7\n"
     ]
    }
   ],
   "source": [
    "print('Matrix Trace is:', np.trace(A))"
   ]
  },
  {
   "cell_type": "markdown",
   "id": "e3b124ec",
   "metadata": {},
   "source": [
    "Matrix Inverse:"
   ]
  },
  {
   "cell_type": "code",
   "execution_count": 33,
   "id": "68eb9277",
   "metadata": {},
   "outputs": [
    {
     "name": "stdout",
     "output_type": "stream",
     "text": [
      "Inverse of Matrix A is:\n",
      " [[ 0.57692308  0.26923077 -1.23076923]\n",
      " [ 0.03846154 -0.11538462  0.38461538]\n",
      " [-0.34615385  0.03846154  0.53846154]]\n"
     ]
    }
   ],
   "source": [
    "print('Inverse of Matrix A is:\\n', np.linalg.inv(A))"
   ]
  },
  {
   "cell_type": "markdown",
   "id": "e90ff547",
   "metadata": {},
   "source": [
    "### Task 2"
   ]
  },
  {
   "cell_type": "markdown",
   "id": "d12fbb82",
   "metadata": {},
   "source": [
    "Initialising Matrices B & C:"
   ]
  },
  {
   "cell_type": "code",
   "execution_count": 34,
   "id": "a92f9dcf",
   "metadata": {},
   "outputs": [],
   "source": [
    "B= np.array([[4,7,2],[3,2,5],[6,4,3]])\n",
    "C= np.array([[3,1,9],[7,5,8],[2,1,1]])"
   ]
  },
  {
   "cell_type": "markdown",
   "id": "18549b11",
   "metadata": {},
   "source": [
    "Product of matrices B & C:"
   ]
  },
  {
   "cell_type": "code",
   "execution_count": 35,
   "id": "d384e6ea",
   "metadata": {
    "scrolled": true
   },
   "outputs": [
    {
     "name": "stdout",
     "output_type": "stream",
     "text": [
      "Product of matrices B & C:\n",
      " [[65 41 94]\n",
      " [33 18 48]\n",
      " [52 29 89]]\n"
     ]
    }
   ],
   "source": [
    "P = np.matmul(B,C)\n",
    "print('Product of matrices B & C:\\n', P)"
   ]
  },
  {
   "cell_type": "markdown",
   "id": "e4d2e704",
   "metadata": {},
   "source": [
    "### Task 3"
   ]
  },
  {
   "cell_type": "markdown",
   "id": "61c91646",
   "metadata": {},
   "source": [
    "Initialising M & C matrices as a system of linear equations:"
   ]
  },
  {
   "cell_type": "code",
   "execution_count": 36,
   "id": "29977c72",
   "metadata": {},
   "outputs": [],
   "source": [
    "M=np.array([[3,2,-1],[2,-1,4],[4,-2,3]])\n",
    "C=np.array([[25],[19],[18]])"
   ]
  },
  {
   "cell_type": "markdown",
   "id": "769fa346",
   "metadata": {},
   "source": [
    "### Task 4"
   ]
  },
  {
   "cell_type": "markdown",
   "id": "b6cae153",
   "metadata": {},
   "source": [
    "Representing MX=C as the algebraic steps for solving the system:"
   ]
  },
  {
   "cell_type": "markdown",
   "id": "fe32fa47",
   "metadata": {},
   "source": [
    "\\begin{equation}\n",
    "\\left(\\begin{array}{c}\n",
    "3 & 2 & -1 \\\\\n",
    "2 & -1 & 3 \\\\\n",
    "4 & -2 & 3\n",
    "\\end{array}\\right)\n",
    "\\left(\\begin{array}{c} X \\\\ Y \\\\ Z\n",
    "\\end{array}\\right) =\n",
    "\\left(\\begin{array}{c} 25 \\\\ 19 \\\\ 18\n",
    "\\end{array}\\right)\n",
    "\\end{equation}"
   ]
  },
  {
   "cell_type": "markdown",
   "id": "00499832",
   "metadata": {},
   "source": [
    "### Task 5"
   ]
  },
  {
   "cell_type": "code",
   "execution_count": 37,
   "id": "eb334459",
   "metadata": {
    "scrolled": true
   },
   "outputs": [
    {
     "name": "stdout",
     "output_type": "stream",
     "text": [
      " X = [5.] \n",
      " Y = [7.] \n",
      " Z = [4.]\n"
     ]
    }
   ],
   "source": [
    "M1 = np.linalg.inv(M) # Inverse of matrix M\n",
    "X = np.matmul(M1, C) # Inv M by C to get the solution\n",
    "\n",
    "print(' X =', X[0], '\\n', 'Y =', X[1], '\\n', 'Z =', X[2])"
   ]
  },
  {
   "cell_type": "markdown",
   "id": "4daf74c9",
   "metadata": {},
   "source": [
    "Check answer's validity"
   ]
  },
  {
   "cell_type": "code",
   "execution_count": 38,
   "id": "70234770",
   "metadata": {},
   "outputs": [
    {
     "name": "stdout",
     "output_type": "stream",
     "text": [
      "Is this solution valid and correct? True\n"
     ]
    }
   ],
   "source": [
    "V = np.allclose(np.dot(M,X), C)\n",
    "print('Is this solution valid and correct?', V)"
   ]
  },
  {
   "cell_type": "markdown",
   "id": "9d64835a",
   "metadata": {},
   "source": [
    "# Fourth Part"
   ]
  },
  {
   "cell_type": "markdown",
   "id": "18821ac4",
   "metadata": {},
   "source": [
    "### Task 1"
   ]
  },
  {
   "cell_type": "markdown",
   "id": "1e2627c2",
   "metadata": {},
   "source": [
    "Taking three lines from the DLR Lines in London, Available at https://content.tfl.gov.uk/dlr-route-map.pdf"
   ]
  },
  {
   "cell_type": "markdown",
   "id": "1ac70143",
   "metadata": {},
   "source": [
    "Adding Nodes"
   ]
  },
  {
   "cell_type": "code",
   "execution_count": 39,
   "id": "0a933739",
   "metadata": {},
   "outputs": [],
   "source": [
    "City = nx.Graph() #Create an empty graph\n",
    "\n",
    "#DLR Lines\n",
    "\n",
    "#Line 1\n",
    "City.add_node('A', npos=(10,50), ccn='#004225') #Bank\n",
    "City.add_node('B', npos=(15,35), ccn='#e4d00a') #Shadwell #Shared node etween lines 1 & 2\n",
    "City.add_node('C', npos=(20,35), ccn='#e4d00a') #Westferry #Shared node etween lines 1 & 2\n",
    "City.add_node('D', npos=(25,27), ccn='#004225') #Canary Wharf\n",
    "City.add_node('E', npos=(25,5), ccn='#004225') #Greenwich\n",
    "\n",
    "#Line 2\n",
    "City.add_node('F', npos=(10,25), ccn='#2a52be') #Tower Gateway\n",
    "City.add_node('G', npos=(25,35), ccn='#2a52be') #Poplar\n",
    "City.add_node('H', npos=(40,35), ccn='#fbcce7') #Canning Town #Shared node between lines 2 & 3\n",
    "City.add_node('I', npos=(60,35), ccn='#2a52be') #Custom house ExCeL\n",
    "City.add_node('J', npos=(80,25), ccn='#2a52be') #Beckton\n",
    "\n",
    "#Line 3\n",
    "City.add_node('K', npos=(33,80), ccn='#c19a6b') #Stratford International\n",
    "City.add_node('L', npos=(33,55), ccn='#c19a6b') #West Ham\n",
    "City.add_node('M', npos=(33,40), ccn='#c19a6b') #Star Lane\n",
    "City.add_node('N', npos=(62,23), ccn='#c19a6b') #London City Airport\n",
    "City.add_node('O', npos=(67,17), ccn='#c19a6b') #King George V\n",
    "City.add_node('P', npos=(70,10), ccn='#c19a6b') #Woolwich Arsenal"
   ]
  },
  {
   "cell_type": "markdown",
   "id": "a69d2ee4",
   "metadata": {},
   "source": [
    "Adding Edges"
   ]
  },
  {
   "cell_type": "code",
   "execution_count": 40,
   "id": "797074f4",
   "metadata": {},
   "outputs": [],
   "source": [
    "#Line1\n",
    "City.add_edge('A','B', cce='#004225', distance=2.8)\n",
    "City.add_edge('B','C', cce='#e4d00a', distance=3.0) #Shared edge between lines 1 & 2\n",
    "City.add_edge('C','D', cce='#004225', distance=0.8)\n",
    "City.add_edge('D','E', cce='#004225', distance=3.5)\n",
    "\n",
    "#Line2\n",
    "City.add_edge('F','B', cce='#2a52be', distance=1.7)\n",
    "City.add_edge('C','G', cce='#2a52be', distance=0.7)\n",
    "City.add_edge('G','H', cce='#2a52be', distance=2.5)\n",
    "City.add_edge('H','I', cce='#2a52be', distance=1.6)\n",
    "City.add_edge('I','J', cce='#2a52be', distance=4.0)\n",
    "\n",
    "#Line3\n",
    "City.add_edge('K','L', cce='#c19a6b', distance=3.4)\n",
    "City.add_edge('L','M', cce='#c19a6b', distance=1.0)\n",
    "City.add_edge('M','H', cce='#c19a6b', distance=0.8)\n",
    "City.add_edge('H','N', cce='#c19a6b', distance=4.8)\n",
    "City.add_edge('N','O', cce='#c19a6b', distance=1.0)\n",
    "City.add_edge('O','P', cce='#c19a6b', distance=3.2)"
   ]
  },
  {
   "cell_type": "markdown",
   "id": "8663642a",
   "metadata": {},
   "source": [
    "Initializing Parameters"
   ]
  },
  {
   "cell_type": "code",
   "execution_count": 41,
   "id": "359154fc",
   "metadata": {},
   "outputs": [],
   "source": [
    "position = nx.get_node_attributes(City,'npos')\n",
    "nodecolor = nx.get_node_attributes(City,'ccn')\n",
    "edgecolor = nx.get_edge_attributes(City,'cce')\n",
    "\n",
    "Nodes = list(nodecolor.values())\n",
    "Edges= list(edgecolor.values())"
   ]
  },
  {
   "cell_type": "markdown",
   "id": "d33693ff",
   "metadata": {},
   "source": [
    "Plotting"
   ]
  },
  {
   "cell_type": "code",
   "execution_count": 42,
   "id": "5ac6435d",
   "metadata": {},
   "outputs": [
    {
     "data": {
      "image/png": "[encoded data removed]",
      "text/plain": [
       "<Figure size 720x720 with 1 Axes>"
      ]
     },
     "metadata": {},
     "output_type": "display_data"
    }
   ],
   "source": [
    "plt.figure(figsize=(10, 10)) #Set the figure size\n",
    "\n",
    "#Line 1\n",
    "plt.text(7, 52, 'Bank')\n",
    "plt.text(14, 31, 'Shadwell')\n",
    "plt.text(17, 37, 'Westferry')\n",
    "plt.text(26, 25, 'Canary Wharf')\n",
    "plt.text(27, 3, 'Greenwich')\n",
    "\n",
    "#Line 2\n",
    "plt.text(7, 22, 'Tower Gateway')\n",
    "plt.text(25, 37, 'Poplar')\n",
    "plt.text(32, 32, 'Canning Town')\n",
    "plt.text(52, 37, 'Custom house ExCeL')\n",
    "plt.text(73, 23, 'Beckton')\n",
    "\n",
    "#Line 3\n",
    "plt.text(35, 80, 'Stratford International')\n",
    "plt.text(35, 55, 'West Ham')\n",
    "plt.text(35, 40, 'Star Lane')\n",
    "plt.text(49, 20, 'London City Airport')\n",
    "plt.text(69, 15, 'King George V')\n",
    "plt.text(64, 7, 'Woolwich Arsenal')\n",
    "\n",
    "nx.draw_networkx(City, position, node_color=Nodes)\n",
    "nx.draw_networkx_edges(City, position, edge_color=Edges)\n",
    "plt.show()"
   ]
  },
  {
   "cell_type": "markdown",
   "id": "9fc2b207",
   "metadata": {},
   "source": [
    "### Task 2"
   ]
  },
  {
   "cell_type": "markdown",
   "id": "0b622bda",
   "metadata": {},
   "source": [
    "All data collected from https://en.climate-data.org/"
   ]
  },
  {
   "cell_type": "code",
   "execution_count": 43,
   "id": "83466c0a",
   "metadata": {},
   "outputs": [],
   "source": [
    "Temp = pd.read_csv('CWHM.csv')"
   ]
  },
  {
   "cell_type": "markdown",
   "id": "09bb8b25",
   "metadata": {},
   "source": [
    "Define the DrawBox function:"
   ]
  },
  {
   "cell_type": "code",
   "execution_count": 44,
   "id": "664aaad8",
   "metadata": {},
   "outputs": [],
   "source": [
    "def DrawBox(x, y, size, r, g, b):\n",
    "    if r < 0:\n",
    "        r = int(0)\n",
    "    if g < 0:\n",
    "        g = int(0)\n",
    "    if b < 0:\n",
    "        b = int(0)\n",
    "    if r > 255:\n",
    "        r = int(255)\n",
    "    if g > 255:\n",
    "        g = int(255)\n",
    "    if b > 255:\n",
    "        b = int(255)\n",
    "    for i in range(0, int(size)):\n",
    "        plt.plot([x, x + size], [y + i, y + i], '#{:02x}{:02x}{:02x}'.format(r, g, b))"
   ]
  },
  {
   "cell_type": "markdown",
   "id": "4850b1dc",
   "metadata": {},
   "source": [
    "Declaring and initializing important variables:"
   ]
  },
  {
   "cell_type": "code",
   "execution_count": 45,
   "id": "879d58e9",
   "metadata": {},
   "outputs": [],
   "source": [
    "Min = int(min(Temp.min(numeric_only=True)))\n",
    "Max = int(max(Temp.max(numeric_only=True)))\n",
    "\n",
    "BoxSize = int(40)\n",
    "OffsetX = int(15)\n",
    "OffsetY = int(3)\n",
    "\n",
    "RowNo = Temp.shape[0] # Number of Rows\n",
    "ColNo = Temp.shape[1] # Number of Columns"
   ]
  },
  {
   "cell_type": "markdown",
   "id": "9659c437",
   "metadata": {},
   "source": [
    "Asking the user to enter the threshold:"
   ]
  },
  {
   "cell_type": "code",
   "execution_count": 46,
   "id": "8e439142",
   "metadata": {},
   "outputs": [
    {
     "name": "stdout",
     "output_type": "stream",
     "text": [
      "Please enter a Threshold in Celesius degrees: 5\n"
     ]
    }
   ],
   "source": [
    "Threshold = float (input('Please enter a Threshold in Celesius degrees: '))"
   ]
  },
  {
   "cell_type": "markdown",
   "id": "04bf693c",
   "metadata": {},
   "source": [
    "Plotting"
   ]
  },
  {
   "cell_type": "code",
   "execution_count": 47,
   "id": "4a473dd6",
   "metadata": {},
   "outputs": [
    {
     "data": {
      "image/png": "[encoded data removed]",
      "text/plain": [
       "<Figure size 1440x720 with 1 Axes>"
      ]
     },
     "metadata": {},
     "output_type": "display_data"
    }
   ],
   "source": [
    "# Setting figure size and removing X & Y labels\n",
    "plt.figure(figsize=(20, 10))\n",
    "plt.xticks([])\n",
    "plt.yticks([])\n",
    "\n",
    "#Drawing the Heatmap\n",
    "for i in range(0, RowNo):\n",
    "    for j in range(1, ColNo):\n",
    "        ColourCode = int(((Temp.values[i, j]-Min)/(Max-Min))*255)\n",
    "        plt.text(OffsetX+20+BoxSize*j, OffsetY+300-BoxSize*i, str(Temp.values[i, j]), color='Black')\n",
    "        # Using the IF statement to draw the HM above and below the user-entered threshold accordingly.\n",
    "        if (Temp.values[i,j]) > float(Threshold):\n",
    "            DrawBox(20+BoxSize*j, 300-BoxSize*i, BoxSize, ColourCode, 150, 155)\n",
    "        else:\n",
    "            DrawBox(20+BoxSize*j, 300-BoxSize*i, BoxSize, 25, 50, ColourCode)\n",
    "    \n",
    "#Set Below Threshold Bar: \n",
    "for i in range(0, 50):\n",
    "    plt.plot([540, 550], [i+ 120 , i +120 ], '#{:02x}{:02x}{:02x}'.format(25, 50, int(i)))\n",
    "   \n",
    "plt.text(505,140,'Below')\n",
    "plt.text(525,140,int(Threshold))\n",
    "plt.text(530,140,'° C')\n",
    "\n",
    "#Set Above Threshold Bar:    \n",
    "for i in range(0, 256):\n",
    "    plt.plot([560, 570], [i + 120 , i +120 ], '#{:02x}{:02x}{:02x}'.format(int(i), 150, 155))\n",
    "\n",
    "plt.text(575, 116, int(Threshold)) #Taking the Threshold as a minimum for the color line legend\n",
    "plt.text(582,370,'° C')\n",
    "plt.text(580,116,'° C')\n",
    "plt.text(575, 370, Max)\n",
    "\n",
    "#Drawing the X-label of the table\n",
    "plt.text(65 , 200, 'January')\n",
    "plt.text(105, 200, 'February')\n",
    "plt.text(155, 200, 'March')\n",
    "plt.text(195, 200, 'April')\n",
    "plt.text(235, 200, 'May')\n",
    "plt.text(270, 200, 'June')\n",
    "plt.text(310, 200, 'July')\n",
    "plt.text(350, 200, 'August')\n",
    "plt.text(385, 200, 'September')\n",
    "plt.text(425, 200, 'October')\n",
    "plt.text(465, 200, 'November')\n",
    "plt.text(505, 200, 'December')\n",
    "\n",
    "#Drawing the Y-label of the table\n",
    "plt.text(5, 315, str(Temp.values[0, 0]))\n",
    "plt.text(5, 275, str(Temp.values[1, 0]))\n",
    "plt.text(5, 235, str(Temp.values[2, 0]))\n",
    "\n",
    "plt.show()"
   ]
  }
 ],
 "metadata": {
  "kernelspec": {
   "display_name": "Python 3",
   "language": "python",
   "name": "python3"
  },
  "language_info": {
   "codemirror_mode": {
    "name": "ipython",
    "version": 3
   },
   "file_extension": ".py",
   "mimetype": "text/x-python",
   "name": "python",
   "nbconvert_exporter": "python",
   "pygments_lexer": "ipython3",
   "version": "3.8.8"
  }
 },
 "nbformat": 4,
 "nbformat_minor": 5
}

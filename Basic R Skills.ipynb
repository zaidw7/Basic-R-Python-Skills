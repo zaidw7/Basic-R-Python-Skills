{
 "cells": [
  {
   "cell_type": "markdown",
   "id": "e390b546",
   "metadata": {},
   "source": [
    "# Libraries"
   ]
  },
  {
   "cell_type": "code",
   "execution_count": 2,
   "id": "5aa9a257",
   "metadata": {},
   "outputs": [],
   "source": [
    "library(tidyr)\n",
    "library(stringr)\n",
    "library(tidyverse)\n",
    "library(modeest)"
   ]
  },
  {
   "cell_type": "markdown",
   "id": "449dc4f2",
   "metadata": {},
   "source": [
    "# First Portfolio Part"
   ]
  },
  {
   "cell_type": "markdown",
   "id": "763a688a",
   "metadata": {},
   "source": [
    "0. Test the data"
   ]
  },
  {
   "cell_type": "code",
   "execution_count": 3,
   "id": "24a99962",
   "metadata": {},
   "outputs": [],
   "source": [
    "TB <- tidyr::who"
   ]
  },
  {
   "cell_type": "code",
   "execution_count": 4,
   "id": "3bb88eba",
   "metadata": {
    "scrolled": true
   },
   "outputs": [
    {
     "data": {
      "text/html": [
       "<table class=\"dataframe\">\n",
       "<caption>A tibble: 7240 × 60</caption>\n",
       "<thead>\n",
       "\t<tr><th scope=col>country</th><th scope=col>iso2</th><th scope=col>iso3</th><th scope=col>year</th><th scope=col>new_sp_m014</th><th scope=col>new_sp_m1524</th><th scope=col>new_sp_m2534</th><th scope=col>new_sp_m3544</th><th scope=col>new_sp_m4554</th><th scope=col>new_sp_m5564</th><th scope=col>...</th><th scope=col>newrel_m4554</th><th scope=col>newrel_m5564</th><th scope=col>newrel_m65</th><th scope=col>newrel_f014</th><th scope=col>newrel_f1524</th><th scope=col>newrel_f2534</th><th scope=col>newrel_f3544</th><th scope=col>newrel_f4554</th><th scope=col>newrel_f5564</th><th scope=col>newrel_f65</th></tr>\n",
       "\t<tr><th scope=col>&lt;chr&gt;</th><th scope=col>&lt;chr&gt;</th><th scope=col>&lt;chr&gt;</th><th scope=col>&lt;int&gt;</th><th scope=col>&lt;int&gt;</th><th scope=col>&lt;int&gt;</th><th scope=col>&lt;int&gt;</th><th scope=col>&lt;int&gt;</th><th scope=col>&lt;int&gt;</th><th scope=col>&lt;int&gt;</th><th scope=col>...</th><th scope=col>&lt;int&gt;</th><th scope=col>&lt;int&gt;</th><th scope=col>&lt;int&gt;</th><th scope=col>&lt;int&gt;</th><th scope=col>&lt;int&gt;</th><th scope=col>&lt;int&gt;</th><th scope=col>&lt;int&gt;</th><th scope=col>&lt;int&gt;</th><th scope=col>&lt;int&gt;</th><th scope=col>&lt;int&gt;</th></tr>\n",
       "</thead>\n",
       "<tbody>\n",
       "\t<tr><td>Afghanistan</td><td>AF</td><td>AFG</td><td>1980</td><td> NA</td><td> NA</td><td> NA</td><td> NA</td><td> NA</td><td> NA</td><td>...</td><td>NA</td><td>NA</td><td>NA</td><td>NA</td><td>NA</td><td>NA</td><td>NA</td><td>NA</td><td>NA</td><td>NA</td></tr>\n",
       "\t<tr><td>Afghanistan</td><td>AF</td><td>AFG</td><td>1981</td><td> NA</td><td> NA</td><td> NA</td><td> NA</td><td> NA</td><td> NA</td><td>...</td><td>NA</td><td>NA</td><td>NA</td><td>NA</td><td>NA</td><td>NA</td><td>NA</td><td>NA</td><td>NA</td><td>NA</td></tr>\n",
       "\t<tr><td>Afghanistan</td><td>AF</td><td>AFG</td><td>1982</td><td> NA</td><td> NA</td><td> NA</td><td> NA</td><td> NA</td><td> NA</td><td>...</td><td>NA</td><td>NA</td><td>NA</td><td>NA</td><td>NA</td><td>NA</td><td>NA</td><td>NA</td><td>NA</td><td>NA</td></tr>\n",
       "\t<tr><td>Afghanistan</td><td>AF</td><td>AFG</td><td>1983</td><td> NA</td><td> NA</td><td> NA</td><td> NA</td><td> NA</td><td> NA</td><td>...</td><td>NA</td><td>NA</td><td>NA</td><td>NA</td><td>NA</td><td>NA</td><td>NA</td><td>NA</td><td>NA</td><td>NA</td></tr>\n",
       "\t<tr><td>Afghanistan</td><td>AF</td><td>AFG</td><td>1984</td><td> NA</td><td> NA</td><td> NA</td><td> NA</td><td> NA</td><td> NA</td><td>...</td><td>NA</td><td>NA</td><td>NA</td><td>NA</td><td>NA</td><td>NA</td><td>NA</td><td>NA</td><td>NA</td><td>NA</td></tr>\n",
       "\t<tr><td>Afghanistan</td><td>AF</td><td>AFG</td><td>1985</td><td> NA</td><td> NA</td><td> NA</td><td> NA</td><td> NA</td><td> NA</td><td>...</td><td>NA</td><td>NA</td><td>NA</td><td>NA</td><td>NA</td><td>NA</td><td>NA</td><td>NA</td><td>NA</td><td>NA</td></tr>\n",
       "\t<tr><td>Afghanistan</td><td>AF</td><td>AFG</td><td>1986</td><td> NA</td><td> NA</td><td> NA</td><td> NA</td><td> NA</td><td> NA</td><td>...</td><td>NA</td><td>NA</td><td>NA</td><td>NA</td><td>NA</td><td>NA</td><td>NA</td><td>NA</td><td>NA</td><td>NA</td></tr>\n",
       "\t<tr><td>Afghanistan</td><td>AF</td><td>AFG</td><td>1987</td><td> NA</td><td> NA</td><td> NA</td><td> NA</td><td> NA</td><td> NA</td><td>...</td><td>NA</td><td>NA</td><td>NA</td><td>NA</td><td>NA</td><td>NA</td><td>NA</td><td>NA</td><td>NA</td><td>NA</td></tr>\n",
       "\t<tr><td>Afghanistan</td><td>AF</td><td>AFG</td><td>1988</td><td> NA</td><td> NA</td><td> NA</td><td> NA</td><td> NA</td><td> NA</td><td>...</td><td>NA</td><td>NA</td><td>NA</td><td>NA</td><td>NA</td><td>NA</td><td>NA</td><td>NA</td><td>NA</td><td>NA</td></tr>\n",
       "\t<tr><td>Afghanistan</td><td>AF</td><td>AFG</td><td>1989</td><td> NA</td><td> NA</td><td> NA</td><td> NA</td><td> NA</td><td> NA</td><td>...</td><td>NA</td><td>NA</td><td>NA</td><td>NA</td><td>NA</td><td>NA</td><td>NA</td><td>NA</td><td>NA</td><td>NA</td></tr>\n",
       "\t<tr><td>Afghanistan</td><td>AF</td><td>AFG</td><td>1990</td><td> NA</td><td> NA</td><td> NA</td><td> NA</td><td> NA</td><td> NA</td><td>...</td><td>NA</td><td>NA</td><td>NA</td><td>NA</td><td>NA</td><td>NA</td><td>NA</td><td>NA</td><td>NA</td><td>NA</td></tr>\n",
       "\t<tr><td>Afghanistan</td><td>AF</td><td>AFG</td><td>1991</td><td> NA</td><td> NA</td><td> NA</td><td> NA</td><td> NA</td><td> NA</td><td>...</td><td>NA</td><td>NA</td><td>NA</td><td>NA</td><td>NA</td><td>NA</td><td>NA</td><td>NA</td><td>NA</td><td>NA</td></tr>\n",
       "\t<tr><td>Afghanistan</td><td>AF</td><td>AFG</td><td>1992</td><td> NA</td><td> NA</td><td> NA</td><td> NA</td><td> NA</td><td> NA</td><td>...</td><td>NA</td><td>NA</td><td>NA</td><td>NA</td><td>NA</td><td>NA</td><td>NA</td><td>NA</td><td>NA</td><td>NA</td></tr>\n",
       "\t<tr><td>Afghanistan</td><td>AF</td><td>AFG</td><td>1993</td><td> NA</td><td> NA</td><td> NA</td><td> NA</td><td> NA</td><td> NA</td><td>...</td><td>NA</td><td>NA</td><td>NA</td><td>NA</td><td>NA</td><td>NA</td><td>NA</td><td>NA</td><td>NA</td><td>NA</td></tr>\n",
       "\t<tr><td>Afghanistan</td><td>AF</td><td>AFG</td><td>1994</td><td> NA</td><td> NA</td><td> NA</td><td> NA</td><td> NA</td><td> NA</td><td>...</td><td>NA</td><td>NA</td><td>NA</td><td>NA</td><td>NA</td><td>NA</td><td>NA</td><td>NA</td><td>NA</td><td>NA</td></tr>\n",
       "\t<tr><td>Afghanistan</td><td>AF</td><td>AFG</td><td>1995</td><td> NA</td><td> NA</td><td> NA</td><td> NA</td><td> NA</td><td> NA</td><td>...</td><td>NA</td><td>NA</td><td>NA</td><td>NA</td><td>NA</td><td>NA</td><td>NA</td><td>NA</td><td>NA</td><td>NA</td></tr>\n",
       "\t<tr><td>Afghanistan</td><td>AF</td><td>AFG</td><td>1996</td><td> NA</td><td> NA</td><td> NA</td><td> NA</td><td> NA</td><td> NA</td><td>...</td><td>NA</td><td>NA</td><td>NA</td><td>NA</td><td>NA</td><td>NA</td><td>NA</td><td>NA</td><td>NA</td><td>NA</td></tr>\n",
       "\t<tr><td>Afghanistan</td><td>AF</td><td>AFG</td><td>1997</td><td>  0</td><td> 10</td><td>  6</td><td>  3</td><td>  5</td><td>  2</td><td>...</td><td>NA</td><td>NA</td><td>NA</td><td>NA</td><td>NA</td><td>NA</td><td>NA</td><td>NA</td><td>NA</td><td>NA</td></tr>\n",
       "\t<tr><td>Afghanistan</td><td>AF</td><td>AFG</td><td>1998</td><td> 30</td><td>129</td><td>128</td><td> 90</td><td> 89</td><td> 64</td><td>...</td><td>NA</td><td>NA</td><td>NA</td><td>NA</td><td>NA</td><td>NA</td><td>NA</td><td>NA</td><td>NA</td><td>NA</td></tr>\n",
       "\t<tr><td>Afghanistan</td><td>AF</td><td>AFG</td><td>1999</td><td>  8</td><td> 55</td><td> 55</td><td> 47</td><td> 34</td><td> 21</td><td>...</td><td>NA</td><td>NA</td><td>NA</td><td>NA</td><td>NA</td><td>NA</td><td>NA</td><td>NA</td><td>NA</td><td>NA</td></tr>\n",
       "\t<tr><td>Afghanistan</td><td>AF</td><td>AFG</td><td>2000</td><td> 52</td><td>228</td><td>183</td><td>149</td><td>129</td><td> 94</td><td>...</td><td>NA</td><td>NA</td><td>NA</td><td>NA</td><td>NA</td><td>NA</td><td>NA</td><td>NA</td><td>NA</td><td>NA</td></tr>\n",
       "\t<tr><td>Afghanistan</td><td>AF</td><td>AFG</td><td>2001</td><td>129</td><td>379</td><td>349</td><td>274</td><td>204</td><td>139</td><td>...</td><td>NA</td><td>NA</td><td>NA</td><td>NA</td><td>NA</td><td>NA</td><td>NA</td><td>NA</td><td>NA</td><td>NA</td></tr>\n",
       "\t<tr><td>Afghanistan</td><td>AF</td><td>AFG</td><td>2002</td><td> 90</td><td>476</td><td>481</td><td>368</td><td>246</td><td>241</td><td>...</td><td>NA</td><td>NA</td><td>NA</td><td>NA</td><td>NA</td><td>NA</td><td>NA</td><td>NA</td><td>NA</td><td>NA</td></tr>\n",
       "\t<tr><td>Afghanistan</td><td>AF</td><td>AFG</td><td>2003</td><td>127</td><td>511</td><td>436</td><td>284</td><td>256</td><td>288</td><td>...</td><td>NA</td><td>NA</td><td>NA</td><td>NA</td><td>NA</td><td>NA</td><td>NA</td><td>NA</td><td>NA</td><td>NA</td></tr>\n",
       "\t<tr><td>Afghanistan</td><td>AF</td><td>AFG</td><td>2004</td><td>139</td><td>537</td><td>568</td><td>360</td><td>358</td><td>386</td><td>...</td><td>NA</td><td>NA</td><td>NA</td><td>NA</td><td>NA</td><td>NA</td><td>NA</td><td>NA</td><td>NA</td><td>NA</td></tr>\n",
       "\t<tr><td>Afghanistan</td><td>AF</td><td>AFG</td><td>2005</td><td>151</td><td>606</td><td>560</td><td>472</td><td>453</td><td>470</td><td>...</td><td>NA</td><td>NA</td><td>NA</td><td>NA</td><td>NA</td><td>NA</td><td>NA</td><td>NA</td><td>NA</td><td>NA</td></tr>\n",
       "\t<tr><td>Afghanistan</td><td>AF</td><td>AFG</td><td>2006</td><td>193</td><td>837</td><td>791</td><td>574</td><td>572</td><td>572</td><td>...</td><td>NA</td><td>NA</td><td>NA</td><td>NA</td><td>NA</td><td>NA</td><td>NA</td><td>NA</td><td>NA</td><td>NA</td></tr>\n",
       "\t<tr><td>Afghanistan</td><td>AF</td><td>AFG</td><td>2007</td><td>186</td><td>856</td><td>840</td><td>597</td><td>566</td><td>630</td><td>...</td><td>NA</td><td>NA</td><td>NA</td><td>NA</td><td>NA</td><td>NA</td><td>NA</td><td>NA</td><td>NA</td><td>NA</td></tr>\n",
       "\t<tr><td>Afghanistan</td><td>AF</td><td>AFG</td><td>2008</td><td>187</td><td>941</td><td>773</td><td>545</td><td>570</td><td>630</td><td>...</td><td>NA</td><td>NA</td><td>NA</td><td>NA</td><td>NA</td><td>NA</td><td>NA</td><td>NA</td><td>NA</td><td>NA</td></tr>\n",
       "\t<tr><td>Afghanistan</td><td>AF</td><td>AFG</td><td>2009</td><td>200</td><td>906</td><td>705</td><td>499</td><td>491</td><td>596</td><td>...</td><td>NA</td><td>NA</td><td>NA</td><td>NA</td><td>NA</td><td>NA</td><td>NA</td><td>NA</td><td>NA</td><td>NA</td></tr>\n",
       "\t<tr><td>...</td><td>...</td><td>...</td><td>...</td><td>...</td><td>...</td><td>...</td><td>...</td><td>...</td><td>...</td><td></td><td>...</td><td>...</td><td>...</td><td>...</td><td>...</td><td>...</td><td>...</td><td>...</td><td>...</td><td>...</td></tr>\n",
       "\t<tr><td>Zimbabwe</td><td>ZW</td><td>ZWE</td><td>1984</td><td> NA</td><td> NA</td><td>  NA</td><td>  NA</td><td>  NA</td><td> NA</td><td>...</td><td>  NA</td><td>  NA</td><td>  NA</td><td>  NA</td><td>  NA</td><td>  NA</td><td>  NA</td><td>  NA</td><td> NA</td><td> NA</td></tr>\n",
       "\t<tr><td>Zimbabwe</td><td>ZW</td><td>ZWE</td><td>1985</td><td> NA</td><td> NA</td><td>  NA</td><td>  NA</td><td>  NA</td><td> NA</td><td>...</td><td>  NA</td><td>  NA</td><td>  NA</td><td>  NA</td><td>  NA</td><td>  NA</td><td>  NA</td><td>  NA</td><td> NA</td><td> NA</td></tr>\n",
       "\t<tr><td>Zimbabwe</td><td>ZW</td><td>ZWE</td><td>1986</td><td> NA</td><td> NA</td><td>  NA</td><td>  NA</td><td>  NA</td><td> NA</td><td>...</td><td>  NA</td><td>  NA</td><td>  NA</td><td>  NA</td><td>  NA</td><td>  NA</td><td>  NA</td><td>  NA</td><td> NA</td><td> NA</td></tr>\n",
       "\t<tr><td>Zimbabwe</td><td>ZW</td><td>ZWE</td><td>1987</td><td> NA</td><td> NA</td><td>  NA</td><td>  NA</td><td>  NA</td><td> NA</td><td>...</td><td>  NA</td><td>  NA</td><td>  NA</td><td>  NA</td><td>  NA</td><td>  NA</td><td>  NA</td><td>  NA</td><td> NA</td><td> NA</td></tr>\n",
       "\t<tr><td>Zimbabwe</td><td>ZW</td><td>ZWE</td><td>1988</td><td> NA</td><td> NA</td><td>  NA</td><td>  NA</td><td>  NA</td><td> NA</td><td>...</td><td>  NA</td><td>  NA</td><td>  NA</td><td>  NA</td><td>  NA</td><td>  NA</td><td>  NA</td><td>  NA</td><td> NA</td><td> NA</td></tr>\n",
       "\t<tr><td>Zimbabwe</td><td>ZW</td><td>ZWE</td><td>1989</td><td> NA</td><td> NA</td><td>  NA</td><td>  NA</td><td>  NA</td><td> NA</td><td>...</td><td>  NA</td><td>  NA</td><td>  NA</td><td>  NA</td><td>  NA</td><td>  NA</td><td>  NA</td><td>  NA</td><td> NA</td><td> NA</td></tr>\n",
       "\t<tr><td>Zimbabwe</td><td>ZW</td><td>ZWE</td><td>1990</td><td> NA</td><td> NA</td><td>  NA</td><td>  NA</td><td>  NA</td><td> NA</td><td>...</td><td>  NA</td><td>  NA</td><td>  NA</td><td>  NA</td><td>  NA</td><td>  NA</td><td>  NA</td><td>  NA</td><td> NA</td><td> NA</td></tr>\n",
       "\t<tr><td>Zimbabwe</td><td>ZW</td><td>ZWE</td><td>1991</td><td> NA</td><td> NA</td><td>  NA</td><td>  NA</td><td>  NA</td><td> NA</td><td>...</td><td>  NA</td><td>  NA</td><td>  NA</td><td>  NA</td><td>  NA</td><td>  NA</td><td>  NA</td><td>  NA</td><td> NA</td><td> NA</td></tr>\n",
       "\t<tr><td>Zimbabwe</td><td>ZW</td><td>ZWE</td><td>1992</td><td> NA</td><td> NA</td><td>  NA</td><td>  NA</td><td>  NA</td><td> NA</td><td>...</td><td>  NA</td><td>  NA</td><td>  NA</td><td>  NA</td><td>  NA</td><td>  NA</td><td>  NA</td><td>  NA</td><td> NA</td><td> NA</td></tr>\n",
       "\t<tr><td>Zimbabwe</td><td>ZW</td><td>ZWE</td><td>1993</td><td> NA</td><td> NA</td><td>  NA</td><td>  NA</td><td>  NA</td><td> NA</td><td>...</td><td>  NA</td><td>  NA</td><td>  NA</td><td>  NA</td><td>  NA</td><td>  NA</td><td>  NA</td><td>  NA</td><td> NA</td><td> NA</td></tr>\n",
       "\t<tr><td>Zimbabwe</td><td>ZW</td><td>ZWE</td><td>1994</td><td> NA</td><td> NA</td><td>  NA</td><td>  NA</td><td>  NA</td><td> NA</td><td>...</td><td>  NA</td><td>  NA</td><td>  NA</td><td>  NA</td><td>  NA</td><td>  NA</td><td>  NA</td><td>  NA</td><td> NA</td><td> NA</td></tr>\n",
       "\t<tr><td>Zimbabwe</td><td>ZW</td><td>ZWE</td><td>1995</td><td> NA</td><td> NA</td><td>  NA</td><td>  NA</td><td>  NA</td><td> NA</td><td>...</td><td>  NA</td><td>  NA</td><td>  NA</td><td>  NA</td><td>  NA</td><td>  NA</td><td>  NA</td><td>  NA</td><td> NA</td><td> NA</td></tr>\n",
       "\t<tr><td>Zimbabwe</td><td>ZW</td><td>ZWE</td><td>1996</td><td> NA</td><td> NA</td><td>  NA</td><td>  NA</td><td>  NA</td><td> NA</td><td>...</td><td>  NA</td><td>  NA</td><td>  NA</td><td>  NA</td><td>  NA</td><td>  NA</td><td>  NA</td><td>  NA</td><td> NA</td><td> NA</td></tr>\n",
       "\t<tr><td>Zimbabwe</td><td>ZW</td><td>ZWE</td><td>1997</td><td> NA</td><td> NA</td><td>  NA</td><td>  NA</td><td>  NA</td><td> NA</td><td>...</td><td>  NA</td><td>  NA</td><td>  NA</td><td>  NA</td><td>  NA</td><td>  NA</td><td>  NA</td><td>  NA</td><td> NA</td><td> NA</td></tr>\n",
       "\t<tr><td>Zimbabwe</td><td>ZW</td><td>ZWE</td><td>1998</td><td> NA</td><td> NA</td><td>  NA</td><td>  NA</td><td>  NA</td><td> NA</td><td>...</td><td>  NA</td><td>  NA</td><td>  NA</td><td>  NA</td><td>  NA</td><td>  NA</td><td>  NA</td><td>  NA</td><td> NA</td><td> NA</td></tr>\n",
       "\t<tr><td>Zimbabwe</td><td>ZW</td><td>ZWE</td><td>1999</td><td> NA</td><td> NA</td><td>  NA</td><td>  NA</td><td>  NA</td><td> NA</td><td>...</td><td>  NA</td><td>  NA</td><td>  NA</td><td>  NA</td><td>  NA</td><td>  NA</td><td>  NA</td><td>  NA</td><td> NA</td><td> NA</td></tr>\n",
       "\t<tr><td>Zimbabwe</td><td>ZW</td><td>ZWE</td><td>2000</td><td> NA</td><td> NA</td><td>  NA</td><td>  NA</td><td>  NA</td><td> NA</td><td>...</td><td>  NA</td><td>  NA</td><td>  NA</td><td>  NA</td><td>  NA</td><td>  NA</td><td>  NA</td><td>  NA</td><td> NA</td><td> NA</td></tr>\n",
       "\t<tr><td>Zimbabwe</td><td>ZW</td><td>ZWE</td><td>2001</td><td> NA</td><td> NA</td><td>  NA</td><td>  NA</td><td>  NA</td><td> NA</td><td>...</td><td>  NA</td><td>  NA</td><td>  NA</td><td>  NA</td><td>  NA</td><td>  NA</td><td>  NA</td><td>  NA</td><td> NA</td><td> NA</td></tr>\n",
       "\t<tr><td>Zimbabwe</td><td>ZW</td><td>ZWE</td><td>2002</td><td>191</td><td>600</td><td>2548</td><td>1662</td><td> 744</td><td>315</td><td>...</td><td>  NA</td><td>  NA</td><td>  NA</td><td>  NA</td><td>  NA</td><td>  NA</td><td>  NA</td><td>  NA</td><td> NA</td><td> NA</td></tr>\n",
       "\t<tr><td>Zimbabwe</td><td>ZW</td><td>ZWE</td><td>2003</td><td>133</td><td>874</td><td>3048</td><td>2228</td><td> 981</td><td>367</td><td>...</td><td>  NA</td><td>  NA</td><td>  NA</td><td>  NA</td><td>  NA</td><td>  NA</td><td>  NA</td><td>  NA</td><td> NA</td><td> NA</td></tr>\n",
       "\t<tr><td>Zimbabwe</td><td>ZW</td><td>ZWE</td><td>2004</td><td>187</td><td>833</td><td>2908</td><td>2298</td><td>1056</td><td>366</td><td>...</td><td>  NA</td><td>  NA</td><td>  NA</td><td>  NA</td><td>  NA</td><td>  NA</td><td>  NA</td><td>  NA</td><td> NA</td><td> NA</td></tr>\n",
       "\t<tr><td>Zimbabwe</td><td>ZW</td><td>ZWE</td><td>2005</td><td>210</td><td>837</td><td>2264</td><td>1855</td><td> 762</td><td>295</td><td>...</td><td>  NA</td><td>  NA</td><td>  NA</td><td>  NA</td><td>  NA</td><td>  NA</td><td>  NA</td><td>  NA</td><td> NA</td><td> NA</td></tr>\n",
       "\t<tr><td>Zimbabwe</td><td>ZW</td><td>ZWE</td><td>2006</td><td>215</td><td>736</td><td>2391</td><td>1939</td><td> 896</td><td>348</td><td>...</td><td>  NA</td><td>  NA</td><td>  NA</td><td>  NA</td><td>  NA</td><td>  NA</td><td>  NA</td><td>  NA</td><td> NA</td><td> NA</td></tr>\n",
       "\t<tr><td>Zimbabwe</td><td>ZW</td><td>ZWE</td><td>2007</td><td>138</td><td>500</td><td>3693</td><td>   0</td><td> 716</td><td>292</td><td>...</td><td>  NA</td><td>  NA</td><td>  NA</td><td>  NA</td><td>  NA</td><td>  NA</td><td>  NA</td><td>  NA</td><td> NA</td><td> NA</td></tr>\n",
       "\t<tr><td>Zimbabwe</td><td>ZW</td><td>ZWE</td><td>2008</td><td>127</td><td>614</td><td>   0</td><td>3316</td><td> 704</td><td>263</td><td>...</td><td>  NA</td><td>  NA</td><td>  NA</td><td>  NA</td><td>  NA</td><td>  NA</td><td>  NA</td><td>  NA</td><td> NA</td><td> NA</td></tr>\n",
       "\t<tr><td>Zimbabwe</td><td>ZW</td><td>ZWE</td><td>2009</td><td>125</td><td>578</td><td>  NA</td><td>3471</td><td> 681</td><td>293</td><td>...</td><td>  NA</td><td>  NA</td><td>  NA</td><td>  NA</td><td>  NA</td><td>  NA</td><td>  NA</td><td>  NA</td><td> NA</td><td> NA</td></tr>\n",
       "\t<tr><td>Zimbabwe</td><td>ZW</td><td>ZWE</td><td>2010</td><td>150</td><td>710</td><td>2208</td><td>1682</td><td> 761</td><td>350</td><td>...</td><td>  NA</td><td>  NA</td><td>  NA</td><td>  NA</td><td>  NA</td><td>  NA</td><td>  NA</td><td>  NA</td><td> NA</td><td> NA</td></tr>\n",
       "\t<tr><td>Zimbabwe</td><td>ZW</td><td>ZWE</td><td>2011</td><td>152</td><td>784</td><td>2467</td><td>2071</td><td> 780</td><td>377</td><td>...</td><td>  NA</td><td>  NA</td><td>  NA</td><td>  NA</td><td>  NA</td><td>  NA</td><td>  NA</td><td>  NA</td><td> NA</td><td> NA</td></tr>\n",
       "\t<tr><td>Zimbabwe</td><td>ZW</td><td>ZWE</td><td>2012</td><td>120</td><td>783</td><td>2421</td><td>2086</td><td> 796</td><td>360</td><td>...</td><td>  NA</td><td>  NA</td><td>  NA</td><td>  NA</td><td>  NA</td><td>  NA</td><td>  NA</td><td>  NA</td><td> NA</td><td> NA</td></tr>\n",
       "\t<tr><td>Zimbabwe</td><td>ZW</td><td>ZWE</td><td>2013</td><td> NA</td><td> NA</td><td>  NA</td><td>  NA</td><td>  NA</td><td> NA</td><td>...</td><td>2349</td><td>1206</td><td>1208</td><td>1252</td><td>2069</td><td>4649</td><td>3526</td><td>1453</td><td>811</td><td>725</td></tr>\n",
       "</tbody>\n",
       "</table>\n"
      ],
      "text/latex": [
       "A tibble: 7240 × 60\n",
       "\\begin{tabular}{lllllllllllllllllllll}\n",
       " country & iso2 & iso3 & year & new\\_sp\\_m014 & new\\_sp\\_m1524 & new\\_sp\\_m2534 & new\\_sp\\_m3544 & new\\_sp\\_m4554 & new\\_sp\\_m5564 & ... & newrel\\_m4554 & newrel\\_m5564 & newrel\\_m65 & newrel\\_f014 & newrel\\_f1524 & newrel\\_f2534 & newrel\\_f3544 & newrel\\_f4554 & newrel\\_f5564 & newrel\\_f65\\\\\n",
       " <chr> & <chr> & <chr> & <int> & <int> & <int> & <int> & <int> & <int> & <int> & ... & <int> & <int> & <int> & <int> & <int> & <int> & <int> & <int> & <int> & <int>\\\\\n",
       "\\hline\n",
       "\t Afghanistan & AF & AFG & 1980 &  NA &  NA &  NA &  NA &  NA &  NA & ... & NA & NA & NA & NA & NA & NA & NA & NA & NA & NA\\\\\n",
       "\t Afghanistan & AF & AFG & 1981 &  NA &  NA &  NA &  NA &  NA &  NA & ... & NA & NA & NA & NA & NA & NA & NA & NA & NA & NA\\\\\n",
       "\t Afghanistan & AF & AFG & 1982 &  NA &  NA &  NA &  NA &  NA &  NA & ... & NA & NA & NA & NA & NA & NA & NA & NA & NA & NA\\\\\n",
       "\t Afghanistan & AF & AFG & 1983 &  NA &  NA &  NA &  NA &  NA &  NA & ... & NA & NA & NA & NA & NA & NA & NA & NA & NA & NA\\\\\n",
       "\t Afghanistan & AF & AFG & 1984 &  NA &  NA &  NA &  NA &  NA &  NA & ... & NA & NA & NA & NA & NA & NA & NA & NA & NA & NA\\\\\n",
       "\t Afghanistan & AF & AFG & 1985 &  NA &  NA &  NA &  NA &  NA &  NA & ... & NA & NA & NA & NA & NA & NA & NA & NA & NA & NA\\\\\n",
       "\t Afghanistan & AF & AFG & 1986 &  NA &  NA &  NA &  NA &  NA &  NA & ... & NA & NA & NA & NA & NA & NA & NA & NA & NA & NA\\\\\n",
       "\t Afghanistan & AF & AFG & 1987 &  NA &  NA &  NA &  NA &  NA &  NA & ... & NA & NA & NA & NA & NA & NA & NA & NA & NA & NA\\\\\n",
       "\t Afghanistan & AF & AFG & 1988 &  NA &  NA &  NA &  NA &  NA &  NA & ... & NA & NA & NA & NA & NA & NA & NA & NA & NA & NA\\\\\n",
       "\t Afghanistan & AF & AFG & 1989 &  NA &  NA &  NA &  NA &  NA &  NA & ... & NA & NA & NA & NA & NA & NA & NA & NA & NA & NA\\\\\n",
       "\t Afghanistan & AF & AFG & 1990 &  NA &  NA &  NA &  NA &  NA &  NA & ... & NA & NA & NA & NA & NA & NA & NA & NA & NA & NA\\\\\n",
       "\t Afghanistan & AF & AFG & 1991 &  NA &  NA &  NA &  NA &  NA &  NA & ... & NA & NA & NA & NA & NA & NA & NA & NA & NA & NA\\\\\n",
       "\t Afghanistan & AF & AFG & 1992 &  NA &  NA &  NA &  NA &  NA &  NA & ... & NA & NA & NA & NA & NA & NA & NA & NA & NA & NA\\\\\n",
       "\t Afghanistan & AF & AFG & 1993 &  NA &  NA &  NA &  NA &  NA &  NA & ... & NA & NA & NA & NA & NA & NA & NA & NA & NA & NA\\\\\n",
       "\t Afghanistan & AF & AFG & 1994 &  NA &  NA &  NA &  NA &  NA &  NA & ... & NA & NA & NA & NA & NA & NA & NA & NA & NA & NA\\\\\n",
       "\t Afghanistan & AF & AFG & 1995 &  NA &  NA &  NA &  NA &  NA &  NA & ... & NA & NA & NA & NA & NA & NA & NA & NA & NA & NA\\\\\n",
       "\t Afghanistan & AF & AFG & 1996 &  NA &  NA &  NA &  NA &  NA &  NA & ... & NA & NA & NA & NA & NA & NA & NA & NA & NA & NA\\\\\n",
       "\t Afghanistan & AF & AFG & 1997 &   0 &  10 &   6 &   3 &   5 &   2 & ... & NA & NA & NA & NA & NA & NA & NA & NA & NA & NA\\\\\n",
       "\t Afghanistan & AF & AFG & 1998 &  30 & 129 & 128 &  90 &  89 &  64 & ... & NA & NA & NA & NA & NA & NA & NA & NA & NA & NA\\\\\n",
       "\t Afghanistan & AF & AFG & 1999 &   8 &  55 &  55 &  47 &  34 &  21 & ... & NA & NA & NA & NA & NA & NA & NA & NA & NA & NA\\\\\n",
       "\t Afghanistan & AF & AFG & 2000 &  52 & 228 & 183 & 149 & 129 &  94 & ... & NA & NA & NA & NA & NA & NA & NA & NA & NA & NA\\\\\n",
       "\t Afghanistan & AF & AFG & 2001 & 129 & 379 & 349 & 274 & 204 & 139 & ... & NA & NA & NA & NA & NA & NA & NA & NA & NA & NA\\\\\n",
       "\t Afghanistan & AF & AFG & 2002 &  90 & 476 & 481 & 368 & 246 & 241 & ... & NA & NA & NA & NA & NA & NA & NA & NA & NA & NA\\\\\n",
       "\t Afghanistan & AF & AFG & 2003 & 127 & 511 & 436 & 284 & 256 & 288 & ... & NA & NA & NA & NA & NA & NA & NA & NA & NA & NA\\\\\n",
       "\t Afghanistan & AF & AFG & 2004 & 139 & 537 & 568 & 360 & 358 & 386 & ... & NA & NA & NA & NA & NA & NA & NA & NA & NA & NA\\\\\n",
       "\t Afghanistan & AF & AFG & 2005 & 151 & 606 & 560 & 472 & 453 & 470 & ... & NA & NA & NA & NA & NA & NA & NA & NA & NA & NA\\\\\n",
       "\t Afghanistan & AF & AFG & 2006 & 193 & 837 & 791 & 574 & 572 & 572 & ... & NA & NA & NA & NA & NA & NA & NA & NA & NA & NA\\\\\n",
       "\t Afghanistan & AF & AFG & 2007 & 186 & 856 & 840 & 597 & 566 & 630 & ... & NA & NA & NA & NA & NA & NA & NA & NA & NA & NA\\\\\n",
       "\t Afghanistan & AF & AFG & 2008 & 187 & 941 & 773 & 545 & 570 & 630 & ... & NA & NA & NA & NA & NA & NA & NA & NA & NA & NA\\\\\n",
       "\t Afghanistan & AF & AFG & 2009 & 200 & 906 & 705 & 499 & 491 & 596 & ... & NA & NA & NA & NA & NA & NA & NA & NA & NA & NA\\\\\n",
       "\t ... & ... & ... & ... & ... & ... & ... & ... & ... & ... &  & ... & ... & ... & ... & ... & ... & ... & ... & ... & ...\\\\\n",
       "\t Zimbabwe & ZW & ZWE & 1984 &  NA &  NA &   NA &   NA &   NA &  NA & ... &   NA &   NA &   NA &   NA &   NA &   NA &   NA &   NA &  NA &  NA\\\\\n",
       "\t Zimbabwe & ZW & ZWE & 1985 &  NA &  NA &   NA &   NA &   NA &  NA & ... &   NA &   NA &   NA &   NA &   NA &   NA &   NA &   NA &  NA &  NA\\\\\n",
       "\t Zimbabwe & ZW & ZWE & 1986 &  NA &  NA &   NA &   NA &   NA &  NA & ... &   NA &   NA &   NA &   NA &   NA &   NA &   NA &   NA &  NA &  NA\\\\\n",
       "\t Zimbabwe & ZW & ZWE & 1987 &  NA &  NA &   NA &   NA &   NA &  NA & ... &   NA &   NA &   NA &   NA &   NA &   NA &   NA &   NA &  NA &  NA\\\\\n",
       "\t Zimbabwe & ZW & ZWE & 1988 &  NA &  NA &   NA &   NA &   NA &  NA & ... &   NA &   NA &   NA &   NA &   NA &   NA &   NA &   NA &  NA &  NA\\\\\n",
       "\t Zimbabwe & ZW & ZWE & 1989 &  NA &  NA &   NA &   NA &   NA &  NA & ... &   NA &   NA &   NA &   NA &   NA &   NA &   NA &   NA &  NA &  NA\\\\\n",
       "\t Zimbabwe & ZW & ZWE & 1990 &  NA &  NA &   NA &   NA &   NA &  NA & ... &   NA &   NA &   NA &   NA &   NA &   NA &   NA &   NA &  NA &  NA\\\\\n",
       "\t Zimbabwe & ZW & ZWE & 1991 &  NA &  NA &   NA &   NA &   NA &  NA & ... &   NA &   NA &   NA &   NA &   NA &   NA &   NA &   NA &  NA &  NA\\\\\n",
       "\t Zimbabwe & ZW & ZWE & 1992 &  NA &  NA &   NA &   NA &   NA &  NA & ... &   NA &   NA &   NA &   NA &   NA &   NA &   NA &   NA &  NA &  NA\\\\\n",
       "\t Zimbabwe & ZW & ZWE & 1993 &  NA &  NA &   NA &   NA &   NA &  NA & ... &   NA &   NA &   NA &   NA &   NA &   NA &   NA &   NA &  NA &  NA\\\\\n",
       "\t Zimbabwe & ZW & ZWE & 1994 &  NA &  NA &   NA &   NA &   NA &  NA & ... &   NA &   NA &   NA &   NA &   NA &   NA &   NA &   NA &  NA &  NA\\\\\n",
       "\t Zimbabwe & ZW & ZWE & 1995 &  NA &  NA &   NA &   NA &   NA &  NA & ... &   NA &   NA &   NA &   NA &   NA &   NA &   NA &   NA &  NA &  NA\\\\\n",
       "\t Zimbabwe & ZW & ZWE & 1996 &  NA &  NA &   NA &   NA &   NA &  NA & ... &   NA &   NA &   NA &   NA &   NA &   NA &   NA &   NA &  NA &  NA\\\\\n",
       "\t Zimbabwe & ZW & ZWE & 1997 &  NA &  NA &   NA &   NA &   NA &  NA & ... &   NA &   NA &   NA &   NA &   NA &   NA &   NA &   NA &  NA &  NA\\\\\n",
       "\t Zimbabwe & ZW & ZWE & 1998 &  NA &  NA &   NA &   NA &   NA &  NA & ... &   NA &   NA &   NA &   NA &   NA &   NA &   NA &   NA &  NA &  NA\\\\\n",
       "\t Zimbabwe & ZW & ZWE & 1999 &  NA &  NA &   NA &   NA &   NA &  NA & ... &   NA &   NA &   NA &   NA &   NA &   NA &   NA &   NA &  NA &  NA\\\\\n",
       "\t Zimbabwe & ZW & ZWE & 2000 &  NA &  NA &   NA &   NA &   NA &  NA & ... &   NA &   NA &   NA &   NA &   NA &   NA &   NA &   NA &  NA &  NA\\\\\n",
       "\t Zimbabwe & ZW & ZWE & 2001 &  NA &  NA &   NA &   NA &   NA &  NA & ... &   NA &   NA &   NA &   NA &   NA &   NA &   NA &   NA &  NA &  NA\\\\\n",
       "\t Zimbabwe & ZW & ZWE & 2002 & 191 & 600 & 2548 & 1662 &  744 & 315 & ... &   NA &   NA &   NA &   NA &   NA &   NA &   NA &   NA &  NA &  NA\\\\\n",
       "\t Zimbabwe & ZW & ZWE & 2003 & 133 & 874 & 3048 & 2228 &  981 & 367 & ... &   NA &   NA &   NA &   NA &   NA &   NA &   NA &   NA &  NA &  NA\\\\\n",
       "\t Zimbabwe & ZW & ZWE & 2004 & 187 & 833 & 2908 & 2298 & 1056 & 366 & ... &   NA &   NA &   NA &   NA &   NA &   NA &   NA &   NA &  NA &  NA\\\\\n",
       "\t Zimbabwe & ZW & ZWE & 2005 & 210 & 837 & 2264 & 1855 &  762 & 295 & ... &   NA &   NA &   NA &   NA &   NA &   NA &   NA &   NA &  NA &  NA\\\\\n",
       "\t Zimbabwe & ZW & ZWE & 2006 & 215 & 736 & 2391 & 1939 &  896 & 348 & ... &   NA &   NA &   NA &   NA &   NA &   NA &   NA &   NA &  NA &  NA\\\\\n",
       "\t Zimbabwe & ZW & ZWE & 2007 & 138 & 500 & 3693 &    0 &  716 & 292 & ... &   NA &   NA &   NA &   NA &   NA &   NA &   NA &   NA &  NA &  NA\\\\\n",
       "\t Zimbabwe & ZW & ZWE & 2008 & 127 & 614 &    0 & 3316 &  704 & 263 & ... &   NA &   NA &   NA &   NA &   NA &   NA &   NA &   NA &  NA &  NA\\\\\n",
       "\t Zimbabwe & ZW & ZWE & 2009 & 125 & 578 &   NA & 3471 &  681 & 293 & ... &   NA &   NA &   NA &   NA &   NA &   NA &   NA &   NA &  NA &  NA\\\\\n",
       "\t Zimbabwe & ZW & ZWE & 2010 & 150 & 710 & 2208 & 1682 &  761 & 350 & ... &   NA &   NA &   NA &   NA &   NA &   NA &   NA &   NA &  NA &  NA\\\\\n",
       "\t Zimbabwe & ZW & ZWE & 2011 & 152 & 784 & 2467 & 2071 &  780 & 377 & ... &   NA &   NA &   NA &   NA &   NA &   NA &   NA &   NA &  NA &  NA\\\\\n",
       "\t Zimbabwe & ZW & ZWE & 2012 & 120 & 783 & 2421 & 2086 &  796 & 360 & ... &   NA &   NA &   NA &   NA &   NA &   NA &   NA &   NA &  NA &  NA\\\\\n",
       "\t Zimbabwe & ZW & ZWE & 2013 &  NA &  NA &   NA &   NA &   NA &  NA & ... & 2349 & 1206 & 1208 & 1252 & 2069 & 4649 & 3526 & 1453 & 811 & 725\\\\\n",
       "\\end{tabular}\n"
      ],
      "text/markdown": [
       "\n",
       "A tibble: 7240 × 60\n",
       "\n",
       "| country &lt;chr&gt; | iso2 &lt;chr&gt; | iso3 &lt;chr&gt; | year &lt;int&gt; | new_sp_m014 &lt;int&gt; | new_sp_m1524 &lt;int&gt; | new_sp_m2534 &lt;int&gt; | new_sp_m3544 &lt;int&gt; | new_sp_m4554 &lt;int&gt; | new_sp_m5564 &lt;int&gt; | ... ... | newrel_m4554 &lt;int&gt; | newrel_m5564 &lt;int&gt; | newrel_m65 &lt;int&gt; | newrel_f014 &lt;int&gt; | newrel_f1524 &lt;int&gt; | newrel_f2534 &lt;int&gt; | newrel_f3544 &lt;int&gt; | newrel_f4554 &lt;int&gt; | newrel_f5564 &lt;int&gt; | newrel_f65 &lt;int&gt; |\n",
       "|---|---|---|---|---|---|---|---|---|---|---|---|---|---|---|---|---|---|---|---|---|\n",
       "| Afghanistan | AF | AFG | 1980 |  NA |  NA |  NA |  NA |  NA |  NA | ... | NA | NA | NA | NA | NA | NA | NA | NA | NA | NA |\n",
       "| Afghanistan | AF | AFG | 1981 |  NA |  NA |  NA |  NA |  NA |  NA | ... | NA | NA | NA | NA | NA | NA | NA | NA | NA | NA |\n",
       "| Afghanistan | AF | AFG | 1982 |  NA |  NA |  NA |  NA |  NA |  NA | ... | NA | NA | NA | NA | NA | NA | NA | NA | NA | NA |\n",
       "| Afghanistan | AF | AFG | 1983 |  NA |  NA |  NA |  NA |  NA |  NA | ... | NA | NA | NA | NA | NA | NA | NA | NA | NA | NA |\n",
       "| Afghanistan | AF | AFG | 1984 |  NA |  NA |  NA |  NA |  NA |  NA | ... | NA | NA | NA | NA | NA | NA | NA | NA | NA | NA |\n",
       "| Afghanistan | AF | AFG | 1985 |  NA |  NA |  NA |  NA |  NA |  NA | ... | NA | NA | NA | NA | NA | NA | NA | NA | NA | NA |\n",
       "| Afghanistan | AF | AFG | 1986 |  NA |  NA |  NA |  NA |  NA |  NA | ... | NA | NA | NA | NA | NA | NA | NA | NA | NA | NA |\n",
       "| Afghanistan | AF | AFG | 1987 |  NA |  NA |  NA |  NA |  NA |  NA | ... | NA | NA | NA | NA | NA | NA | NA | NA | NA | NA |\n",
       "| Afghanistan | AF | AFG | 1988 |  NA |  NA |  NA |  NA |  NA |  NA | ... | NA | NA | NA | NA | NA | NA | NA | NA | NA | NA |\n",
       "| Afghanistan | AF | AFG | 1989 |  NA |  NA |  NA |  NA |  NA |  NA | ... | NA | NA | NA | NA | NA | NA | NA | NA | NA | NA |\n",
       "| Afghanistan | AF | AFG | 1990 |  NA |  NA |  NA |  NA |  NA |  NA | ... | NA | NA | NA | NA | NA | NA | NA | NA | NA | NA |\n",
       "| Afghanistan | AF | AFG | 1991 |  NA |  NA |  NA |  NA |  NA |  NA | ... | NA | NA | NA | NA | NA | NA | NA | NA | NA | NA |\n",
       "| Afghanistan | AF | AFG | 1992 |  NA |  NA |  NA |  NA |  NA |  NA | ... | NA | NA | NA | NA | NA | NA | NA | NA | NA | NA |\n",
       "| Afghanistan | AF | AFG | 1993 |  NA |  NA |  NA |  NA |  NA |  NA | ... | NA | NA | NA | NA | NA | NA | NA | NA | NA | NA |\n",
       "| Afghanistan | AF | AFG | 1994 |  NA |  NA |  NA |  NA |  NA |  NA | ... | NA | NA | NA | NA | NA | NA | NA | NA | NA | NA |\n",
       "| Afghanistan | AF | AFG | 1995 |  NA |  NA |  NA |  NA |  NA |  NA | ... | NA | NA | NA | NA | NA | NA | NA | NA | NA | NA |\n",
       "| Afghanistan | AF | AFG | 1996 |  NA |  NA |  NA |  NA |  NA |  NA | ... | NA | NA | NA | NA | NA | NA | NA | NA | NA | NA |\n",
       "| Afghanistan | AF | AFG | 1997 |   0 |  10 |   6 |   3 |   5 |   2 | ... | NA | NA | NA | NA | NA | NA | NA | NA | NA | NA |\n",
       "| Afghanistan | AF | AFG | 1998 |  30 | 129 | 128 |  90 |  89 |  64 | ... | NA | NA | NA | NA | NA | NA | NA | NA | NA | NA |\n",
       "| Afghanistan | AF | AFG | 1999 |   8 |  55 |  55 |  47 |  34 |  21 | ... | NA | NA | NA | NA | NA | NA | NA | NA | NA | NA |\n",
       "| Afghanistan | AF | AFG | 2000 |  52 | 228 | 183 | 149 | 129 |  94 | ... | NA | NA | NA | NA | NA | NA | NA | NA | NA | NA |\n",
       "| Afghanistan | AF | AFG | 2001 | 129 | 379 | 349 | 274 | 204 | 139 | ... | NA | NA | NA | NA | NA | NA | NA | NA | NA | NA |\n",
       "| Afghanistan | AF | AFG | 2002 |  90 | 476 | 481 | 368 | 246 | 241 | ... | NA | NA | NA | NA | NA | NA | NA | NA | NA | NA |\n",
       "| Afghanistan | AF | AFG | 2003 | 127 | 511 | 436 | 284 | 256 | 288 | ... | NA | NA | NA | NA | NA | NA | NA | NA | NA | NA |\n",
       "| Afghanistan | AF | AFG | 2004 | 139 | 537 | 568 | 360 | 358 | 386 | ... | NA | NA | NA | NA | NA | NA | NA | NA | NA | NA |\n",
       "| Afghanistan | AF | AFG | 2005 | 151 | 606 | 560 | 472 | 453 | 470 | ... | NA | NA | NA | NA | NA | NA | NA | NA | NA | NA |\n",
       "| Afghanistan | AF | AFG | 2006 | 193 | 837 | 791 | 574 | 572 | 572 | ... | NA | NA | NA | NA | NA | NA | NA | NA | NA | NA |\n",
       "| Afghanistan | AF | AFG | 2007 | 186 | 856 | 840 | 597 | 566 | 630 | ... | NA | NA | NA | NA | NA | NA | NA | NA | NA | NA |\n",
       "| Afghanistan | AF | AFG | 2008 | 187 | 941 | 773 | 545 | 570 | 630 | ... | NA | NA | NA | NA | NA | NA | NA | NA | NA | NA |\n",
       "| Afghanistan | AF | AFG | 2009 | 200 | 906 | 705 | 499 | 491 | 596 | ... | NA | NA | NA | NA | NA | NA | NA | NA | NA | NA |\n",
       "| ... | ... | ... | ... | ... | ... | ... | ... | ... | ... | <!----> | ... | ... | ... | ... | ... | ... | ... | ... | ... | ... |\n",
       "| Zimbabwe | ZW | ZWE | 1984 |  NA |  NA |   NA |   NA |   NA |  NA | ... |   NA |   NA |   NA |   NA |   NA |   NA |   NA |   NA |  NA |  NA |\n",
       "| Zimbabwe | ZW | ZWE | 1985 |  NA |  NA |   NA |   NA |   NA |  NA | ... |   NA |   NA |   NA |   NA |   NA |   NA |   NA |   NA |  NA |  NA |\n",
       "| Zimbabwe | ZW | ZWE | 1986 |  NA |  NA |   NA |   NA |   NA |  NA | ... |   NA |   NA |   NA |   NA |   NA |   NA |   NA |   NA |  NA |  NA |\n",
       "| Zimbabwe | ZW | ZWE | 1987 |  NA |  NA |   NA |   NA |   NA |  NA | ... |   NA |   NA |   NA |   NA |   NA |   NA |   NA |   NA |  NA |  NA |\n",
       "| Zimbabwe | ZW | ZWE | 1988 |  NA |  NA |   NA |   NA |   NA |  NA | ... |   NA |   NA |   NA |   NA |   NA |   NA |   NA |   NA |  NA |  NA |\n",
       "| Zimbabwe | ZW | ZWE | 1989 |  NA |  NA |   NA |   NA |   NA |  NA | ... |   NA |   NA |   NA |   NA |   NA |   NA |   NA |   NA |  NA |  NA |\n",
       "| Zimbabwe | ZW | ZWE | 1990 |  NA |  NA |   NA |   NA |   NA |  NA | ... |   NA |   NA |   NA |   NA |   NA |   NA |   NA |   NA |  NA |  NA |\n",
       "| Zimbabwe | ZW | ZWE | 1991 |  NA |  NA |   NA |   NA |   NA |  NA | ... |   NA |   NA |   NA |   NA |   NA |   NA |   NA |   NA |  NA |  NA |\n",
       "| Zimbabwe | ZW | ZWE | 1992 |  NA |  NA |   NA |   NA |   NA |  NA | ... |   NA |   NA |   NA |   NA |   NA |   NA |   NA |   NA |  NA |  NA |\n",
       "| Zimbabwe | ZW | ZWE | 1993 |  NA |  NA |   NA |   NA |   NA |  NA | ... |   NA |   NA |   NA |   NA |   NA |   NA |   NA |   NA |  NA |  NA |\n",
       "| Zimbabwe | ZW | ZWE | 1994 |  NA |  NA |   NA |   NA |   NA |  NA | ... |   NA |   NA |   NA |   NA |   NA |   NA |   NA |   NA |  NA |  NA |\n",
       "| Zimbabwe | ZW | ZWE | 1995 |  NA |  NA |   NA |   NA |   NA |  NA | ... |   NA |   NA |   NA |   NA |   NA |   NA |   NA |   NA |  NA |  NA |\n",
       "| Zimbabwe | ZW | ZWE | 1996 |  NA |  NA |   NA |   NA |   NA |  NA | ... |   NA |   NA |   NA |   NA |   NA |   NA |   NA |   NA |  NA |  NA |\n",
       "| Zimbabwe | ZW | ZWE | 1997 |  NA |  NA |   NA |   NA |   NA |  NA | ... |   NA |   NA |   NA |   NA |   NA |   NA |   NA |   NA |  NA |  NA |\n",
       "| Zimbabwe | ZW | ZWE | 1998 |  NA |  NA |   NA |   NA |   NA |  NA | ... |   NA |   NA |   NA |   NA |   NA |   NA |   NA |   NA |  NA |  NA |\n",
       "| Zimbabwe | ZW | ZWE | 1999 |  NA |  NA |   NA |   NA |   NA |  NA | ... |   NA |   NA |   NA |   NA |   NA |   NA |   NA |   NA |  NA |  NA |\n",
       "| Zimbabwe | ZW | ZWE | 2000 |  NA |  NA |   NA |   NA |   NA |  NA | ... |   NA |   NA |   NA |   NA |   NA |   NA |   NA |   NA |  NA |  NA |\n",
       "| Zimbabwe | ZW | ZWE | 2001 |  NA |  NA |   NA |   NA |   NA |  NA | ... |   NA |   NA |   NA |   NA |   NA |   NA |   NA |   NA |  NA |  NA |\n",
       "| Zimbabwe | ZW | ZWE | 2002 | 191 | 600 | 2548 | 1662 |  744 | 315 | ... |   NA |   NA |   NA |   NA |   NA |   NA |   NA |   NA |  NA |  NA |\n",
       "| Zimbabwe | ZW | ZWE | 2003 | 133 | 874 | 3048 | 2228 |  981 | 367 | ... |   NA |   NA |   NA |   NA |   NA |   NA |   NA |   NA |  NA |  NA |\n",
       "| Zimbabwe | ZW | ZWE | 2004 | 187 | 833 | 2908 | 2298 | 1056 | 366 | ... |   NA |   NA |   NA |   NA |   NA |   NA |   NA |   NA |  NA |  NA |\n",
       "| Zimbabwe | ZW | ZWE | 2005 | 210 | 837 | 2264 | 1855 |  762 | 295 | ... |   NA |   NA |   NA |   NA |   NA |   NA |   NA |   NA |  NA |  NA |\n",
       "| Zimbabwe | ZW | ZWE | 2006 | 215 | 736 | 2391 | 1939 |  896 | 348 | ... |   NA |   NA |   NA |   NA |   NA |   NA |   NA |   NA |  NA |  NA |\n",
       "| Zimbabwe | ZW | ZWE | 2007 | 138 | 500 | 3693 |    0 |  716 | 292 | ... |   NA |   NA |   NA |   NA |   NA |   NA |   NA |   NA |  NA |  NA |\n",
       "| Zimbabwe | ZW | ZWE | 2008 | 127 | 614 |    0 | 3316 |  704 | 263 | ... |   NA |   NA |   NA |   NA |   NA |   NA |   NA |   NA |  NA |  NA |\n",
       "| Zimbabwe | ZW | ZWE | 2009 | 125 | 578 |   NA | 3471 |  681 | 293 | ... |   NA |   NA |   NA |   NA |   NA |   NA |   NA |   NA |  NA |  NA |\n",
       "| Zimbabwe | ZW | ZWE | 2010 | 150 | 710 | 2208 | 1682 |  761 | 350 | ... |   NA |   NA |   NA |   NA |   NA |   NA |   NA |   NA |  NA |  NA |\n",
       "| Zimbabwe | ZW | ZWE | 2011 | 152 | 784 | 2467 | 2071 |  780 | 377 | ... |   NA |   NA |   NA |   NA |   NA |   NA |   NA |   NA |  NA |  NA |\n",
       "| Zimbabwe | ZW | ZWE | 2012 | 120 | 783 | 2421 | 2086 |  796 | 360 | ... |   NA |   NA |   NA |   NA |   NA |   NA |   NA |   NA |  NA |  NA |\n",
       "| Zimbabwe | ZW | ZWE | 2013 |  NA |  NA |   NA |   NA |   NA |  NA | ... | 2349 | 1206 | 1208 | 1252 | 2069 | 4649 | 3526 | 1453 | 811 | 725 |\n",
       "\n"
      ],
      "text/plain": [
       "     country     iso2 iso3 year new_sp_m014 new_sp_m1524 new_sp_m2534\n",
       "1    Afghanistan AF   AFG  1980  NA          NA           NA         \n",
       "2    Afghanistan AF   AFG  1981  NA          NA           NA         \n",
       "3    Afghanistan AF   AFG  1982  NA          NA           NA         \n",
       "4    Afghanistan AF   AFG  1983  NA          NA           NA         \n",
       "5    Afghanistan AF   AFG  1984  NA          NA           NA         \n",
       "6    Afghanistan AF   AFG  1985  NA          NA           NA         \n",
       "7    Afghanistan AF   AFG  1986  NA          NA           NA         \n",
       "8    Afghanistan AF   AFG  1987  NA          NA           NA         \n",
       "9    Afghanistan AF   AFG  1988  NA          NA           NA         \n",
       "10   Afghanistan AF   AFG  1989  NA          NA           NA         \n",
       "11   Afghanistan AF   AFG  1990  NA          NA           NA         \n",
       "12   Afghanistan AF   AFG  1991  NA          NA           NA         \n",
       "13   Afghanistan AF   AFG  1992  NA          NA           NA         \n",
       "14   Afghanistan AF   AFG  1993  NA          NA           NA         \n",
       "15   Afghanistan AF   AFG  1994  NA          NA           NA         \n",
       "16   Afghanistan AF   AFG  1995  NA          NA           NA         \n",
       "17   Afghanistan AF   AFG  1996  NA          NA           NA         \n",
       "18   Afghanistan AF   AFG  1997   0          10            6         \n",
       "19   Afghanistan AF   AFG  1998  30         129          128         \n",
       "20   Afghanistan AF   AFG  1999   8          55           55         \n",
       "21   Afghanistan AF   AFG  2000  52         228          183         \n",
       "22   Afghanistan AF   AFG  2001 129         379          349         \n",
       "23   Afghanistan AF   AFG  2002  90         476          481         \n",
       "24   Afghanistan AF   AFG  2003 127         511          436         \n",
       "25   Afghanistan AF   AFG  2004 139         537          568         \n",
       "26   Afghanistan AF   AFG  2005 151         606          560         \n",
       "27   Afghanistan AF   AFG  2006 193         837          791         \n",
       "28   Afghanistan AF   AFG  2007 186         856          840         \n",
       "29   Afghanistan AF   AFG  2008 187         941          773         \n",
       "30   Afghanistan AF   AFG  2009 200         906          705         \n",
       "...  ...         ...  ...  ...  ...         ...          ...         \n",
       "7211 Zimbabwe    ZW   ZWE  1984  NA          NA            NA        \n",
       "7212 Zimbabwe    ZW   ZWE  1985  NA          NA            NA        \n",
       "7213 Zimbabwe    ZW   ZWE  1986  NA          NA            NA        \n",
       "7214 Zimbabwe    ZW   ZWE  1987  NA          NA            NA        \n",
       "7215 Zimbabwe    ZW   ZWE  1988  NA          NA            NA        \n",
       "7216 Zimbabwe    ZW   ZWE  1989  NA          NA            NA        \n",
       "7217 Zimbabwe    ZW   ZWE  1990  NA          NA            NA        \n",
       "7218 Zimbabwe    ZW   ZWE  1991  NA          NA            NA        \n",
       "7219 Zimbabwe    ZW   ZWE  1992  NA          NA            NA        \n",
       "7220 Zimbabwe    ZW   ZWE  1993  NA          NA            NA        \n",
       "7221 Zimbabwe    ZW   ZWE  1994  NA          NA            NA        \n",
       "7222 Zimbabwe    ZW   ZWE  1995  NA          NA            NA        \n",
       "7223 Zimbabwe    ZW   ZWE  1996  NA          NA            NA        \n",
       "7224 Zimbabwe    ZW   ZWE  1997  NA          NA            NA        \n",
       "7225 Zimbabwe    ZW   ZWE  1998  NA          NA            NA        \n",
       "7226 Zimbabwe    ZW   ZWE  1999  NA          NA            NA        \n",
       "7227 Zimbabwe    ZW   ZWE  2000  NA          NA            NA        \n",
       "7228 Zimbabwe    ZW   ZWE  2001  NA          NA            NA        \n",
       "7229 Zimbabwe    ZW   ZWE  2002 191         600          2548        \n",
       "7230 Zimbabwe    ZW   ZWE  2003 133         874          3048        \n",
       "7231 Zimbabwe    ZW   ZWE  2004 187         833          2908        \n",
       "7232 Zimbabwe    ZW   ZWE  2005 210         837          2264        \n",
       "7233 Zimbabwe    ZW   ZWE  2006 215         736          2391        \n",
       "7234 Zimbabwe    ZW   ZWE  2007 138         500          3693        \n",
       "7235 Zimbabwe    ZW   ZWE  2008 127         614             0        \n",
       "7236 Zimbabwe    ZW   ZWE  2009 125         578            NA        \n",
       "7237 Zimbabwe    ZW   ZWE  2010 150         710          2208        \n",
       "7238 Zimbabwe    ZW   ZWE  2011 152         784          2467        \n",
       "7239 Zimbabwe    ZW   ZWE  2012 120         783          2421        \n",
       "7240 Zimbabwe    ZW   ZWE  2013  NA          NA            NA        \n",
       "     new_sp_m3544 new_sp_m4554 new_sp_m5564 ... newrel_m4554 newrel_m5564\n",
       "1     NA           NA           NA          ... NA           NA          \n",
       "2     NA           NA           NA          ... NA           NA          \n",
       "3     NA           NA           NA          ... NA           NA          \n",
       "4     NA           NA           NA          ... NA           NA          \n",
       "5     NA           NA           NA          ... NA           NA          \n",
       "6     NA           NA           NA          ... NA           NA          \n",
       "7     NA           NA           NA          ... NA           NA          \n",
       "8     NA           NA           NA          ... NA           NA          \n",
       "9     NA           NA           NA          ... NA           NA          \n",
       "10    NA           NA           NA          ... NA           NA          \n",
       "11    NA           NA           NA          ... NA           NA          \n",
       "12    NA           NA           NA          ... NA           NA          \n",
       "13    NA           NA           NA          ... NA           NA          \n",
       "14    NA           NA           NA          ... NA           NA          \n",
       "15    NA           NA           NA          ... NA           NA          \n",
       "16    NA           NA           NA          ... NA           NA          \n",
       "17    NA           NA           NA          ... NA           NA          \n",
       "18     3            5            2          ... NA           NA          \n",
       "19    90           89           64          ... NA           NA          \n",
       "20    47           34           21          ... NA           NA          \n",
       "21   149          129           94          ... NA           NA          \n",
       "22   274          204          139          ... NA           NA          \n",
       "23   368          246          241          ... NA           NA          \n",
       "24   284          256          288          ... NA           NA          \n",
       "25   360          358          386          ... NA           NA          \n",
       "26   472          453          470          ... NA           NA          \n",
       "27   574          572          572          ... NA           NA          \n",
       "28   597          566          630          ... NA           NA          \n",
       "29   545          570          630          ... NA           NA          \n",
       "30   499          491          596          ... NA           NA          \n",
       "...  ...          ...          ...              ...          ...         \n",
       "7211   NA           NA          NA          ...   NA           NA        \n",
       "7212   NA           NA          NA          ...   NA           NA        \n",
       "7213   NA           NA          NA          ...   NA           NA        \n",
       "7214   NA           NA          NA          ...   NA           NA        \n",
       "7215   NA           NA          NA          ...   NA           NA        \n",
       "7216   NA           NA          NA          ...   NA           NA        \n",
       "7217   NA           NA          NA          ...   NA           NA        \n",
       "7218   NA           NA          NA          ...   NA           NA        \n",
       "7219   NA           NA          NA          ...   NA           NA        \n",
       "7220   NA           NA          NA          ...   NA           NA        \n",
       "7221   NA           NA          NA          ...   NA           NA        \n",
       "7222   NA           NA          NA          ...   NA           NA        \n",
       "7223   NA           NA          NA          ...   NA           NA        \n",
       "7224   NA           NA          NA          ...   NA           NA        \n",
       "7225   NA           NA          NA          ...   NA           NA        \n",
       "7226   NA           NA          NA          ...   NA           NA        \n",
       "7227   NA           NA          NA          ...   NA           NA        \n",
       "7228   NA           NA          NA          ...   NA           NA        \n",
       "7229 1662          744         315          ...   NA           NA        \n",
       "7230 2228          981         367          ...   NA           NA        \n",
       "7231 2298         1056         366          ...   NA           NA        \n",
       "7232 1855          762         295          ...   NA           NA        \n",
       "7233 1939          896         348          ...   NA           NA        \n",
       "7234    0          716         292          ...   NA           NA        \n",
       "7235 3316          704         263          ...   NA           NA        \n",
       "7236 3471          681         293          ...   NA           NA        \n",
       "7237 1682          761         350          ...   NA           NA        \n",
       "7238 2071          780         377          ...   NA           NA        \n",
       "7239 2086          796         360          ...   NA           NA        \n",
       "7240   NA           NA          NA          ... 2349         1206        \n",
       "     newrel_m65 newrel_f014 newrel_f1524 newrel_f2534 newrel_f3544 newrel_f4554\n",
       "1    NA         NA          NA           NA           NA           NA          \n",
       "2    NA         NA          NA           NA           NA           NA          \n",
       "3    NA         NA          NA           NA           NA           NA          \n",
       "4    NA         NA          NA           NA           NA           NA          \n",
       "5    NA         NA          NA           NA           NA           NA          \n",
       "6    NA         NA          NA           NA           NA           NA          \n",
       "7    NA         NA          NA           NA           NA           NA          \n",
       "8    NA         NA          NA           NA           NA           NA          \n",
       "9    NA         NA          NA           NA           NA           NA          \n",
       "10   NA         NA          NA           NA           NA           NA          \n",
       "11   NA         NA          NA           NA           NA           NA          \n",
       "12   NA         NA          NA           NA           NA           NA          \n",
       "13   NA         NA          NA           NA           NA           NA          \n",
       "14   NA         NA          NA           NA           NA           NA          \n",
       "15   NA         NA          NA           NA           NA           NA          \n",
       "16   NA         NA          NA           NA           NA           NA          \n",
       "17   NA         NA          NA           NA           NA           NA          \n",
       "18   NA         NA          NA           NA           NA           NA          \n",
       "19   NA         NA          NA           NA           NA           NA          \n",
       "20   NA         NA          NA           NA           NA           NA          \n",
       "21   NA         NA          NA           NA           NA           NA          \n",
       "22   NA         NA          NA           NA           NA           NA          \n",
       "23   NA         NA          NA           NA           NA           NA          \n",
       "24   NA         NA          NA           NA           NA           NA          \n",
       "25   NA         NA          NA           NA           NA           NA          \n",
       "26   NA         NA          NA           NA           NA           NA          \n",
       "27   NA         NA          NA           NA           NA           NA          \n",
       "28   NA         NA          NA           NA           NA           NA          \n",
       "29   NA         NA          NA           NA           NA           NA          \n",
       "30   NA         NA          NA           NA           NA           NA          \n",
       "...  ...        ...         ...          ...          ...          ...         \n",
       "7211   NA         NA          NA           NA           NA           NA        \n",
       "7212   NA         NA          NA           NA           NA           NA        \n",
       "7213   NA         NA          NA           NA           NA           NA        \n",
       "7214   NA         NA          NA           NA           NA           NA        \n",
       "7215   NA         NA          NA           NA           NA           NA        \n",
       "7216   NA         NA          NA           NA           NA           NA        \n",
       "7217   NA         NA          NA           NA           NA           NA        \n",
       "7218   NA         NA          NA           NA           NA           NA        \n",
       "7219   NA         NA          NA           NA           NA           NA        \n",
       "7220   NA         NA          NA           NA           NA           NA        \n",
       "7221   NA         NA          NA           NA           NA           NA        \n",
       "7222   NA         NA          NA           NA           NA           NA        \n",
       "7223   NA         NA          NA           NA           NA           NA        \n",
       "7224   NA         NA          NA           NA           NA           NA        \n",
       "7225   NA         NA          NA           NA           NA           NA        \n",
       "7226   NA         NA          NA           NA           NA           NA        \n",
       "7227   NA         NA          NA           NA           NA           NA        \n",
       "7228   NA         NA          NA           NA           NA           NA        \n",
       "7229   NA         NA          NA           NA           NA           NA        \n",
       "7230   NA         NA          NA           NA           NA           NA        \n",
       "7231   NA         NA          NA           NA           NA           NA        \n",
       "7232   NA         NA          NA           NA           NA           NA        \n",
       "7233   NA         NA          NA           NA           NA           NA        \n",
       "7234   NA         NA          NA           NA           NA           NA        \n",
       "7235   NA         NA          NA           NA           NA           NA        \n",
       "7236   NA         NA          NA           NA           NA           NA        \n",
       "7237   NA         NA          NA           NA           NA           NA        \n",
       "7238   NA         NA          NA           NA           NA           NA        \n",
       "7239   NA         NA          NA           NA           NA           NA        \n",
       "7240 1208       1252        2069         4649         3526         1453        \n",
       "     newrel_f5564 newrel_f65\n",
       "1    NA           NA        \n",
       "2    NA           NA        \n",
       "3    NA           NA        \n",
       "4    NA           NA        \n",
       "5    NA           NA        \n",
       "6    NA           NA        \n",
       "7    NA           NA        \n",
       "8    NA           NA        \n",
       "9    NA           NA        \n",
       "10   NA           NA        \n",
       "11   NA           NA        \n",
       "12   NA           NA        \n",
       "13   NA           NA        \n",
       "14   NA           NA        \n",
       "15   NA           NA        \n",
       "16   NA           NA        \n",
       "17   NA           NA        \n",
       "18   NA           NA        \n",
       "19   NA           NA        \n",
       "20   NA           NA        \n",
       "21   NA           NA        \n",
       "22   NA           NA        \n",
       "23   NA           NA        \n",
       "24   NA           NA        \n",
       "25   NA           NA        \n",
       "26   NA           NA        \n",
       "27   NA           NA        \n",
       "28   NA           NA        \n",
       "29   NA           NA        \n",
       "30   NA           NA        \n",
       "...  ...          ...       \n",
       "7211  NA           NA       \n",
       "7212  NA           NA       \n",
       "7213  NA           NA       \n",
       "7214  NA           NA       \n",
       "7215  NA           NA       \n",
       "7216  NA           NA       \n",
       "7217  NA           NA       \n",
       "7218  NA           NA       \n",
       "7219  NA           NA       \n",
       "7220  NA           NA       \n",
       "7221  NA           NA       \n",
       "7222  NA           NA       \n",
       "7223  NA           NA       \n",
       "7224  NA           NA       \n",
       "7225  NA           NA       \n",
       "7226  NA           NA       \n",
       "7227  NA           NA       \n",
       "7228  NA           NA       \n",
       "7229  NA           NA       \n",
       "7230  NA           NA       \n",
       "7231  NA           NA       \n",
       "7232  NA           NA       \n",
       "7233  NA           NA       \n",
       "7234  NA           NA       \n",
       "7235  NA           NA       \n",
       "7236  NA           NA       \n",
       "7237  NA           NA       \n",
       "7238  NA           NA       \n",
       "7239  NA           NA       \n",
       "7240 811          725       "
      ]
     },
     "metadata": {},
     "output_type": "display_data"
    }
   ],
   "source": [
    "View(TB)"
   ]
  },
  {
   "cell_type": "markdown",
   "id": "15b11995",
   "metadata": {},
   "source": [
    "1. Create the Who1 Dataset"
   ]
  },
  {
   "cell_type": "markdown",
   "id": "ccd49a87",
   "metadata": {},
   "source": [
    "From the original data; select the wanted columns, assign new columns and remove nulls for the new dataset using pivot_longer"
   ]
  },
  {
   "cell_type": "code",
   "execution_count": 5,
   "id": "f718cbd2",
   "metadata": {},
   "outputs": [],
   "source": [
    "Who1 <- pivot_longer(TB, \n",
    "    new_sp_m014:newrel_f65, # Selecting Columns \n",
    "    names_to= \"Key\", #Assigning the names column\n",
    "    values_to = \"Cases\", #Assigning the values columns\n",
    "    values_drop_na = TRUE) #Removing Null Values"
   ]
  },
  {
   "cell_type": "code",
   "execution_count": 6,
   "id": "4cf152dc",
   "metadata": {
    "scrolled": true
   },
   "outputs": [
    {
     "data": {
      "text/html": [
       "<table class=\"dataframe\">\n",
       "<caption>A tibble: 76046 × 6</caption>\n",
       "<thead>\n",
       "\t<tr><th scope=col>country</th><th scope=col>iso2</th><th scope=col>iso3</th><th scope=col>year</th><th scope=col>Key</th><th scope=col>Cases</th></tr>\n",
       "\t<tr><th scope=col>&lt;chr&gt;</th><th scope=col>&lt;chr&gt;</th><th scope=col>&lt;chr&gt;</th><th scope=col>&lt;int&gt;</th><th scope=col>&lt;chr&gt;</th><th scope=col>&lt;int&gt;</th></tr>\n",
       "</thead>\n",
       "<tbody>\n",
       "\t<tr><td>Afghanistan</td><td>AF</td><td>AFG</td><td>1997</td><td>new_sp_m014 </td><td>  0</td></tr>\n",
       "\t<tr><td>Afghanistan</td><td>AF</td><td>AFG</td><td>1997</td><td>new_sp_m1524</td><td> 10</td></tr>\n",
       "\t<tr><td>Afghanistan</td><td>AF</td><td>AFG</td><td>1997</td><td>new_sp_m2534</td><td>  6</td></tr>\n",
       "\t<tr><td>Afghanistan</td><td>AF</td><td>AFG</td><td>1997</td><td>new_sp_m3544</td><td>  3</td></tr>\n",
       "\t<tr><td>Afghanistan</td><td>AF</td><td>AFG</td><td>1997</td><td>new_sp_m4554</td><td>  5</td></tr>\n",
       "\t<tr><td>Afghanistan</td><td>AF</td><td>AFG</td><td>1997</td><td>new_sp_m5564</td><td>  2</td></tr>\n",
       "\t<tr><td>Afghanistan</td><td>AF</td><td>AFG</td><td>1997</td><td>new_sp_m65  </td><td>  0</td></tr>\n",
       "\t<tr><td>Afghanistan</td><td>AF</td><td>AFG</td><td>1997</td><td>new_sp_f014 </td><td>  5</td></tr>\n",
       "\t<tr><td>Afghanistan</td><td>AF</td><td>AFG</td><td>1997</td><td>new_sp_f1524</td><td> 38</td></tr>\n",
       "\t<tr><td>Afghanistan</td><td>AF</td><td>AFG</td><td>1997</td><td>new_sp_f2534</td><td> 36</td></tr>\n",
       "\t<tr><td>Afghanistan</td><td>AF</td><td>AFG</td><td>1997</td><td>new_sp_f3544</td><td> 14</td></tr>\n",
       "\t<tr><td>Afghanistan</td><td>AF</td><td>AFG</td><td>1997</td><td>new_sp_f4554</td><td>  8</td></tr>\n",
       "\t<tr><td>Afghanistan</td><td>AF</td><td>AFG</td><td>1997</td><td>new_sp_f5564</td><td>  0</td></tr>\n",
       "\t<tr><td>Afghanistan</td><td>AF</td><td>AFG</td><td>1997</td><td>new_sp_f65  </td><td>  1</td></tr>\n",
       "\t<tr><td>Afghanistan</td><td>AF</td><td>AFG</td><td>1998</td><td>new_sp_m014 </td><td> 30</td></tr>\n",
       "\t<tr><td>Afghanistan</td><td>AF</td><td>AFG</td><td>1998</td><td>new_sp_m1524</td><td>129</td></tr>\n",
       "\t<tr><td>Afghanistan</td><td>AF</td><td>AFG</td><td>1998</td><td>new_sp_m2534</td><td>128</td></tr>\n",
       "\t<tr><td>Afghanistan</td><td>AF</td><td>AFG</td><td>1998</td><td>new_sp_m3544</td><td> 90</td></tr>\n",
       "\t<tr><td>Afghanistan</td><td>AF</td><td>AFG</td><td>1998</td><td>new_sp_m4554</td><td> 89</td></tr>\n",
       "\t<tr><td>Afghanistan</td><td>AF</td><td>AFG</td><td>1998</td><td>new_sp_m5564</td><td> 64</td></tr>\n",
       "\t<tr><td>Afghanistan</td><td>AF</td><td>AFG</td><td>1998</td><td>new_sp_m65  </td><td> 41</td></tr>\n",
       "\t<tr><td>Afghanistan</td><td>AF</td><td>AFG</td><td>1998</td><td>new_sp_f014 </td><td> 45</td></tr>\n",
       "\t<tr><td>Afghanistan</td><td>AF</td><td>AFG</td><td>1998</td><td>new_sp_f1524</td><td>350</td></tr>\n",
       "\t<tr><td>Afghanistan</td><td>AF</td><td>AFG</td><td>1998</td><td>new_sp_f2534</td><td>419</td></tr>\n",
       "\t<tr><td>Afghanistan</td><td>AF</td><td>AFG</td><td>1998</td><td>new_sp_f3544</td><td>194</td></tr>\n",
       "\t<tr><td>Afghanistan</td><td>AF</td><td>AFG</td><td>1998</td><td>new_sp_f4554</td><td>118</td></tr>\n",
       "\t<tr><td>Afghanistan</td><td>AF</td><td>AFG</td><td>1998</td><td>new_sp_f5564</td><td> 61</td></tr>\n",
       "\t<tr><td>Afghanistan</td><td>AF</td><td>AFG</td><td>1998</td><td>new_sp_f65  </td><td> 20</td></tr>\n",
       "\t<tr><td>Afghanistan</td><td>AF</td><td>AFG</td><td>1999</td><td>new_sp_m014 </td><td>  8</td></tr>\n",
       "\t<tr><td>Afghanistan</td><td>AF</td><td>AFG</td><td>1999</td><td>new_sp_m1524</td><td> 55</td></tr>\n",
       "\t<tr><td>...</td><td>...</td><td>...</td><td>...</td><td>...</td><td>...</td></tr>\n",
       "\t<tr><td>Zimbabwe</td><td>ZW</td><td>ZWE</td><td>2012</td><td>new_sn_f5564</td><td> 516</td></tr>\n",
       "\t<tr><td>Zimbabwe</td><td>ZW</td><td>ZWE</td><td>2012</td><td>new_sn_f65  </td><td> 432</td></tr>\n",
       "\t<tr><td>Zimbabwe</td><td>ZW</td><td>ZWE</td><td>2012</td><td>new_ep_m014 </td><td> 233</td></tr>\n",
       "\t<tr><td>Zimbabwe</td><td>ZW</td><td>ZWE</td><td>2012</td><td>new_ep_m1524</td><td> 214</td></tr>\n",
       "\t<tr><td>Zimbabwe</td><td>ZW</td><td>ZWE</td><td>2012</td><td>new_ep_m2534</td><td> 658</td></tr>\n",
       "\t<tr><td>Zimbabwe</td><td>ZW</td><td>ZWE</td><td>2012</td><td>new_ep_m3544</td><td> 789</td></tr>\n",
       "\t<tr><td>Zimbabwe</td><td>ZW</td><td>ZWE</td><td>2012</td><td>new_ep_m4554</td><td> 331</td></tr>\n",
       "\t<tr><td>Zimbabwe</td><td>ZW</td><td>ZWE</td><td>2012</td><td>new_ep_m5564</td><td> 178</td></tr>\n",
       "\t<tr><td>Zimbabwe</td><td>ZW</td><td>ZWE</td><td>2012</td><td>new_ep_m65  </td><td> 182</td></tr>\n",
       "\t<tr><td>Zimbabwe</td><td>ZW</td><td>ZWE</td><td>2012</td><td>new_ep_f014 </td><td> 208</td></tr>\n",
       "\t<tr><td>Zimbabwe</td><td>ZW</td><td>ZWE</td><td>2012</td><td>new_ep_f1524</td><td> 319</td></tr>\n",
       "\t<tr><td>Zimbabwe</td><td>ZW</td><td>ZWE</td><td>2012</td><td>new_ep_f2534</td><td> 710</td></tr>\n",
       "\t<tr><td>Zimbabwe</td><td>ZW</td><td>ZWE</td><td>2012</td><td>new_ep_f3544</td><td> 579</td></tr>\n",
       "\t<tr><td>Zimbabwe</td><td>ZW</td><td>ZWE</td><td>2012</td><td>new_ep_f4554</td><td> 228</td></tr>\n",
       "\t<tr><td>Zimbabwe</td><td>ZW</td><td>ZWE</td><td>2012</td><td>new_ep_f5564</td><td> 140</td></tr>\n",
       "\t<tr><td>Zimbabwe</td><td>ZW</td><td>ZWE</td><td>2012</td><td>new_ep_f65  </td><td> 143</td></tr>\n",
       "\t<tr><td>Zimbabwe</td><td>ZW</td><td>ZWE</td><td>2013</td><td>newrel_m014 </td><td>1315</td></tr>\n",
       "\t<tr><td>Zimbabwe</td><td>ZW</td><td>ZWE</td><td>2013</td><td>newrel_m1524</td><td>1642</td></tr>\n",
       "\t<tr><td>Zimbabwe</td><td>ZW</td><td>ZWE</td><td>2013</td><td>newrel_m2534</td><td>5331</td></tr>\n",
       "\t<tr><td>Zimbabwe</td><td>ZW</td><td>ZWE</td><td>2013</td><td>newrel_m3544</td><td>5363</td></tr>\n",
       "\t<tr><td>Zimbabwe</td><td>ZW</td><td>ZWE</td><td>2013</td><td>newrel_m4554</td><td>2349</td></tr>\n",
       "\t<tr><td>Zimbabwe</td><td>ZW</td><td>ZWE</td><td>2013</td><td>newrel_m5564</td><td>1206</td></tr>\n",
       "\t<tr><td>Zimbabwe</td><td>ZW</td><td>ZWE</td><td>2013</td><td>newrel_m65  </td><td>1208</td></tr>\n",
       "\t<tr><td>Zimbabwe</td><td>ZW</td><td>ZWE</td><td>2013</td><td>newrel_f014 </td><td>1252</td></tr>\n",
       "\t<tr><td>Zimbabwe</td><td>ZW</td><td>ZWE</td><td>2013</td><td>newrel_f1524</td><td>2069</td></tr>\n",
       "\t<tr><td>Zimbabwe</td><td>ZW</td><td>ZWE</td><td>2013</td><td>newrel_f2534</td><td>4649</td></tr>\n",
       "\t<tr><td>Zimbabwe</td><td>ZW</td><td>ZWE</td><td>2013</td><td>newrel_f3544</td><td>3526</td></tr>\n",
       "\t<tr><td>Zimbabwe</td><td>ZW</td><td>ZWE</td><td>2013</td><td>newrel_f4554</td><td>1453</td></tr>\n",
       "\t<tr><td>Zimbabwe</td><td>ZW</td><td>ZWE</td><td>2013</td><td>newrel_f5564</td><td> 811</td></tr>\n",
       "\t<tr><td>Zimbabwe</td><td>ZW</td><td>ZWE</td><td>2013</td><td>newrel_f65  </td><td> 725</td></tr>\n",
       "</tbody>\n",
       "</table>\n"
      ],
      "text/latex": [
       "A tibble: 76046 × 6\n",
       "\\begin{tabular}{llllll}\n",
       " country & iso2 & iso3 & year & Key & Cases\\\\\n",
       " <chr> & <chr> & <chr> & <int> & <chr> & <int>\\\\\n",
       "\\hline\n",
       "\t Afghanistan & AF & AFG & 1997 & new\\_sp\\_m014  &   0\\\\\n",
       "\t Afghanistan & AF & AFG & 1997 & new\\_sp\\_m1524 &  10\\\\\n",
       "\t Afghanistan & AF & AFG & 1997 & new\\_sp\\_m2534 &   6\\\\\n",
       "\t Afghanistan & AF & AFG & 1997 & new\\_sp\\_m3544 &   3\\\\\n",
       "\t Afghanistan & AF & AFG & 1997 & new\\_sp\\_m4554 &   5\\\\\n",
       "\t Afghanistan & AF & AFG & 1997 & new\\_sp\\_m5564 &   2\\\\\n",
       "\t Afghanistan & AF & AFG & 1997 & new\\_sp\\_m65   &   0\\\\\n",
       "\t Afghanistan & AF & AFG & 1997 & new\\_sp\\_f014  &   5\\\\\n",
       "\t Afghanistan & AF & AFG & 1997 & new\\_sp\\_f1524 &  38\\\\\n",
       "\t Afghanistan & AF & AFG & 1997 & new\\_sp\\_f2534 &  36\\\\\n",
       "\t Afghanistan & AF & AFG & 1997 & new\\_sp\\_f3544 &  14\\\\\n",
       "\t Afghanistan & AF & AFG & 1997 & new\\_sp\\_f4554 &   8\\\\\n",
       "\t Afghanistan & AF & AFG & 1997 & new\\_sp\\_f5564 &   0\\\\\n",
       "\t Afghanistan & AF & AFG & 1997 & new\\_sp\\_f65   &   1\\\\\n",
       "\t Afghanistan & AF & AFG & 1998 & new\\_sp\\_m014  &  30\\\\\n",
       "\t Afghanistan & AF & AFG & 1998 & new\\_sp\\_m1524 & 129\\\\\n",
       "\t Afghanistan & AF & AFG & 1998 & new\\_sp\\_m2534 & 128\\\\\n",
       "\t Afghanistan & AF & AFG & 1998 & new\\_sp\\_m3544 &  90\\\\\n",
       "\t Afghanistan & AF & AFG & 1998 & new\\_sp\\_m4554 &  89\\\\\n",
       "\t Afghanistan & AF & AFG & 1998 & new\\_sp\\_m5564 &  64\\\\\n",
       "\t Afghanistan & AF & AFG & 1998 & new\\_sp\\_m65   &  41\\\\\n",
       "\t Afghanistan & AF & AFG & 1998 & new\\_sp\\_f014  &  45\\\\\n",
       "\t Afghanistan & AF & AFG & 1998 & new\\_sp\\_f1524 & 350\\\\\n",
       "\t Afghanistan & AF & AFG & 1998 & new\\_sp\\_f2534 & 419\\\\\n",
       "\t Afghanistan & AF & AFG & 1998 & new\\_sp\\_f3544 & 194\\\\\n",
       "\t Afghanistan & AF & AFG & 1998 & new\\_sp\\_f4554 & 118\\\\\n",
       "\t Afghanistan & AF & AFG & 1998 & new\\_sp\\_f5564 &  61\\\\\n",
       "\t Afghanistan & AF & AFG & 1998 & new\\_sp\\_f65   &  20\\\\\n",
       "\t Afghanistan & AF & AFG & 1999 & new\\_sp\\_m014  &   8\\\\\n",
       "\t Afghanistan & AF & AFG & 1999 & new\\_sp\\_m1524 &  55\\\\\n",
       "\t ... & ... & ... & ... & ... & ...\\\\\n",
       "\t Zimbabwe & ZW & ZWE & 2012 & new\\_sn\\_f5564 &  516\\\\\n",
       "\t Zimbabwe & ZW & ZWE & 2012 & new\\_sn\\_f65   &  432\\\\\n",
       "\t Zimbabwe & ZW & ZWE & 2012 & new\\_ep\\_m014  &  233\\\\\n",
       "\t Zimbabwe & ZW & ZWE & 2012 & new\\_ep\\_m1524 &  214\\\\\n",
       "\t Zimbabwe & ZW & ZWE & 2012 & new\\_ep\\_m2534 &  658\\\\\n",
       "\t Zimbabwe & ZW & ZWE & 2012 & new\\_ep\\_m3544 &  789\\\\\n",
       "\t Zimbabwe & ZW & ZWE & 2012 & new\\_ep\\_m4554 &  331\\\\\n",
       "\t Zimbabwe & ZW & ZWE & 2012 & new\\_ep\\_m5564 &  178\\\\\n",
       "\t Zimbabwe & ZW & ZWE & 2012 & new\\_ep\\_m65   &  182\\\\\n",
       "\t Zimbabwe & ZW & ZWE & 2012 & new\\_ep\\_f014  &  208\\\\\n",
       "\t Zimbabwe & ZW & ZWE & 2012 & new\\_ep\\_f1524 &  319\\\\\n",
       "\t Zimbabwe & ZW & ZWE & 2012 & new\\_ep\\_f2534 &  710\\\\\n",
       "\t Zimbabwe & ZW & ZWE & 2012 & new\\_ep\\_f3544 &  579\\\\\n",
       "\t Zimbabwe & ZW & ZWE & 2012 & new\\_ep\\_f4554 &  228\\\\\n",
       "\t Zimbabwe & ZW & ZWE & 2012 & new\\_ep\\_f5564 &  140\\\\\n",
       "\t Zimbabwe & ZW & ZWE & 2012 & new\\_ep\\_f65   &  143\\\\\n",
       "\t Zimbabwe & ZW & ZWE & 2013 & newrel\\_m014  & 1315\\\\\n",
       "\t Zimbabwe & ZW & ZWE & 2013 & newrel\\_m1524 & 1642\\\\\n",
       "\t Zimbabwe & ZW & ZWE & 2013 & newrel\\_m2534 & 5331\\\\\n",
       "\t Zimbabwe & ZW & ZWE & 2013 & newrel\\_m3544 & 5363\\\\\n",
       "\t Zimbabwe & ZW & ZWE & 2013 & newrel\\_m4554 & 2349\\\\\n",
       "\t Zimbabwe & ZW & ZWE & 2013 & newrel\\_m5564 & 1206\\\\\n",
       "\t Zimbabwe & ZW & ZWE & 2013 & newrel\\_m65   & 1208\\\\\n",
       "\t Zimbabwe & ZW & ZWE & 2013 & newrel\\_f014  & 1252\\\\\n",
       "\t Zimbabwe & ZW & ZWE & 2013 & newrel\\_f1524 & 2069\\\\\n",
       "\t Zimbabwe & ZW & ZWE & 2013 & newrel\\_f2534 & 4649\\\\\n",
       "\t Zimbabwe & ZW & ZWE & 2013 & newrel\\_f3544 & 3526\\\\\n",
       "\t Zimbabwe & ZW & ZWE & 2013 & newrel\\_f4554 & 1453\\\\\n",
       "\t Zimbabwe & ZW & ZWE & 2013 & newrel\\_f5564 &  811\\\\\n",
       "\t Zimbabwe & ZW & ZWE & 2013 & newrel\\_f65   &  725\\\\\n",
       "\\end{tabular}\n"
      ],
      "text/markdown": [
       "\n",
       "A tibble: 76046 × 6\n",
       "\n",
       "| country &lt;chr&gt; | iso2 &lt;chr&gt; | iso3 &lt;chr&gt; | year &lt;int&gt; | Key &lt;chr&gt; | Cases &lt;int&gt; |\n",
       "|---|---|---|---|---|---|\n",
       "| Afghanistan | AF | AFG | 1997 | new_sp_m014  |   0 |\n",
       "| Afghanistan | AF | AFG | 1997 | new_sp_m1524 |  10 |\n",
       "| Afghanistan | AF | AFG | 1997 | new_sp_m2534 |   6 |\n",
       "| Afghanistan | AF | AFG | 1997 | new_sp_m3544 |   3 |\n",
       "| Afghanistan | AF | AFG | 1997 | new_sp_m4554 |   5 |\n",
       "| Afghanistan | AF | AFG | 1997 | new_sp_m5564 |   2 |\n",
       "| Afghanistan | AF | AFG | 1997 | new_sp_m65   |   0 |\n",
       "| Afghanistan | AF | AFG | 1997 | new_sp_f014  |   5 |\n",
       "| Afghanistan | AF | AFG | 1997 | new_sp_f1524 |  38 |\n",
       "| Afghanistan | AF | AFG | 1997 | new_sp_f2534 |  36 |\n",
       "| Afghanistan | AF | AFG | 1997 | new_sp_f3544 |  14 |\n",
       "| Afghanistan | AF | AFG | 1997 | new_sp_f4554 |   8 |\n",
       "| Afghanistan | AF | AFG | 1997 | new_sp_f5564 |   0 |\n",
       "| Afghanistan | AF | AFG | 1997 | new_sp_f65   |   1 |\n",
       "| Afghanistan | AF | AFG | 1998 | new_sp_m014  |  30 |\n",
       "| Afghanistan | AF | AFG | 1998 | new_sp_m1524 | 129 |\n",
       "| Afghanistan | AF | AFG | 1998 | new_sp_m2534 | 128 |\n",
       "| Afghanistan | AF | AFG | 1998 | new_sp_m3544 |  90 |\n",
       "| Afghanistan | AF | AFG | 1998 | new_sp_m4554 |  89 |\n",
       "| Afghanistan | AF | AFG | 1998 | new_sp_m5564 |  64 |\n",
       "| Afghanistan | AF | AFG | 1998 | new_sp_m65   |  41 |\n",
       "| Afghanistan | AF | AFG | 1998 | new_sp_f014  |  45 |\n",
       "| Afghanistan | AF | AFG | 1998 | new_sp_f1524 | 350 |\n",
       "| Afghanistan | AF | AFG | 1998 | new_sp_f2534 | 419 |\n",
       "| Afghanistan | AF | AFG | 1998 | new_sp_f3544 | 194 |\n",
       "| Afghanistan | AF | AFG | 1998 | new_sp_f4554 | 118 |\n",
       "| Afghanistan | AF | AFG | 1998 | new_sp_f5564 |  61 |\n",
       "| Afghanistan | AF | AFG | 1998 | new_sp_f65   |  20 |\n",
       "| Afghanistan | AF | AFG | 1999 | new_sp_m014  |   8 |\n",
       "| Afghanistan | AF | AFG | 1999 | new_sp_m1524 |  55 |\n",
       "| ... | ... | ... | ... | ... | ... |\n",
       "| Zimbabwe | ZW | ZWE | 2012 | new_sn_f5564 |  516 |\n",
       "| Zimbabwe | ZW | ZWE | 2012 | new_sn_f65   |  432 |\n",
       "| Zimbabwe | ZW | ZWE | 2012 | new_ep_m014  |  233 |\n",
       "| Zimbabwe | ZW | ZWE | 2012 | new_ep_m1524 |  214 |\n",
       "| Zimbabwe | ZW | ZWE | 2012 | new_ep_m2534 |  658 |\n",
       "| Zimbabwe | ZW | ZWE | 2012 | new_ep_m3544 |  789 |\n",
       "| Zimbabwe | ZW | ZWE | 2012 | new_ep_m4554 |  331 |\n",
       "| Zimbabwe | ZW | ZWE | 2012 | new_ep_m5564 |  178 |\n",
       "| Zimbabwe | ZW | ZWE | 2012 | new_ep_m65   |  182 |\n",
       "| Zimbabwe | ZW | ZWE | 2012 | new_ep_f014  |  208 |\n",
       "| Zimbabwe | ZW | ZWE | 2012 | new_ep_f1524 |  319 |\n",
       "| Zimbabwe | ZW | ZWE | 2012 | new_ep_f2534 |  710 |\n",
       "| Zimbabwe | ZW | ZWE | 2012 | new_ep_f3544 |  579 |\n",
       "| Zimbabwe | ZW | ZWE | 2012 | new_ep_f4554 |  228 |\n",
       "| Zimbabwe | ZW | ZWE | 2012 | new_ep_f5564 |  140 |\n",
       "| Zimbabwe | ZW | ZWE | 2012 | new_ep_f65   |  143 |\n",
       "| Zimbabwe | ZW | ZWE | 2013 | newrel_m014  | 1315 |\n",
       "| Zimbabwe | ZW | ZWE | 2013 | newrel_m1524 | 1642 |\n",
       "| Zimbabwe | ZW | ZWE | 2013 | newrel_m2534 | 5331 |\n",
       "| Zimbabwe | ZW | ZWE | 2013 | newrel_m3544 | 5363 |\n",
       "| Zimbabwe | ZW | ZWE | 2013 | newrel_m4554 | 2349 |\n",
       "| Zimbabwe | ZW | ZWE | 2013 | newrel_m5564 | 1206 |\n",
       "| Zimbabwe | ZW | ZWE | 2013 | newrel_m65   | 1208 |\n",
       "| Zimbabwe | ZW | ZWE | 2013 | newrel_f014  | 1252 |\n",
       "| Zimbabwe | ZW | ZWE | 2013 | newrel_f1524 | 2069 |\n",
       "| Zimbabwe | ZW | ZWE | 2013 | newrel_f2534 | 4649 |\n",
       "| Zimbabwe | ZW | ZWE | 2013 | newrel_f3544 | 3526 |\n",
       "| Zimbabwe | ZW | ZWE | 2013 | newrel_f4554 | 1453 |\n",
       "| Zimbabwe | ZW | ZWE | 2013 | newrel_f5564 |  811 |\n",
       "| Zimbabwe | ZW | ZWE | 2013 | newrel_f65   |  725 |\n",
       "\n"
      ],
      "text/plain": [
       "      country     iso2 iso3 year Key          Cases\n",
       "1     Afghanistan AF   AFG  1997 new_sp_m014    0  \n",
       "2     Afghanistan AF   AFG  1997 new_sp_m1524  10  \n",
       "3     Afghanistan AF   AFG  1997 new_sp_m2534   6  \n",
       "4     Afghanistan AF   AFG  1997 new_sp_m3544   3  \n",
       "5     Afghanistan AF   AFG  1997 new_sp_m4554   5  \n",
       "6     Afghanistan AF   AFG  1997 new_sp_m5564   2  \n",
       "7     Afghanistan AF   AFG  1997 new_sp_m65     0  \n",
       "8     Afghanistan AF   AFG  1997 new_sp_f014    5  \n",
       "9     Afghanistan AF   AFG  1997 new_sp_f1524  38  \n",
       "10    Afghanistan AF   AFG  1997 new_sp_f2534  36  \n",
       "11    Afghanistan AF   AFG  1997 new_sp_f3544  14  \n",
       "12    Afghanistan AF   AFG  1997 new_sp_f4554   8  \n",
       "13    Afghanistan AF   AFG  1997 new_sp_f5564   0  \n",
       "14    Afghanistan AF   AFG  1997 new_sp_f65     1  \n",
       "15    Afghanistan AF   AFG  1998 new_sp_m014   30  \n",
       "16    Afghanistan AF   AFG  1998 new_sp_m1524 129  \n",
       "17    Afghanistan AF   AFG  1998 new_sp_m2534 128  \n",
       "18    Afghanistan AF   AFG  1998 new_sp_m3544  90  \n",
       "19    Afghanistan AF   AFG  1998 new_sp_m4554  89  \n",
       "20    Afghanistan AF   AFG  1998 new_sp_m5564  64  \n",
       "21    Afghanistan AF   AFG  1998 new_sp_m65    41  \n",
       "22    Afghanistan AF   AFG  1998 new_sp_f014   45  \n",
       "23    Afghanistan AF   AFG  1998 new_sp_f1524 350  \n",
       "24    Afghanistan AF   AFG  1998 new_sp_f2534 419  \n",
       "25    Afghanistan AF   AFG  1998 new_sp_f3544 194  \n",
       "26    Afghanistan AF   AFG  1998 new_sp_f4554 118  \n",
       "27    Afghanistan AF   AFG  1998 new_sp_f5564  61  \n",
       "28    Afghanistan AF   AFG  1998 new_sp_f65    20  \n",
       "29    Afghanistan AF   AFG  1999 new_sp_m014    8  \n",
       "30    Afghanistan AF   AFG  1999 new_sp_m1524  55  \n",
       "...   ...         ...  ...  ...  ...          ...  \n",
       "76017 Zimbabwe    ZW   ZWE  2012 new_sn_f5564  516 \n",
       "76018 Zimbabwe    ZW   ZWE  2012 new_sn_f65    432 \n",
       "76019 Zimbabwe    ZW   ZWE  2012 new_ep_m014   233 \n",
       "76020 Zimbabwe    ZW   ZWE  2012 new_ep_m1524  214 \n",
       "76021 Zimbabwe    ZW   ZWE  2012 new_ep_m2534  658 \n",
       "76022 Zimbabwe    ZW   ZWE  2012 new_ep_m3544  789 \n",
       "76023 Zimbabwe    ZW   ZWE  2012 new_ep_m4554  331 \n",
       "76024 Zimbabwe    ZW   ZWE  2012 new_ep_m5564  178 \n",
       "76025 Zimbabwe    ZW   ZWE  2012 new_ep_m65    182 \n",
       "76026 Zimbabwe    ZW   ZWE  2012 new_ep_f014   208 \n",
       "76027 Zimbabwe    ZW   ZWE  2012 new_ep_f1524  319 \n",
       "76028 Zimbabwe    ZW   ZWE  2012 new_ep_f2534  710 \n",
       "76029 Zimbabwe    ZW   ZWE  2012 new_ep_f3544  579 \n",
       "76030 Zimbabwe    ZW   ZWE  2012 new_ep_f4554  228 \n",
       "76031 Zimbabwe    ZW   ZWE  2012 new_ep_f5564  140 \n",
       "76032 Zimbabwe    ZW   ZWE  2012 new_ep_f65    143 \n",
       "76033 Zimbabwe    ZW   ZWE  2013 newrel_m014  1315 \n",
       "76034 Zimbabwe    ZW   ZWE  2013 newrel_m1524 1642 \n",
       "76035 Zimbabwe    ZW   ZWE  2013 newrel_m2534 5331 \n",
       "76036 Zimbabwe    ZW   ZWE  2013 newrel_m3544 5363 \n",
       "76037 Zimbabwe    ZW   ZWE  2013 newrel_m4554 2349 \n",
       "76038 Zimbabwe    ZW   ZWE  2013 newrel_m5564 1206 \n",
       "76039 Zimbabwe    ZW   ZWE  2013 newrel_m65   1208 \n",
       "76040 Zimbabwe    ZW   ZWE  2013 newrel_f014  1252 \n",
       "76041 Zimbabwe    ZW   ZWE  2013 newrel_f1524 2069 \n",
       "76042 Zimbabwe    ZW   ZWE  2013 newrel_f2534 4649 \n",
       "76043 Zimbabwe    ZW   ZWE  2013 newrel_f3544 3526 \n",
       "76044 Zimbabwe    ZW   ZWE  2013 newrel_f4554 1453 \n",
       "76045 Zimbabwe    ZW   ZWE  2013 newrel_f5564  811 \n",
       "76046 Zimbabwe    ZW   ZWE  2013 newrel_f65    725 "
      ]
     },
     "metadata": {},
     "output_type": "display_data"
    }
   ],
   "source": [
    "View(Who1)"
   ]
  },
  {
   "cell_type": "markdown",
   "id": "c65fb124",
   "metadata": {},
   "source": [
    "2. Fixing the variables' names for consistency"
   ]
  },
  {
   "cell_type": "markdown",
   "id": "7422826c",
   "metadata": {},
   "source": [
    "Using mutate to replace the values in the key column with new values after using str_replace to fix the names"
   ]
  },
  {
   "cell_type": "code",
   "execution_count": 7,
   "id": "541806c9",
   "metadata": {},
   "outputs": [],
   "source": [
    "Who2 <- mutate(Who1,Key = str_replace(Who1$Key, 'newrel' ,\"new_rel\"))\n",
    "# 'Key =' replaces the values in the Key cloumn with the new replacement value in str_replace"
   ]
  },
  {
   "cell_type": "code",
   "execution_count": 8,
   "id": "fcbaac98",
   "metadata": {
    "scrolled": true
   },
   "outputs": [
    {
     "data": {
      "text/html": [
       "<table class=\"dataframe\">\n",
       "<caption>A tibble: 76046 × 6</caption>\n",
       "<thead>\n",
       "\t<tr><th scope=col>country</th><th scope=col>iso2</th><th scope=col>iso3</th><th scope=col>year</th><th scope=col>Key</th><th scope=col>Cases</th></tr>\n",
       "\t<tr><th scope=col>&lt;chr&gt;</th><th scope=col>&lt;chr&gt;</th><th scope=col>&lt;chr&gt;</th><th scope=col>&lt;int&gt;</th><th scope=col>&lt;chr&gt;</th><th scope=col>&lt;int&gt;</th></tr>\n",
       "</thead>\n",
       "<tbody>\n",
       "\t<tr><td>Afghanistan</td><td>AF</td><td>AFG</td><td>1997</td><td>new_sp_m014 </td><td>  0</td></tr>\n",
       "\t<tr><td>Afghanistan</td><td>AF</td><td>AFG</td><td>1997</td><td>new_sp_m1524</td><td> 10</td></tr>\n",
       "\t<tr><td>Afghanistan</td><td>AF</td><td>AFG</td><td>1997</td><td>new_sp_m2534</td><td>  6</td></tr>\n",
       "\t<tr><td>Afghanistan</td><td>AF</td><td>AFG</td><td>1997</td><td>new_sp_m3544</td><td>  3</td></tr>\n",
       "\t<tr><td>Afghanistan</td><td>AF</td><td>AFG</td><td>1997</td><td>new_sp_m4554</td><td>  5</td></tr>\n",
       "\t<tr><td>Afghanistan</td><td>AF</td><td>AFG</td><td>1997</td><td>new_sp_m5564</td><td>  2</td></tr>\n",
       "\t<tr><td>Afghanistan</td><td>AF</td><td>AFG</td><td>1997</td><td>new_sp_m65  </td><td>  0</td></tr>\n",
       "\t<tr><td>Afghanistan</td><td>AF</td><td>AFG</td><td>1997</td><td>new_sp_f014 </td><td>  5</td></tr>\n",
       "\t<tr><td>Afghanistan</td><td>AF</td><td>AFG</td><td>1997</td><td>new_sp_f1524</td><td> 38</td></tr>\n",
       "\t<tr><td>Afghanistan</td><td>AF</td><td>AFG</td><td>1997</td><td>new_sp_f2534</td><td> 36</td></tr>\n",
       "\t<tr><td>Afghanistan</td><td>AF</td><td>AFG</td><td>1997</td><td>new_sp_f3544</td><td> 14</td></tr>\n",
       "\t<tr><td>Afghanistan</td><td>AF</td><td>AFG</td><td>1997</td><td>new_sp_f4554</td><td>  8</td></tr>\n",
       "\t<tr><td>Afghanistan</td><td>AF</td><td>AFG</td><td>1997</td><td>new_sp_f5564</td><td>  0</td></tr>\n",
       "\t<tr><td>Afghanistan</td><td>AF</td><td>AFG</td><td>1997</td><td>new_sp_f65  </td><td>  1</td></tr>\n",
       "\t<tr><td>Afghanistan</td><td>AF</td><td>AFG</td><td>1998</td><td>new_sp_m014 </td><td> 30</td></tr>\n",
       "\t<tr><td>Afghanistan</td><td>AF</td><td>AFG</td><td>1998</td><td>new_sp_m1524</td><td>129</td></tr>\n",
       "\t<tr><td>Afghanistan</td><td>AF</td><td>AFG</td><td>1998</td><td>new_sp_m2534</td><td>128</td></tr>\n",
       "\t<tr><td>Afghanistan</td><td>AF</td><td>AFG</td><td>1998</td><td>new_sp_m3544</td><td> 90</td></tr>\n",
       "\t<tr><td>Afghanistan</td><td>AF</td><td>AFG</td><td>1998</td><td>new_sp_m4554</td><td> 89</td></tr>\n",
       "\t<tr><td>Afghanistan</td><td>AF</td><td>AFG</td><td>1998</td><td>new_sp_m5564</td><td> 64</td></tr>\n",
       "\t<tr><td>Afghanistan</td><td>AF</td><td>AFG</td><td>1998</td><td>new_sp_m65  </td><td> 41</td></tr>\n",
       "\t<tr><td>Afghanistan</td><td>AF</td><td>AFG</td><td>1998</td><td>new_sp_f014 </td><td> 45</td></tr>\n",
       "\t<tr><td>Afghanistan</td><td>AF</td><td>AFG</td><td>1998</td><td>new_sp_f1524</td><td>350</td></tr>\n",
       "\t<tr><td>Afghanistan</td><td>AF</td><td>AFG</td><td>1998</td><td>new_sp_f2534</td><td>419</td></tr>\n",
       "\t<tr><td>Afghanistan</td><td>AF</td><td>AFG</td><td>1998</td><td>new_sp_f3544</td><td>194</td></tr>\n",
       "\t<tr><td>Afghanistan</td><td>AF</td><td>AFG</td><td>1998</td><td>new_sp_f4554</td><td>118</td></tr>\n",
       "\t<tr><td>Afghanistan</td><td>AF</td><td>AFG</td><td>1998</td><td>new_sp_f5564</td><td> 61</td></tr>\n",
       "\t<tr><td>Afghanistan</td><td>AF</td><td>AFG</td><td>1998</td><td>new_sp_f65  </td><td> 20</td></tr>\n",
       "\t<tr><td>Afghanistan</td><td>AF</td><td>AFG</td><td>1999</td><td>new_sp_m014 </td><td>  8</td></tr>\n",
       "\t<tr><td>Afghanistan</td><td>AF</td><td>AFG</td><td>1999</td><td>new_sp_m1524</td><td> 55</td></tr>\n",
       "\t<tr><td>...</td><td>...</td><td>...</td><td>...</td><td>...</td><td>...</td></tr>\n",
       "\t<tr><td>Zimbabwe</td><td>ZW</td><td>ZWE</td><td>2012</td><td>new_sn_f5564 </td><td> 516</td></tr>\n",
       "\t<tr><td>Zimbabwe</td><td>ZW</td><td>ZWE</td><td>2012</td><td>new_sn_f65   </td><td> 432</td></tr>\n",
       "\t<tr><td>Zimbabwe</td><td>ZW</td><td>ZWE</td><td>2012</td><td>new_ep_m014  </td><td> 233</td></tr>\n",
       "\t<tr><td>Zimbabwe</td><td>ZW</td><td>ZWE</td><td>2012</td><td>new_ep_m1524 </td><td> 214</td></tr>\n",
       "\t<tr><td>Zimbabwe</td><td>ZW</td><td>ZWE</td><td>2012</td><td>new_ep_m2534 </td><td> 658</td></tr>\n",
       "\t<tr><td>Zimbabwe</td><td>ZW</td><td>ZWE</td><td>2012</td><td>new_ep_m3544 </td><td> 789</td></tr>\n",
       "\t<tr><td>Zimbabwe</td><td>ZW</td><td>ZWE</td><td>2012</td><td>new_ep_m4554 </td><td> 331</td></tr>\n",
       "\t<tr><td>Zimbabwe</td><td>ZW</td><td>ZWE</td><td>2012</td><td>new_ep_m5564 </td><td> 178</td></tr>\n",
       "\t<tr><td>Zimbabwe</td><td>ZW</td><td>ZWE</td><td>2012</td><td>new_ep_m65   </td><td> 182</td></tr>\n",
       "\t<tr><td>Zimbabwe</td><td>ZW</td><td>ZWE</td><td>2012</td><td>new_ep_f014  </td><td> 208</td></tr>\n",
       "\t<tr><td>Zimbabwe</td><td>ZW</td><td>ZWE</td><td>2012</td><td>new_ep_f1524 </td><td> 319</td></tr>\n",
       "\t<tr><td>Zimbabwe</td><td>ZW</td><td>ZWE</td><td>2012</td><td>new_ep_f2534 </td><td> 710</td></tr>\n",
       "\t<tr><td>Zimbabwe</td><td>ZW</td><td>ZWE</td><td>2012</td><td>new_ep_f3544 </td><td> 579</td></tr>\n",
       "\t<tr><td>Zimbabwe</td><td>ZW</td><td>ZWE</td><td>2012</td><td>new_ep_f4554 </td><td> 228</td></tr>\n",
       "\t<tr><td>Zimbabwe</td><td>ZW</td><td>ZWE</td><td>2012</td><td>new_ep_f5564 </td><td> 140</td></tr>\n",
       "\t<tr><td>Zimbabwe</td><td>ZW</td><td>ZWE</td><td>2012</td><td>new_ep_f65   </td><td> 143</td></tr>\n",
       "\t<tr><td>Zimbabwe</td><td>ZW</td><td>ZWE</td><td>2013</td><td>new_rel_m014 </td><td>1315</td></tr>\n",
       "\t<tr><td>Zimbabwe</td><td>ZW</td><td>ZWE</td><td>2013</td><td>new_rel_m1524</td><td>1642</td></tr>\n",
       "\t<tr><td>Zimbabwe</td><td>ZW</td><td>ZWE</td><td>2013</td><td>new_rel_m2534</td><td>5331</td></tr>\n",
       "\t<tr><td>Zimbabwe</td><td>ZW</td><td>ZWE</td><td>2013</td><td>new_rel_m3544</td><td>5363</td></tr>\n",
       "\t<tr><td>Zimbabwe</td><td>ZW</td><td>ZWE</td><td>2013</td><td>new_rel_m4554</td><td>2349</td></tr>\n",
       "\t<tr><td>Zimbabwe</td><td>ZW</td><td>ZWE</td><td>2013</td><td>new_rel_m5564</td><td>1206</td></tr>\n",
       "\t<tr><td>Zimbabwe</td><td>ZW</td><td>ZWE</td><td>2013</td><td>new_rel_m65  </td><td>1208</td></tr>\n",
       "\t<tr><td>Zimbabwe</td><td>ZW</td><td>ZWE</td><td>2013</td><td>new_rel_f014 </td><td>1252</td></tr>\n",
       "\t<tr><td>Zimbabwe</td><td>ZW</td><td>ZWE</td><td>2013</td><td>new_rel_f1524</td><td>2069</td></tr>\n",
       "\t<tr><td>Zimbabwe</td><td>ZW</td><td>ZWE</td><td>2013</td><td>new_rel_f2534</td><td>4649</td></tr>\n",
       "\t<tr><td>Zimbabwe</td><td>ZW</td><td>ZWE</td><td>2013</td><td>new_rel_f3544</td><td>3526</td></tr>\n",
       "\t<tr><td>Zimbabwe</td><td>ZW</td><td>ZWE</td><td>2013</td><td>new_rel_f4554</td><td>1453</td></tr>\n",
       "\t<tr><td>Zimbabwe</td><td>ZW</td><td>ZWE</td><td>2013</td><td>new_rel_f5564</td><td> 811</td></tr>\n",
       "\t<tr><td>Zimbabwe</td><td>ZW</td><td>ZWE</td><td>2013</td><td>new_rel_f65  </td><td> 725</td></tr>\n",
       "</tbody>\n",
       "</table>\n"
      ],
      "text/latex": [
       "A tibble: 76046 × 6\n",
       "\\begin{tabular}{llllll}\n",
       " country & iso2 & iso3 & year & Key & Cases\\\\\n",
       " <chr> & <chr> & <chr> & <int> & <chr> & <int>\\\\\n",
       "\\hline\n",
       "\t Afghanistan & AF & AFG & 1997 & new\\_sp\\_m014  &   0\\\\\n",
       "\t Afghanistan & AF & AFG & 1997 & new\\_sp\\_m1524 &  10\\\\\n",
       "\t Afghanistan & AF & AFG & 1997 & new\\_sp\\_m2534 &   6\\\\\n",
       "\t Afghanistan & AF & AFG & 1997 & new\\_sp\\_m3544 &   3\\\\\n",
       "\t Afghanistan & AF & AFG & 1997 & new\\_sp\\_m4554 &   5\\\\\n",
       "\t Afghanistan & AF & AFG & 1997 & new\\_sp\\_m5564 &   2\\\\\n",
       "\t Afghanistan & AF & AFG & 1997 & new\\_sp\\_m65   &   0\\\\\n",
       "\t Afghanistan & AF & AFG & 1997 & new\\_sp\\_f014  &   5\\\\\n",
       "\t Afghanistan & AF & AFG & 1997 & new\\_sp\\_f1524 &  38\\\\\n",
       "\t Afghanistan & AF & AFG & 1997 & new\\_sp\\_f2534 &  36\\\\\n",
       "\t Afghanistan & AF & AFG & 1997 & new\\_sp\\_f3544 &  14\\\\\n",
       "\t Afghanistan & AF & AFG & 1997 & new\\_sp\\_f4554 &   8\\\\\n",
       "\t Afghanistan & AF & AFG & 1997 & new\\_sp\\_f5564 &   0\\\\\n",
       "\t Afghanistan & AF & AFG & 1997 & new\\_sp\\_f65   &   1\\\\\n",
       "\t Afghanistan & AF & AFG & 1998 & new\\_sp\\_m014  &  30\\\\\n",
       "\t Afghanistan & AF & AFG & 1998 & new\\_sp\\_m1524 & 129\\\\\n",
       "\t Afghanistan & AF & AFG & 1998 & new\\_sp\\_m2534 & 128\\\\\n",
       "\t Afghanistan & AF & AFG & 1998 & new\\_sp\\_m3544 &  90\\\\\n",
       "\t Afghanistan & AF & AFG & 1998 & new\\_sp\\_m4554 &  89\\\\\n",
       "\t Afghanistan & AF & AFG & 1998 & new\\_sp\\_m5564 &  64\\\\\n",
       "\t Afghanistan & AF & AFG & 1998 & new\\_sp\\_m65   &  41\\\\\n",
       "\t Afghanistan & AF & AFG & 1998 & new\\_sp\\_f014  &  45\\\\\n",
       "\t Afghanistan & AF & AFG & 1998 & new\\_sp\\_f1524 & 350\\\\\n",
       "\t Afghanistan & AF & AFG & 1998 & new\\_sp\\_f2534 & 419\\\\\n",
       "\t Afghanistan & AF & AFG & 1998 & new\\_sp\\_f3544 & 194\\\\\n",
       "\t Afghanistan & AF & AFG & 1998 & new\\_sp\\_f4554 & 118\\\\\n",
       "\t Afghanistan & AF & AFG & 1998 & new\\_sp\\_f5564 &  61\\\\\n",
       "\t Afghanistan & AF & AFG & 1998 & new\\_sp\\_f65   &  20\\\\\n",
       "\t Afghanistan & AF & AFG & 1999 & new\\_sp\\_m014  &   8\\\\\n",
       "\t Afghanistan & AF & AFG & 1999 & new\\_sp\\_m1524 &  55\\\\\n",
       "\t ... & ... & ... & ... & ... & ...\\\\\n",
       "\t Zimbabwe & ZW & ZWE & 2012 & new\\_sn\\_f5564  &  516\\\\\n",
       "\t Zimbabwe & ZW & ZWE & 2012 & new\\_sn\\_f65    &  432\\\\\n",
       "\t Zimbabwe & ZW & ZWE & 2012 & new\\_ep\\_m014   &  233\\\\\n",
       "\t Zimbabwe & ZW & ZWE & 2012 & new\\_ep\\_m1524  &  214\\\\\n",
       "\t Zimbabwe & ZW & ZWE & 2012 & new\\_ep\\_m2534  &  658\\\\\n",
       "\t Zimbabwe & ZW & ZWE & 2012 & new\\_ep\\_m3544  &  789\\\\\n",
       "\t Zimbabwe & ZW & ZWE & 2012 & new\\_ep\\_m4554  &  331\\\\\n",
       "\t Zimbabwe & ZW & ZWE & 2012 & new\\_ep\\_m5564  &  178\\\\\n",
       "\t Zimbabwe & ZW & ZWE & 2012 & new\\_ep\\_m65    &  182\\\\\n",
       "\t Zimbabwe & ZW & ZWE & 2012 & new\\_ep\\_f014   &  208\\\\\n",
       "\t Zimbabwe & ZW & ZWE & 2012 & new\\_ep\\_f1524  &  319\\\\\n",
       "\t Zimbabwe & ZW & ZWE & 2012 & new\\_ep\\_f2534  &  710\\\\\n",
       "\t Zimbabwe & ZW & ZWE & 2012 & new\\_ep\\_f3544  &  579\\\\\n",
       "\t Zimbabwe & ZW & ZWE & 2012 & new\\_ep\\_f4554  &  228\\\\\n",
       "\t Zimbabwe & ZW & ZWE & 2012 & new\\_ep\\_f5564  &  140\\\\\n",
       "\t Zimbabwe & ZW & ZWE & 2012 & new\\_ep\\_f65    &  143\\\\\n",
       "\t Zimbabwe & ZW & ZWE & 2013 & new\\_rel\\_m014  & 1315\\\\\n",
       "\t Zimbabwe & ZW & ZWE & 2013 & new\\_rel\\_m1524 & 1642\\\\\n",
       "\t Zimbabwe & ZW & ZWE & 2013 & new\\_rel\\_m2534 & 5331\\\\\n",
       "\t Zimbabwe & ZW & ZWE & 2013 & new\\_rel\\_m3544 & 5363\\\\\n",
       "\t Zimbabwe & ZW & ZWE & 2013 & new\\_rel\\_m4554 & 2349\\\\\n",
       "\t Zimbabwe & ZW & ZWE & 2013 & new\\_rel\\_m5564 & 1206\\\\\n",
       "\t Zimbabwe & ZW & ZWE & 2013 & new\\_rel\\_m65   & 1208\\\\\n",
       "\t Zimbabwe & ZW & ZWE & 2013 & new\\_rel\\_f014  & 1252\\\\\n",
       "\t Zimbabwe & ZW & ZWE & 2013 & new\\_rel\\_f1524 & 2069\\\\\n",
       "\t Zimbabwe & ZW & ZWE & 2013 & new\\_rel\\_f2534 & 4649\\\\\n",
       "\t Zimbabwe & ZW & ZWE & 2013 & new\\_rel\\_f3544 & 3526\\\\\n",
       "\t Zimbabwe & ZW & ZWE & 2013 & new\\_rel\\_f4554 & 1453\\\\\n",
       "\t Zimbabwe & ZW & ZWE & 2013 & new\\_rel\\_f5564 &  811\\\\\n",
       "\t Zimbabwe & ZW & ZWE & 2013 & new\\_rel\\_f65   &  725\\\\\n",
       "\\end{tabular}\n"
      ],
      "text/markdown": [
       "\n",
       "A tibble: 76046 × 6\n",
       "\n",
       "| country &lt;chr&gt; | iso2 &lt;chr&gt; | iso3 &lt;chr&gt; | year &lt;int&gt; | Key &lt;chr&gt; | Cases &lt;int&gt; |\n",
       "|---|---|---|---|---|---|\n",
       "| Afghanistan | AF | AFG | 1997 | new_sp_m014  |   0 |\n",
       "| Afghanistan | AF | AFG | 1997 | new_sp_m1524 |  10 |\n",
       "| Afghanistan | AF | AFG | 1997 | new_sp_m2534 |   6 |\n",
       "| Afghanistan | AF | AFG | 1997 | new_sp_m3544 |   3 |\n",
       "| Afghanistan | AF | AFG | 1997 | new_sp_m4554 |   5 |\n",
       "| Afghanistan | AF | AFG | 1997 | new_sp_m5564 |   2 |\n",
       "| Afghanistan | AF | AFG | 1997 | new_sp_m65   |   0 |\n",
       "| Afghanistan | AF | AFG | 1997 | new_sp_f014  |   5 |\n",
       "| Afghanistan | AF | AFG | 1997 | new_sp_f1524 |  38 |\n",
       "| Afghanistan | AF | AFG | 1997 | new_sp_f2534 |  36 |\n",
       "| Afghanistan | AF | AFG | 1997 | new_sp_f3544 |  14 |\n",
       "| Afghanistan | AF | AFG | 1997 | new_sp_f4554 |   8 |\n",
       "| Afghanistan | AF | AFG | 1997 | new_sp_f5564 |   0 |\n",
       "| Afghanistan | AF | AFG | 1997 | new_sp_f65   |   1 |\n",
       "| Afghanistan | AF | AFG | 1998 | new_sp_m014  |  30 |\n",
       "| Afghanistan | AF | AFG | 1998 | new_sp_m1524 | 129 |\n",
       "| Afghanistan | AF | AFG | 1998 | new_sp_m2534 | 128 |\n",
       "| Afghanistan | AF | AFG | 1998 | new_sp_m3544 |  90 |\n",
       "| Afghanistan | AF | AFG | 1998 | new_sp_m4554 |  89 |\n",
       "| Afghanistan | AF | AFG | 1998 | new_sp_m5564 |  64 |\n",
       "| Afghanistan | AF | AFG | 1998 | new_sp_m65   |  41 |\n",
       "| Afghanistan | AF | AFG | 1998 | new_sp_f014  |  45 |\n",
       "| Afghanistan | AF | AFG | 1998 | new_sp_f1524 | 350 |\n",
       "| Afghanistan | AF | AFG | 1998 | new_sp_f2534 | 419 |\n",
       "| Afghanistan | AF | AFG | 1998 | new_sp_f3544 | 194 |\n",
       "| Afghanistan | AF | AFG | 1998 | new_sp_f4554 | 118 |\n",
       "| Afghanistan | AF | AFG | 1998 | new_sp_f5564 |  61 |\n",
       "| Afghanistan | AF | AFG | 1998 | new_sp_f65   |  20 |\n",
       "| Afghanistan | AF | AFG | 1999 | new_sp_m014  |   8 |\n",
       "| Afghanistan | AF | AFG | 1999 | new_sp_m1524 |  55 |\n",
       "| ... | ... | ... | ... | ... | ... |\n",
       "| Zimbabwe | ZW | ZWE | 2012 | new_sn_f5564  |  516 |\n",
       "| Zimbabwe | ZW | ZWE | 2012 | new_sn_f65    |  432 |\n",
       "| Zimbabwe | ZW | ZWE | 2012 | new_ep_m014   |  233 |\n",
       "| Zimbabwe | ZW | ZWE | 2012 | new_ep_m1524  |  214 |\n",
       "| Zimbabwe | ZW | ZWE | 2012 | new_ep_m2534  |  658 |\n",
       "| Zimbabwe | ZW | ZWE | 2012 | new_ep_m3544  |  789 |\n",
       "| Zimbabwe | ZW | ZWE | 2012 | new_ep_m4554  |  331 |\n",
       "| Zimbabwe | ZW | ZWE | 2012 | new_ep_m5564  |  178 |\n",
       "| Zimbabwe | ZW | ZWE | 2012 | new_ep_m65    |  182 |\n",
       "| Zimbabwe | ZW | ZWE | 2012 | new_ep_f014   |  208 |\n",
       "| Zimbabwe | ZW | ZWE | 2012 | new_ep_f1524  |  319 |\n",
       "| Zimbabwe | ZW | ZWE | 2012 | new_ep_f2534  |  710 |\n",
       "| Zimbabwe | ZW | ZWE | 2012 | new_ep_f3544  |  579 |\n",
       "| Zimbabwe | ZW | ZWE | 2012 | new_ep_f4554  |  228 |\n",
       "| Zimbabwe | ZW | ZWE | 2012 | new_ep_f5564  |  140 |\n",
       "| Zimbabwe | ZW | ZWE | 2012 | new_ep_f65    |  143 |\n",
       "| Zimbabwe | ZW | ZWE | 2013 | new_rel_m014  | 1315 |\n",
       "| Zimbabwe | ZW | ZWE | 2013 | new_rel_m1524 | 1642 |\n",
       "| Zimbabwe | ZW | ZWE | 2013 | new_rel_m2534 | 5331 |\n",
       "| Zimbabwe | ZW | ZWE | 2013 | new_rel_m3544 | 5363 |\n",
       "| Zimbabwe | ZW | ZWE | 2013 | new_rel_m4554 | 2349 |\n",
       "| Zimbabwe | ZW | ZWE | 2013 | new_rel_m5564 | 1206 |\n",
       "| Zimbabwe | ZW | ZWE | 2013 | new_rel_m65   | 1208 |\n",
       "| Zimbabwe | ZW | ZWE | 2013 | new_rel_f014  | 1252 |\n",
       "| Zimbabwe | ZW | ZWE | 2013 | new_rel_f1524 | 2069 |\n",
       "| Zimbabwe | ZW | ZWE | 2013 | new_rel_f2534 | 4649 |\n",
       "| Zimbabwe | ZW | ZWE | 2013 | new_rel_f3544 | 3526 |\n",
       "| Zimbabwe | ZW | ZWE | 2013 | new_rel_f4554 | 1453 |\n",
       "| Zimbabwe | ZW | ZWE | 2013 | new_rel_f5564 |  811 |\n",
       "| Zimbabwe | ZW | ZWE | 2013 | new_rel_f65   |  725 |\n",
       "\n"
      ],
      "text/plain": [
       "      country     iso2 iso3 year Key           Cases\n",
       "1     Afghanistan AF   AFG  1997 new_sp_m014     0  \n",
       "2     Afghanistan AF   AFG  1997 new_sp_m1524   10  \n",
       "3     Afghanistan AF   AFG  1997 new_sp_m2534    6  \n",
       "4     Afghanistan AF   AFG  1997 new_sp_m3544    3  \n",
       "5     Afghanistan AF   AFG  1997 new_sp_m4554    5  \n",
       "6     Afghanistan AF   AFG  1997 new_sp_m5564    2  \n",
       "7     Afghanistan AF   AFG  1997 new_sp_m65      0  \n",
       "8     Afghanistan AF   AFG  1997 new_sp_f014     5  \n",
       "9     Afghanistan AF   AFG  1997 new_sp_f1524   38  \n",
       "10    Afghanistan AF   AFG  1997 new_sp_f2534   36  \n",
       "11    Afghanistan AF   AFG  1997 new_sp_f3544   14  \n",
       "12    Afghanistan AF   AFG  1997 new_sp_f4554    8  \n",
       "13    Afghanistan AF   AFG  1997 new_sp_f5564    0  \n",
       "14    Afghanistan AF   AFG  1997 new_sp_f65      1  \n",
       "15    Afghanistan AF   AFG  1998 new_sp_m014    30  \n",
       "16    Afghanistan AF   AFG  1998 new_sp_m1524  129  \n",
       "17    Afghanistan AF   AFG  1998 new_sp_m2534  128  \n",
       "18    Afghanistan AF   AFG  1998 new_sp_m3544   90  \n",
       "19    Afghanistan AF   AFG  1998 new_sp_m4554   89  \n",
       "20    Afghanistan AF   AFG  1998 new_sp_m5564   64  \n",
       "21    Afghanistan AF   AFG  1998 new_sp_m65     41  \n",
       "22    Afghanistan AF   AFG  1998 new_sp_f014    45  \n",
       "23    Afghanistan AF   AFG  1998 new_sp_f1524  350  \n",
       "24    Afghanistan AF   AFG  1998 new_sp_f2534  419  \n",
       "25    Afghanistan AF   AFG  1998 new_sp_f3544  194  \n",
       "26    Afghanistan AF   AFG  1998 new_sp_f4554  118  \n",
       "27    Afghanistan AF   AFG  1998 new_sp_f5564   61  \n",
       "28    Afghanistan AF   AFG  1998 new_sp_f65     20  \n",
       "29    Afghanistan AF   AFG  1999 new_sp_m014     8  \n",
       "30    Afghanistan AF   AFG  1999 new_sp_m1524   55  \n",
       "...   ...         ...  ...  ...  ...           ...  \n",
       "76017 Zimbabwe    ZW   ZWE  2012 new_sn_f5564   516 \n",
       "76018 Zimbabwe    ZW   ZWE  2012 new_sn_f65     432 \n",
       "76019 Zimbabwe    ZW   ZWE  2012 new_ep_m014    233 \n",
       "76020 Zimbabwe    ZW   ZWE  2012 new_ep_m1524   214 \n",
       "76021 Zimbabwe    ZW   ZWE  2012 new_ep_m2534   658 \n",
       "76022 Zimbabwe    ZW   ZWE  2012 new_ep_m3544   789 \n",
       "76023 Zimbabwe    ZW   ZWE  2012 new_ep_m4554   331 \n",
       "76024 Zimbabwe    ZW   ZWE  2012 new_ep_m5564   178 \n",
       "76025 Zimbabwe    ZW   ZWE  2012 new_ep_m65     182 \n",
       "76026 Zimbabwe    ZW   ZWE  2012 new_ep_f014    208 \n",
       "76027 Zimbabwe    ZW   ZWE  2012 new_ep_f1524   319 \n",
       "76028 Zimbabwe    ZW   ZWE  2012 new_ep_f2534   710 \n",
       "76029 Zimbabwe    ZW   ZWE  2012 new_ep_f3544   579 \n",
       "76030 Zimbabwe    ZW   ZWE  2012 new_ep_f4554   228 \n",
       "76031 Zimbabwe    ZW   ZWE  2012 new_ep_f5564   140 \n",
       "76032 Zimbabwe    ZW   ZWE  2012 new_ep_f65     143 \n",
       "76033 Zimbabwe    ZW   ZWE  2013 new_rel_m014  1315 \n",
       "76034 Zimbabwe    ZW   ZWE  2013 new_rel_m1524 1642 \n",
       "76035 Zimbabwe    ZW   ZWE  2013 new_rel_m2534 5331 \n",
       "76036 Zimbabwe    ZW   ZWE  2013 new_rel_m3544 5363 \n",
       "76037 Zimbabwe    ZW   ZWE  2013 new_rel_m4554 2349 \n",
       "76038 Zimbabwe    ZW   ZWE  2013 new_rel_m5564 1206 \n",
       "76039 Zimbabwe    ZW   ZWE  2013 new_rel_m65   1208 \n",
       "76040 Zimbabwe    ZW   ZWE  2013 new_rel_f014  1252 \n",
       "76041 Zimbabwe    ZW   ZWE  2013 new_rel_f1524 2069 \n",
       "76042 Zimbabwe    ZW   ZWE  2013 new_rel_f2534 4649 \n",
       "76043 Zimbabwe    ZW   ZWE  2013 new_rel_f3544 3526 \n",
       "76044 Zimbabwe    ZW   ZWE  2013 new_rel_f4554 1453 \n",
       "76045 Zimbabwe    ZW   ZWE  2013 new_rel_f5564  811 \n",
       "76046 Zimbabwe    ZW   ZWE  2013 new_rel_f65    725 "
      ]
     },
     "metadata": {},
     "output_type": "display_data"
    }
   ],
   "source": [
    "View(Who2)"
   ]
  },
  {
   "cell_type": "markdown",
   "id": "7cd6f638",
   "metadata": {},
   "source": [
    "3. Running the specified code"
   ]
  },
  {
   "cell_type": "code",
   "execution_count": 9,
   "id": "b9933193",
   "metadata": {},
   "outputs": [],
   "source": [
    "Who3 <- Who2 %>% \n",
    "separate(Key, c(\"new\", \"type\", \"sexage\"), sep = \"_\")"
   ]
  },
  {
   "cell_type": "markdown",
   "id": "6a0177f6",
   "metadata": {},
   "source": [
    "%>% provides a pipe for the separate function where the changes would be made on the Who2 data"
   ]
  },
  {
   "cell_type": "markdown",
   "id": "7cfda2f7",
   "metadata": {},
   "source": [
    "An alternative to 'Who2 %>%' would be to use Who2 in the function: separate(Who2, Key, c(\"new\", \"type\", \"sexage\"), sep = \"_\")"
   ]
  },
  {
   "cell_type": "code",
   "execution_count": 10,
   "id": "303f87d5",
   "metadata": {
    "scrolled": true
   },
   "outputs": [
    {
     "data": {
      "text/html": [
       "<table class=\"dataframe\">\n",
       "<caption>A tibble: 76046 × 8</caption>\n",
       "<thead>\n",
       "\t<tr><th scope=col>country</th><th scope=col>iso2</th><th scope=col>iso3</th><th scope=col>year</th><th scope=col>new</th><th scope=col>type</th><th scope=col>sexage</th><th scope=col>Cases</th></tr>\n",
       "\t<tr><th scope=col>&lt;chr&gt;</th><th scope=col>&lt;chr&gt;</th><th scope=col>&lt;chr&gt;</th><th scope=col>&lt;int&gt;</th><th scope=col>&lt;chr&gt;</th><th scope=col>&lt;chr&gt;</th><th scope=col>&lt;chr&gt;</th><th scope=col>&lt;int&gt;</th></tr>\n",
       "</thead>\n",
       "<tbody>\n",
       "\t<tr><td>Afghanistan</td><td>AF</td><td>AFG</td><td>1997</td><td>new</td><td>sp</td><td>m014 </td><td>  0</td></tr>\n",
       "\t<tr><td>Afghanistan</td><td>AF</td><td>AFG</td><td>1997</td><td>new</td><td>sp</td><td>m1524</td><td> 10</td></tr>\n",
       "\t<tr><td>Afghanistan</td><td>AF</td><td>AFG</td><td>1997</td><td>new</td><td>sp</td><td>m2534</td><td>  6</td></tr>\n",
       "\t<tr><td>Afghanistan</td><td>AF</td><td>AFG</td><td>1997</td><td>new</td><td>sp</td><td>m3544</td><td>  3</td></tr>\n",
       "\t<tr><td>Afghanistan</td><td>AF</td><td>AFG</td><td>1997</td><td>new</td><td>sp</td><td>m4554</td><td>  5</td></tr>\n",
       "\t<tr><td>Afghanistan</td><td>AF</td><td>AFG</td><td>1997</td><td>new</td><td>sp</td><td>m5564</td><td>  2</td></tr>\n",
       "\t<tr><td>Afghanistan</td><td>AF</td><td>AFG</td><td>1997</td><td>new</td><td>sp</td><td>m65  </td><td>  0</td></tr>\n",
       "\t<tr><td>Afghanistan</td><td>AF</td><td>AFG</td><td>1997</td><td>new</td><td>sp</td><td>f014 </td><td>  5</td></tr>\n",
       "\t<tr><td>Afghanistan</td><td>AF</td><td>AFG</td><td>1997</td><td>new</td><td>sp</td><td>f1524</td><td> 38</td></tr>\n",
       "\t<tr><td>Afghanistan</td><td>AF</td><td>AFG</td><td>1997</td><td>new</td><td>sp</td><td>f2534</td><td> 36</td></tr>\n",
       "\t<tr><td>Afghanistan</td><td>AF</td><td>AFG</td><td>1997</td><td>new</td><td>sp</td><td>f3544</td><td> 14</td></tr>\n",
       "\t<tr><td>Afghanistan</td><td>AF</td><td>AFG</td><td>1997</td><td>new</td><td>sp</td><td>f4554</td><td>  8</td></tr>\n",
       "\t<tr><td>Afghanistan</td><td>AF</td><td>AFG</td><td>1997</td><td>new</td><td>sp</td><td>f5564</td><td>  0</td></tr>\n",
       "\t<tr><td>Afghanistan</td><td>AF</td><td>AFG</td><td>1997</td><td>new</td><td>sp</td><td>f65  </td><td>  1</td></tr>\n",
       "\t<tr><td>Afghanistan</td><td>AF</td><td>AFG</td><td>1998</td><td>new</td><td>sp</td><td>m014 </td><td> 30</td></tr>\n",
       "\t<tr><td>Afghanistan</td><td>AF</td><td>AFG</td><td>1998</td><td>new</td><td>sp</td><td>m1524</td><td>129</td></tr>\n",
       "\t<tr><td>Afghanistan</td><td>AF</td><td>AFG</td><td>1998</td><td>new</td><td>sp</td><td>m2534</td><td>128</td></tr>\n",
       "\t<tr><td>Afghanistan</td><td>AF</td><td>AFG</td><td>1998</td><td>new</td><td>sp</td><td>m3544</td><td> 90</td></tr>\n",
       "\t<tr><td>Afghanistan</td><td>AF</td><td>AFG</td><td>1998</td><td>new</td><td>sp</td><td>m4554</td><td> 89</td></tr>\n",
       "\t<tr><td>Afghanistan</td><td>AF</td><td>AFG</td><td>1998</td><td>new</td><td>sp</td><td>m5564</td><td> 64</td></tr>\n",
       "\t<tr><td>Afghanistan</td><td>AF</td><td>AFG</td><td>1998</td><td>new</td><td>sp</td><td>m65  </td><td> 41</td></tr>\n",
       "\t<tr><td>Afghanistan</td><td>AF</td><td>AFG</td><td>1998</td><td>new</td><td>sp</td><td>f014 </td><td> 45</td></tr>\n",
       "\t<tr><td>Afghanistan</td><td>AF</td><td>AFG</td><td>1998</td><td>new</td><td>sp</td><td>f1524</td><td>350</td></tr>\n",
       "\t<tr><td>Afghanistan</td><td>AF</td><td>AFG</td><td>1998</td><td>new</td><td>sp</td><td>f2534</td><td>419</td></tr>\n",
       "\t<tr><td>Afghanistan</td><td>AF</td><td>AFG</td><td>1998</td><td>new</td><td>sp</td><td>f3544</td><td>194</td></tr>\n",
       "\t<tr><td>Afghanistan</td><td>AF</td><td>AFG</td><td>1998</td><td>new</td><td>sp</td><td>f4554</td><td>118</td></tr>\n",
       "\t<tr><td>Afghanistan</td><td>AF</td><td>AFG</td><td>1998</td><td>new</td><td>sp</td><td>f5564</td><td> 61</td></tr>\n",
       "\t<tr><td>Afghanistan</td><td>AF</td><td>AFG</td><td>1998</td><td>new</td><td>sp</td><td>f65  </td><td> 20</td></tr>\n",
       "\t<tr><td>Afghanistan</td><td>AF</td><td>AFG</td><td>1999</td><td>new</td><td>sp</td><td>m014 </td><td>  8</td></tr>\n",
       "\t<tr><td>Afghanistan</td><td>AF</td><td>AFG</td><td>1999</td><td>new</td><td>sp</td><td>m1524</td><td> 55</td></tr>\n",
       "\t<tr><td>...</td><td>...</td><td>...</td><td>...</td><td>...</td><td>...</td><td>...</td><td>...</td></tr>\n",
       "\t<tr><td>Zimbabwe</td><td>ZW</td><td>ZWE</td><td>2012</td><td>new</td><td>sn </td><td>f5564</td><td> 516</td></tr>\n",
       "\t<tr><td>Zimbabwe</td><td>ZW</td><td>ZWE</td><td>2012</td><td>new</td><td>sn </td><td>f65  </td><td> 432</td></tr>\n",
       "\t<tr><td>Zimbabwe</td><td>ZW</td><td>ZWE</td><td>2012</td><td>new</td><td>ep </td><td>m014 </td><td> 233</td></tr>\n",
       "\t<tr><td>Zimbabwe</td><td>ZW</td><td>ZWE</td><td>2012</td><td>new</td><td>ep </td><td>m1524</td><td> 214</td></tr>\n",
       "\t<tr><td>Zimbabwe</td><td>ZW</td><td>ZWE</td><td>2012</td><td>new</td><td>ep </td><td>m2534</td><td> 658</td></tr>\n",
       "\t<tr><td>Zimbabwe</td><td>ZW</td><td>ZWE</td><td>2012</td><td>new</td><td>ep </td><td>m3544</td><td> 789</td></tr>\n",
       "\t<tr><td>Zimbabwe</td><td>ZW</td><td>ZWE</td><td>2012</td><td>new</td><td>ep </td><td>m4554</td><td> 331</td></tr>\n",
       "\t<tr><td>Zimbabwe</td><td>ZW</td><td>ZWE</td><td>2012</td><td>new</td><td>ep </td><td>m5564</td><td> 178</td></tr>\n",
       "\t<tr><td>Zimbabwe</td><td>ZW</td><td>ZWE</td><td>2012</td><td>new</td><td>ep </td><td>m65  </td><td> 182</td></tr>\n",
       "\t<tr><td>Zimbabwe</td><td>ZW</td><td>ZWE</td><td>2012</td><td>new</td><td>ep </td><td>f014 </td><td> 208</td></tr>\n",
       "\t<tr><td>Zimbabwe</td><td>ZW</td><td>ZWE</td><td>2012</td><td>new</td><td>ep </td><td>f1524</td><td> 319</td></tr>\n",
       "\t<tr><td>Zimbabwe</td><td>ZW</td><td>ZWE</td><td>2012</td><td>new</td><td>ep </td><td>f2534</td><td> 710</td></tr>\n",
       "\t<tr><td>Zimbabwe</td><td>ZW</td><td>ZWE</td><td>2012</td><td>new</td><td>ep </td><td>f3544</td><td> 579</td></tr>\n",
       "\t<tr><td>Zimbabwe</td><td>ZW</td><td>ZWE</td><td>2012</td><td>new</td><td>ep </td><td>f4554</td><td> 228</td></tr>\n",
       "\t<tr><td>Zimbabwe</td><td>ZW</td><td>ZWE</td><td>2012</td><td>new</td><td>ep </td><td>f5564</td><td> 140</td></tr>\n",
       "\t<tr><td>Zimbabwe</td><td>ZW</td><td>ZWE</td><td>2012</td><td>new</td><td>ep </td><td>f65  </td><td> 143</td></tr>\n",
       "\t<tr><td>Zimbabwe</td><td>ZW</td><td>ZWE</td><td>2013</td><td>new</td><td>rel</td><td>m014 </td><td>1315</td></tr>\n",
       "\t<tr><td>Zimbabwe</td><td>ZW</td><td>ZWE</td><td>2013</td><td>new</td><td>rel</td><td>m1524</td><td>1642</td></tr>\n",
       "\t<tr><td>Zimbabwe</td><td>ZW</td><td>ZWE</td><td>2013</td><td>new</td><td>rel</td><td>m2534</td><td>5331</td></tr>\n",
       "\t<tr><td>Zimbabwe</td><td>ZW</td><td>ZWE</td><td>2013</td><td>new</td><td>rel</td><td>m3544</td><td>5363</td></tr>\n",
       "\t<tr><td>Zimbabwe</td><td>ZW</td><td>ZWE</td><td>2013</td><td>new</td><td>rel</td><td>m4554</td><td>2349</td></tr>\n",
       "\t<tr><td>Zimbabwe</td><td>ZW</td><td>ZWE</td><td>2013</td><td>new</td><td>rel</td><td>m5564</td><td>1206</td></tr>\n",
       "\t<tr><td>Zimbabwe</td><td>ZW</td><td>ZWE</td><td>2013</td><td>new</td><td>rel</td><td>m65  </td><td>1208</td></tr>\n",
       "\t<tr><td>Zimbabwe</td><td>ZW</td><td>ZWE</td><td>2013</td><td>new</td><td>rel</td><td>f014 </td><td>1252</td></tr>\n",
       "\t<tr><td>Zimbabwe</td><td>ZW</td><td>ZWE</td><td>2013</td><td>new</td><td>rel</td><td>f1524</td><td>2069</td></tr>\n",
       "\t<tr><td>Zimbabwe</td><td>ZW</td><td>ZWE</td><td>2013</td><td>new</td><td>rel</td><td>f2534</td><td>4649</td></tr>\n",
       "\t<tr><td>Zimbabwe</td><td>ZW</td><td>ZWE</td><td>2013</td><td>new</td><td>rel</td><td>f3544</td><td>3526</td></tr>\n",
       "\t<tr><td>Zimbabwe</td><td>ZW</td><td>ZWE</td><td>2013</td><td>new</td><td>rel</td><td>f4554</td><td>1453</td></tr>\n",
       "\t<tr><td>Zimbabwe</td><td>ZW</td><td>ZWE</td><td>2013</td><td>new</td><td>rel</td><td>f5564</td><td> 811</td></tr>\n",
       "\t<tr><td>Zimbabwe</td><td>ZW</td><td>ZWE</td><td>2013</td><td>new</td><td>rel</td><td>f65  </td><td> 725</td></tr>\n",
       "</tbody>\n",
       "</table>\n"
      ],
      "text/latex": [
       "A tibble: 76046 × 8\n",
       "\\begin{tabular}{llllllll}\n",
       " country & iso2 & iso3 & year & new & type & sexage & Cases\\\\\n",
       " <chr> & <chr> & <chr> & <int> & <chr> & <chr> & <chr> & <int>\\\\\n",
       "\\hline\n",
       "\t Afghanistan & AF & AFG & 1997 & new & sp & m014  &   0\\\\\n",
       "\t Afghanistan & AF & AFG & 1997 & new & sp & m1524 &  10\\\\\n",
       "\t Afghanistan & AF & AFG & 1997 & new & sp & m2534 &   6\\\\\n",
       "\t Afghanistan & AF & AFG & 1997 & new & sp & m3544 &   3\\\\\n",
       "\t Afghanistan & AF & AFG & 1997 & new & sp & m4554 &   5\\\\\n",
       "\t Afghanistan & AF & AFG & 1997 & new & sp & m5564 &   2\\\\\n",
       "\t Afghanistan & AF & AFG & 1997 & new & sp & m65   &   0\\\\\n",
       "\t Afghanistan & AF & AFG & 1997 & new & sp & f014  &   5\\\\\n",
       "\t Afghanistan & AF & AFG & 1997 & new & sp & f1524 &  38\\\\\n",
       "\t Afghanistan & AF & AFG & 1997 & new & sp & f2534 &  36\\\\\n",
       "\t Afghanistan & AF & AFG & 1997 & new & sp & f3544 &  14\\\\\n",
       "\t Afghanistan & AF & AFG & 1997 & new & sp & f4554 &   8\\\\\n",
       "\t Afghanistan & AF & AFG & 1997 & new & sp & f5564 &   0\\\\\n",
       "\t Afghanistan & AF & AFG & 1997 & new & sp & f65   &   1\\\\\n",
       "\t Afghanistan & AF & AFG & 1998 & new & sp & m014  &  30\\\\\n",
       "\t Afghanistan & AF & AFG & 1998 & new & sp & m1524 & 129\\\\\n",
       "\t Afghanistan & AF & AFG & 1998 & new & sp & m2534 & 128\\\\\n",
       "\t Afghanistan & AF & AFG & 1998 & new & sp & m3544 &  90\\\\\n",
       "\t Afghanistan & AF & AFG & 1998 & new & sp & m4554 &  89\\\\\n",
       "\t Afghanistan & AF & AFG & 1998 & new & sp & m5564 &  64\\\\\n",
       "\t Afghanistan & AF & AFG & 1998 & new & sp & m65   &  41\\\\\n",
       "\t Afghanistan & AF & AFG & 1998 & new & sp & f014  &  45\\\\\n",
       "\t Afghanistan & AF & AFG & 1998 & new & sp & f1524 & 350\\\\\n",
       "\t Afghanistan & AF & AFG & 1998 & new & sp & f2534 & 419\\\\\n",
       "\t Afghanistan & AF & AFG & 1998 & new & sp & f3544 & 194\\\\\n",
       "\t Afghanistan & AF & AFG & 1998 & new & sp & f4554 & 118\\\\\n",
       "\t Afghanistan & AF & AFG & 1998 & new & sp & f5564 &  61\\\\\n",
       "\t Afghanistan & AF & AFG & 1998 & new & sp & f65   &  20\\\\\n",
       "\t Afghanistan & AF & AFG & 1999 & new & sp & m014  &   8\\\\\n",
       "\t Afghanistan & AF & AFG & 1999 & new & sp & m1524 &  55\\\\\n",
       "\t ... & ... & ... & ... & ... & ... & ... & ...\\\\\n",
       "\t Zimbabwe & ZW & ZWE & 2012 & new & sn  & f5564 &  516\\\\\n",
       "\t Zimbabwe & ZW & ZWE & 2012 & new & sn  & f65   &  432\\\\\n",
       "\t Zimbabwe & ZW & ZWE & 2012 & new & ep  & m014  &  233\\\\\n",
       "\t Zimbabwe & ZW & ZWE & 2012 & new & ep  & m1524 &  214\\\\\n",
       "\t Zimbabwe & ZW & ZWE & 2012 & new & ep  & m2534 &  658\\\\\n",
       "\t Zimbabwe & ZW & ZWE & 2012 & new & ep  & m3544 &  789\\\\\n",
       "\t Zimbabwe & ZW & ZWE & 2012 & new & ep  & m4554 &  331\\\\\n",
       "\t Zimbabwe & ZW & ZWE & 2012 & new & ep  & m5564 &  178\\\\\n",
       "\t Zimbabwe & ZW & ZWE & 2012 & new & ep  & m65   &  182\\\\\n",
       "\t Zimbabwe & ZW & ZWE & 2012 & new & ep  & f014  &  208\\\\\n",
       "\t Zimbabwe & ZW & ZWE & 2012 & new & ep  & f1524 &  319\\\\\n",
       "\t Zimbabwe & ZW & ZWE & 2012 & new & ep  & f2534 &  710\\\\\n",
       "\t Zimbabwe & ZW & ZWE & 2012 & new & ep  & f3544 &  579\\\\\n",
       "\t Zimbabwe & ZW & ZWE & 2012 & new & ep  & f4554 &  228\\\\\n",
       "\t Zimbabwe & ZW & ZWE & 2012 & new & ep  & f5564 &  140\\\\\n",
       "\t Zimbabwe & ZW & ZWE & 2012 & new & ep  & f65   &  143\\\\\n",
       "\t Zimbabwe & ZW & ZWE & 2013 & new & rel & m014  & 1315\\\\\n",
       "\t Zimbabwe & ZW & ZWE & 2013 & new & rel & m1524 & 1642\\\\\n",
       "\t Zimbabwe & ZW & ZWE & 2013 & new & rel & m2534 & 5331\\\\\n",
       "\t Zimbabwe & ZW & ZWE & 2013 & new & rel & m3544 & 5363\\\\\n",
       "\t Zimbabwe & ZW & ZWE & 2013 & new & rel & m4554 & 2349\\\\\n",
       "\t Zimbabwe & ZW & ZWE & 2013 & new & rel & m5564 & 1206\\\\\n",
       "\t Zimbabwe & ZW & ZWE & 2013 & new & rel & m65   & 1208\\\\\n",
       "\t Zimbabwe & ZW & ZWE & 2013 & new & rel & f014  & 1252\\\\\n",
       "\t Zimbabwe & ZW & ZWE & 2013 & new & rel & f1524 & 2069\\\\\n",
       "\t Zimbabwe & ZW & ZWE & 2013 & new & rel & f2534 & 4649\\\\\n",
       "\t Zimbabwe & ZW & ZWE & 2013 & new & rel & f3544 & 3526\\\\\n",
       "\t Zimbabwe & ZW & ZWE & 2013 & new & rel & f4554 & 1453\\\\\n",
       "\t Zimbabwe & ZW & ZWE & 2013 & new & rel & f5564 &  811\\\\\n",
       "\t Zimbabwe & ZW & ZWE & 2013 & new & rel & f65   &  725\\\\\n",
       "\\end{tabular}\n"
      ],
      "text/markdown": [
       "\n",
       "A tibble: 76046 × 8\n",
       "\n",
       "| country &lt;chr&gt; | iso2 &lt;chr&gt; | iso3 &lt;chr&gt; | year &lt;int&gt; | new &lt;chr&gt; | type &lt;chr&gt; | sexage &lt;chr&gt; | Cases &lt;int&gt; |\n",
       "|---|---|---|---|---|---|---|---|\n",
       "| Afghanistan | AF | AFG | 1997 | new | sp | m014  |   0 |\n",
       "| Afghanistan | AF | AFG | 1997 | new | sp | m1524 |  10 |\n",
       "| Afghanistan | AF | AFG | 1997 | new | sp | m2534 |   6 |\n",
       "| Afghanistan | AF | AFG | 1997 | new | sp | m3544 |   3 |\n",
       "| Afghanistan | AF | AFG | 1997 | new | sp | m4554 |   5 |\n",
       "| Afghanistan | AF | AFG | 1997 | new | sp | m5564 |   2 |\n",
       "| Afghanistan | AF | AFG | 1997 | new | sp | m65   |   0 |\n",
       "| Afghanistan | AF | AFG | 1997 | new | sp | f014  |   5 |\n",
       "| Afghanistan | AF | AFG | 1997 | new | sp | f1524 |  38 |\n",
       "| Afghanistan | AF | AFG | 1997 | new | sp | f2534 |  36 |\n",
       "| Afghanistan | AF | AFG | 1997 | new | sp | f3544 |  14 |\n",
       "| Afghanistan | AF | AFG | 1997 | new | sp | f4554 |   8 |\n",
       "| Afghanistan | AF | AFG | 1997 | new | sp | f5564 |   0 |\n",
       "| Afghanistan | AF | AFG | 1997 | new | sp | f65   |   1 |\n",
       "| Afghanistan | AF | AFG | 1998 | new | sp | m014  |  30 |\n",
       "| Afghanistan | AF | AFG | 1998 | new | sp | m1524 | 129 |\n",
       "| Afghanistan | AF | AFG | 1998 | new | sp | m2534 | 128 |\n",
       "| Afghanistan | AF | AFG | 1998 | new | sp | m3544 |  90 |\n",
       "| Afghanistan | AF | AFG | 1998 | new | sp | m4554 |  89 |\n",
       "| Afghanistan | AF | AFG | 1998 | new | sp | m5564 |  64 |\n",
       "| Afghanistan | AF | AFG | 1998 | new | sp | m65   |  41 |\n",
       "| Afghanistan | AF | AFG | 1998 | new | sp | f014  |  45 |\n",
       "| Afghanistan | AF | AFG | 1998 | new | sp | f1524 | 350 |\n",
       "| Afghanistan | AF | AFG | 1998 | new | sp | f2534 | 419 |\n",
       "| Afghanistan | AF | AFG | 1998 | new | sp | f3544 | 194 |\n",
       "| Afghanistan | AF | AFG | 1998 | new | sp | f4554 | 118 |\n",
       "| Afghanistan | AF | AFG | 1998 | new | sp | f5564 |  61 |\n",
       "| Afghanistan | AF | AFG | 1998 | new | sp | f65   |  20 |\n",
       "| Afghanistan | AF | AFG | 1999 | new | sp | m014  |   8 |\n",
       "| Afghanistan | AF | AFG | 1999 | new | sp | m1524 |  55 |\n",
       "| ... | ... | ... | ... | ... | ... | ... | ... |\n",
       "| Zimbabwe | ZW | ZWE | 2012 | new | sn  | f5564 |  516 |\n",
       "| Zimbabwe | ZW | ZWE | 2012 | new | sn  | f65   |  432 |\n",
       "| Zimbabwe | ZW | ZWE | 2012 | new | ep  | m014  |  233 |\n",
       "| Zimbabwe | ZW | ZWE | 2012 | new | ep  | m1524 |  214 |\n",
       "| Zimbabwe | ZW | ZWE | 2012 | new | ep  | m2534 |  658 |\n",
       "| Zimbabwe | ZW | ZWE | 2012 | new | ep  | m3544 |  789 |\n",
       "| Zimbabwe | ZW | ZWE | 2012 | new | ep  | m4554 |  331 |\n",
       "| Zimbabwe | ZW | ZWE | 2012 | new | ep  | m5564 |  178 |\n",
       "| Zimbabwe | ZW | ZWE | 2012 | new | ep  | m65   |  182 |\n",
       "| Zimbabwe | ZW | ZWE | 2012 | new | ep  | f014  |  208 |\n",
       "| Zimbabwe | ZW | ZWE | 2012 | new | ep  | f1524 |  319 |\n",
       "| Zimbabwe | ZW | ZWE | 2012 | new | ep  | f2534 |  710 |\n",
       "| Zimbabwe | ZW | ZWE | 2012 | new | ep  | f3544 |  579 |\n",
       "| Zimbabwe | ZW | ZWE | 2012 | new | ep  | f4554 |  228 |\n",
       "| Zimbabwe | ZW | ZWE | 2012 | new | ep  | f5564 |  140 |\n",
       "| Zimbabwe | ZW | ZWE | 2012 | new | ep  | f65   |  143 |\n",
       "| Zimbabwe | ZW | ZWE | 2013 | new | rel | m014  | 1315 |\n",
       "| Zimbabwe | ZW | ZWE | 2013 | new | rel | m1524 | 1642 |\n",
       "| Zimbabwe | ZW | ZWE | 2013 | new | rel | m2534 | 5331 |\n",
       "| Zimbabwe | ZW | ZWE | 2013 | new | rel | m3544 | 5363 |\n",
       "| Zimbabwe | ZW | ZWE | 2013 | new | rel | m4554 | 2349 |\n",
       "| Zimbabwe | ZW | ZWE | 2013 | new | rel | m5564 | 1206 |\n",
       "| Zimbabwe | ZW | ZWE | 2013 | new | rel | m65   | 1208 |\n",
       "| Zimbabwe | ZW | ZWE | 2013 | new | rel | f014  | 1252 |\n",
       "| Zimbabwe | ZW | ZWE | 2013 | new | rel | f1524 | 2069 |\n",
       "| Zimbabwe | ZW | ZWE | 2013 | new | rel | f2534 | 4649 |\n",
       "| Zimbabwe | ZW | ZWE | 2013 | new | rel | f3544 | 3526 |\n",
       "| Zimbabwe | ZW | ZWE | 2013 | new | rel | f4554 | 1453 |\n",
       "| Zimbabwe | ZW | ZWE | 2013 | new | rel | f5564 |  811 |\n",
       "| Zimbabwe | ZW | ZWE | 2013 | new | rel | f65   |  725 |\n",
       "\n"
      ],
      "text/plain": [
       "      country     iso2 iso3 year new type sexage Cases\n",
       "1     Afghanistan AF   AFG  1997 new sp   m014     0  \n",
       "2     Afghanistan AF   AFG  1997 new sp   m1524   10  \n",
       "3     Afghanistan AF   AFG  1997 new sp   m2534    6  \n",
       "4     Afghanistan AF   AFG  1997 new sp   m3544    3  \n",
       "5     Afghanistan AF   AFG  1997 new sp   m4554    5  \n",
       "6     Afghanistan AF   AFG  1997 new sp   m5564    2  \n",
       "7     Afghanistan AF   AFG  1997 new sp   m65      0  \n",
       "8     Afghanistan AF   AFG  1997 new sp   f014     5  \n",
       "9     Afghanistan AF   AFG  1997 new sp   f1524   38  \n",
       "10    Afghanistan AF   AFG  1997 new sp   f2534   36  \n",
       "11    Afghanistan AF   AFG  1997 new sp   f3544   14  \n",
       "12    Afghanistan AF   AFG  1997 new sp   f4554    8  \n",
       "13    Afghanistan AF   AFG  1997 new sp   f5564    0  \n",
       "14    Afghanistan AF   AFG  1997 new sp   f65      1  \n",
       "15    Afghanistan AF   AFG  1998 new sp   m014    30  \n",
       "16    Afghanistan AF   AFG  1998 new sp   m1524  129  \n",
       "17    Afghanistan AF   AFG  1998 new sp   m2534  128  \n",
       "18    Afghanistan AF   AFG  1998 new sp   m3544   90  \n",
       "19    Afghanistan AF   AFG  1998 new sp   m4554   89  \n",
       "20    Afghanistan AF   AFG  1998 new sp   m5564   64  \n",
       "21    Afghanistan AF   AFG  1998 new sp   m65     41  \n",
       "22    Afghanistan AF   AFG  1998 new sp   f014    45  \n",
       "23    Afghanistan AF   AFG  1998 new sp   f1524  350  \n",
       "24    Afghanistan AF   AFG  1998 new sp   f2534  419  \n",
       "25    Afghanistan AF   AFG  1998 new sp   f3544  194  \n",
       "26    Afghanistan AF   AFG  1998 new sp   f4554  118  \n",
       "27    Afghanistan AF   AFG  1998 new sp   f5564   61  \n",
       "28    Afghanistan AF   AFG  1998 new sp   f65     20  \n",
       "29    Afghanistan AF   AFG  1999 new sp   m014     8  \n",
       "30    Afghanistan AF   AFG  1999 new sp   m1524   55  \n",
       "...   ...         ...  ...  ...  ... ...  ...    ...  \n",
       "76017 Zimbabwe    ZW   ZWE  2012 new sn   f5564   516 \n",
       "76018 Zimbabwe    ZW   ZWE  2012 new sn   f65     432 \n",
       "76019 Zimbabwe    ZW   ZWE  2012 new ep   m014    233 \n",
       "76020 Zimbabwe    ZW   ZWE  2012 new ep   m1524   214 \n",
       "76021 Zimbabwe    ZW   ZWE  2012 new ep   m2534   658 \n",
       "76022 Zimbabwe    ZW   ZWE  2012 new ep   m3544   789 \n",
       "76023 Zimbabwe    ZW   ZWE  2012 new ep   m4554   331 \n",
       "76024 Zimbabwe    ZW   ZWE  2012 new ep   m5564   178 \n",
       "76025 Zimbabwe    ZW   ZWE  2012 new ep   m65     182 \n",
       "76026 Zimbabwe    ZW   ZWE  2012 new ep   f014    208 \n",
       "76027 Zimbabwe    ZW   ZWE  2012 new ep   f1524   319 \n",
       "76028 Zimbabwe    ZW   ZWE  2012 new ep   f2534   710 \n",
       "76029 Zimbabwe    ZW   ZWE  2012 new ep   f3544   579 \n",
       "76030 Zimbabwe    ZW   ZWE  2012 new ep   f4554   228 \n",
       "76031 Zimbabwe    ZW   ZWE  2012 new ep   f5564   140 \n",
       "76032 Zimbabwe    ZW   ZWE  2012 new ep   f65     143 \n",
       "76033 Zimbabwe    ZW   ZWE  2013 new rel  m014   1315 \n",
       "76034 Zimbabwe    ZW   ZWE  2013 new rel  m1524  1642 \n",
       "76035 Zimbabwe    ZW   ZWE  2013 new rel  m2534  5331 \n",
       "76036 Zimbabwe    ZW   ZWE  2013 new rel  m3544  5363 \n",
       "76037 Zimbabwe    ZW   ZWE  2013 new rel  m4554  2349 \n",
       "76038 Zimbabwe    ZW   ZWE  2013 new rel  m5564  1206 \n",
       "76039 Zimbabwe    ZW   ZWE  2013 new rel  m65    1208 \n",
       "76040 Zimbabwe    ZW   ZWE  2013 new rel  f014   1252 \n",
       "76041 Zimbabwe    ZW   ZWE  2013 new rel  f1524  2069 \n",
       "76042 Zimbabwe    ZW   ZWE  2013 new rel  f2534  4649 \n",
       "76043 Zimbabwe    ZW   ZWE  2013 new rel  f3544  3526 \n",
       "76044 Zimbabwe    ZW   ZWE  2013 new rel  f4554  1453 \n",
       "76045 Zimbabwe    ZW   ZWE  2013 new rel  f5564   811 \n",
       "76046 Zimbabwe    ZW   ZWE  2013 new rel  f65     725 "
      ]
     },
     "metadata": {},
     "output_type": "display_data"
    }
   ],
   "source": [
    "View(Who3)"
   ]
  },
  {
   "cell_type": "markdown",
   "id": "18fbf009",
   "metadata": {},
   "source": [
    "4. Separating sexage into sex and age"
   ]
  },
  {
   "cell_type": "code",
   "execution_count": 11,
   "id": "c94b71d4",
   "metadata": {},
   "outputs": [],
   "source": [
    "Who4 <- separate(Who3, sexage, c(\"sex\", \"age\"), sep = 1)\n",
    "# in this function 'sep=1' separates the first value of the string from the rest of the string"
   ]
  },
  {
   "cell_type": "code",
   "execution_count": 12,
   "id": "899c95db",
   "metadata": {
    "scrolled": true
   },
   "outputs": [
    {
     "data": {
      "text/html": [
       "<table class=\"dataframe\">\n",
       "<caption>A tibble: 76046 × 9</caption>\n",
       "<thead>\n",
       "\t<tr><th scope=col>country</th><th scope=col>iso2</th><th scope=col>iso3</th><th scope=col>year</th><th scope=col>new</th><th scope=col>type</th><th scope=col>sex</th><th scope=col>age</th><th scope=col>Cases</th></tr>\n",
       "\t<tr><th scope=col>&lt;chr&gt;</th><th scope=col>&lt;chr&gt;</th><th scope=col>&lt;chr&gt;</th><th scope=col>&lt;int&gt;</th><th scope=col>&lt;chr&gt;</th><th scope=col>&lt;chr&gt;</th><th scope=col>&lt;chr&gt;</th><th scope=col>&lt;chr&gt;</th><th scope=col>&lt;int&gt;</th></tr>\n",
       "</thead>\n",
       "<tbody>\n",
       "\t<tr><td>Afghanistan</td><td>AF</td><td>AFG</td><td>1997</td><td>new</td><td>sp</td><td>m</td><td>014 </td><td>  0</td></tr>\n",
       "\t<tr><td>Afghanistan</td><td>AF</td><td>AFG</td><td>1997</td><td>new</td><td>sp</td><td>m</td><td>1524</td><td> 10</td></tr>\n",
       "\t<tr><td>Afghanistan</td><td>AF</td><td>AFG</td><td>1997</td><td>new</td><td>sp</td><td>m</td><td>2534</td><td>  6</td></tr>\n",
       "\t<tr><td>Afghanistan</td><td>AF</td><td>AFG</td><td>1997</td><td>new</td><td>sp</td><td>m</td><td>3544</td><td>  3</td></tr>\n",
       "\t<tr><td>Afghanistan</td><td>AF</td><td>AFG</td><td>1997</td><td>new</td><td>sp</td><td>m</td><td>4554</td><td>  5</td></tr>\n",
       "\t<tr><td>Afghanistan</td><td>AF</td><td>AFG</td><td>1997</td><td>new</td><td>sp</td><td>m</td><td>5564</td><td>  2</td></tr>\n",
       "\t<tr><td>Afghanistan</td><td>AF</td><td>AFG</td><td>1997</td><td>new</td><td>sp</td><td>m</td><td>65  </td><td>  0</td></tr>\n",
       "\t<tr><td>Afghanistan</td><td>AF</td><td>AFG</td><td>1997</td><td>new</td><td>sp</td><td>f</td><td>014 </td><td>  5</td></tr>\n",
       "\t<tr><td>Afghanistan</td><td>AF</td><td>AFG</td><td>1997</td><td>new</td><td>sp</td><td>f</td><td>1524</td><td> 38</td></tr>\n",
       "\t<tr><td>Afghanistan</td><td>AF</td><td>AFG</td><td>1997</td><td>new</td><td>sp</td><td>f</td><td>2534</td><td> 36</td></tr>\n",
       "\t<tr><td>Afghanistan</td><td>AF</td><td>AFG</td><td>1997</td><td>new</td><td>sp</td><td>f</td><td>3544</td><td> 14</td></tr>\n",
       "\t<tr><td>Afghanistan</td><td>AF</td><td>AFG</td><td>1997</td><td>new</td><td>sp</td><td>f</td><td>4554</td><td>  8</td></tr>\n",
       "\t<tr><td>Afghanistan</td><td>AF</td><td>AFG</td><td>1997</td><td>new</td><td>sp</td><td>f</td><td>5564</td><td>  0</td></tr>\n",
       "\t<tr><td>Afghanistan</td><td>AF</td><td>AFG</td><td>1997</td><td>new</td><td>sp</td><td>f</td><td>65  </td><td>  1</td></tr>\n",
       "\t<tr><td>Afghanistan</td><td>AF</td><td>AFG</td><td>1998</td><td>new</td><td>sp</td><td>m</td><td>014 </td><td> 30</td></tr>\n",
       "\t<tr><td>Afghanistan</td><td>AF</td><td>AFG</td><td>1998</td><td>new</td><td>sp</td><td>m</td><td>1524</td><td>129</td></tr>\n",
       "\t<tr><td>Afghanistan</td><td>AF</td><td>AFG</td><td>1998</td><td>new</td><td>sp</td><td>m</td><td>2534</td><td>128</td></tr>\n",
       "\t<tr><td>Afghanistan</td><td>AF</td><td>AFG</td><td>1998</td><td>new</td><td>sp</td><td>m</td><td>3544</td><td> 90</td></tr>\n",
       "\t<tr><td>Afghanistan</td><td>AF</td><td>AFG</td><td>1998</td><td>new</td><td>sp</td><td>m</td><td>4554</td><td> 89</td></tr>\n",
       "\t<tr><td>Afghanistan</td><td>AF</td><td>AFG</td><td>1998</td><td>new</td><td>sp</td><td>m</td><td>5564</td><td> 64</td></tr>\n",
       "\t<tr><td>Afghanistan</td><td>AF</td><td>AFG</td><td>1998</td><td>new</td><td>sp</td><td>m</td><td>65  </td><td> 41</td></tr>\n",
       "\t<tr><td>Afghanistan</td><td>AF</td><td>AFG</td><td>1998</td><td>new</td><td>sp</td><td>f</td><td>014 </td><td> 45</td></tr>\n",
       "\t<tr><td>Afghanistan</td><td>AF</td><td>AFG</td><td>1998</td><td>new</td><td>sp</td><td>f</td><td>1524</td><td>350</td></tr>\n",
       "\t<tr><td>Afghanistan</td><td>AF</td><td>AFG</td><td>1998</td><td>new</td><td>sp</td><td>f</td><td>2534</td><td>419</td></tr>\n",
       "\t<tr><td>Afghanistan</td><td>AF</td><td>AFG</td><td>1998</td><td>new</td><td>sp</td><td>f</td><td>3544</td><td>194</td></tr>\n",
       "\t<tr><td>Afghanistan</td><td>AF</td><td>AFG</td><td>1998</td><td>new</td><td>sp</td><td>f</td><td>4554</td><td>118</td></tr>\n",
       "\t<tr><td>Afghanistan</td><td>AF</td><td>AFG</td><td>1998</td><td>new</td><td>sp</td><td>f</td><td>5564</td><td> 61</td></tr>\n",
       "\t<tr><td>Afghanistan</td><td>AF</td><td>AFG</td><td>1998</td><td>new</td><td>sp</td><td>f</td><td>65  </td><td> 20</td></tr>\n",
       "\t<tr><td>Afghanistan</td><td>AF</td><td>AFG</td><td>1999</td><td>new</td><td>sp</td><td>m</td><td>014 </td><td>  8</td></tr>\n",
       "\t<tr><td>Afghanistan</td><td>AF</td><td>AFG</td><td>1999</td><td>new</td><td>sp</td><td>m</td><td>1524</td><td> 55</td></tr>\n",
       "\t<tr><td>...</td><td>...</td><td>...</td><td>...</td><td>...</td><td>...</td><td>...</td><td>...</td><td>...</td></tr>\n",
       "\t<tr><td>Zimbabwe</td><td>ZW</td><td>ZWE</td><td>2012</td><td>new</td><td>sn </td><td>f</td><td>5564</td><td> 516</td></tr>\n",
       "\t<tr><td>Zimbabwe</td><td>ZW</td><td>ZWE</td><td>2012</td><td>new</td><td>sn </td><td>f</td><td>65  </td><td> 432</td></tr>\n",
       "\t<tr><td>Zimbabwe</td><td>ZW</td><td>ZWE</td><td>2012</td><td>new</td><td>ep </td><td>m</td><td>014 </td><td> 233</td></tr>\n",
       "\t<tr><td>Zimbabwe</td><td>ZW</td><td>ZWE</td><td>2012</td><td>new</td><td>ep </td><td>m</td><td>1524</td><td> 214</td></tr>\n",
       "\t<tr><td>Zimbabwe</td><td>ZW</td><td>ZWE</td><td>2012</td><td>new</td><td>ep </td><td>m</td><td>2534</td><td> 658</td></tr>\n",
       "\t<tr><td>Zimbabwe</td><td>ZW</td><td>ZWE</td><td>2012</td><td>new</td><td>ep </td><td>m</td><td>3544</td><td> 789</td></tr>\n",
       "\t<tr><td>Zimbabwe</td><td>ZW</td><td>ZWE</td><td>2012</td><td>new</td><td>ep </td><td>m</td><td>4554</td><td> 331</td></tr>\n",
       "\t<tr><td>Zimbabwe</td><td>ZW</td><td>ZWE</td><td>2012</td><td>new</td><td>ep </td><td>m</td><td>5564</td><td> 178</td></tr>\n",
       "\t<tr><td>Zimbabwe</td><td>ZW</td><td>ZWE</td><td>2012</td><td>new</td><td>ep </td><td>m</td><td>65  </td><td> 182</td></tr>\n",
       "\t<tr><td>Zimbabwe</td><td>ZW</td><td>ZWE</td><td>2012</td><td>new</td><td>ep </td><td>f</td><td>014 </td><td> 208</td></tr>\n",
       "\t<tr><td>Zimbabwe</td><td>ZW</td><td>ZWE</td><td>2012</td><td>new</td><td>ep </td><td>f</td><td>1524</td><td> 319</td></tr>\n",
       "\t<tr><td>Zimbabwe</td><td>ZW</td><td>ZWE</td><td>2012</td><td>new</td><td>ep </td><td>f</td><td>2534</td><td> 710</td></tr>\n",
       "\t<tr><td>Zimbabwe</td><td>ZW</td><td>ZWE</td><td>2012</td><td>new</td><td>ep </td><td>f</td><td>3544</td><td> 579</td></tr>\n",
       "\t<tr><td>Zimbabwe</td><td>ZW</td><td>ZWE</td><td>2012</td><td>new</td><td>ep </td><td>f</td><td>4554</td><td> 228</td></tr>\n",
       "\t<tr><td>Zimbabwe</td><td>ZW</td><td>ZWE</td><td>2012</td><td>new</td><td>ep </td><td>f</td><td>5564</td><td> 140</td></tr>\n",
       "\t<tr><td>Zimbabwe</td><td>ZW</td><td>ZWE</td><td>2012</td><td>new</td><td>ep </td><td>f</td><td>65  </td><td> 143</td></tr>\n",
       "\t<tr><td>Zimbabwe</td><td>ZW</td><td>ZWE</td><td>2013</td><td>new</td><td>rel</td><td>m</td><td>014 </td><td>1315</td></tr>\n",
       "\t<tr><td>Zimbabwe</td><td>ZW</td><td>ZWE</td><td>2013</td><td>new</td><td>rel</td><td>m</td><td>1524</td><td>1642</td></tr>\n",
       "\t<tr><td>Zimbabwe</td><td>ZW</td><td>ZWE</td><td>2013</td><td>new</td><td>rel</td><td>m</td><td>2534</td><td>5331</td></tr>\n",
       "\t<tr><td>Zimbabwe</td><td>ZW</td><td>ZWE</td><td>2013</td><td>new</td><td>rel</td><td>m</td><td>3544</td><td>5363</td></tr>\n",
       "\t<tr><td>Zimbabwe</td><td>ZW</td><td>ZWE</td><td>2013</td><td>new</td><td>rel</td><td>m</td><td>4554</td><td>2349</td></tr>\n",
       "\t<tr><td>Zimbabwe</td><td>ZW</td><td>ZWE</td><td>2013</td><td>new</td><td>rel</td><td>m</td><td>5564</td><td>1206</td></tr>\n",
       "\t<tr><td>Zimbabwe</td><td>ZW</td><td>ZWE</td><td>2013</td><td>new</td><td>rel</td><td>m</td><td>65  </td><td>1208</td></tr>\n",
       "\t<tr><td>Zimbabwe</td><td>ZW</td><td>ZWE</td><td>2013</td><td>new</td><td>rel</td><td>f</td><td>014 </td><td>1252</td></tr>\n",
       "\t<tr><td>Zimbabwe</td><td>ZW</td><td>ZWE</td><td>2013</td><td>new</td><td>rel</td><td>f</td><td>1524</td><td>2069</td></tr>\n",
       "\t<tr><td>Zimbabwe</td><td>ZW</td><td>ZWE</td><td>2013</td><td>new</td><td>rel</td><td>f</td><td>2534</td><td>4649</td></tr>\n",
       "\t<tr><td>Zimbabwe</td><td>ZW</td><td>ZWE</td><td>2013</td><td>new</td><td>rel</td><td>f</td><td>3544</td><td>3526</td></tr>\n",
       "\t<tr><td>Zimbabwe</td><td>ZW</td><td>ZWE</td><td>2013</td><td>new</td><td>rel</td><td>f</td><td>4554</td><td>1453</td></tr>\n",
       "\t<tr><td>Zimbabwe</td><td>ZW</td><td>ZWE</td><td>2013</td><td>new</td><td>rel</td><td>f</td><td>5564</td><td> 811</td></tr>\n",
       "\t<tr><td>Zimbabwe</td><td>ZW</td><td>ZWE</td><td>2013</td><td>new</td><td>rel</td><td>f</td><td>65  </td><td> 725</td></tr>\n",
       "</tbody>\n",
       "</table>\n"
      ],
      "text/latex": [
       "A tibble: 76046 × 9\n",
       "\\begin{tabular}{lllllllll}\n",
       " country & iso2 & iso3 & year & new & type & sex & age & Cases\\\\\n",
       " <chr> & <chr> & <chr> & <int> & <chr> & <chr> & <chr> & <chr> & <int>\\\\\n",
       "\\hline\n",
       "\t Afghanistan & AF & AFG & 1997 & new & sp & m & 014  &   0\\\\\n",
       "\t Afghanistan & AF & AFG & 1997 & new & sp & m & 1524 &  10\\\\\n",
       "\t Afghanistan & AF & AFG & 1997 & new & sp & m & 2534 &   6\\\\\n",
       "\t Afghanistan & AF & AFG & 1997 & new & sp & m & 3544 &   3\\\\\n",
       "\t Afghanistan & AF & AFG & 1997 & new & sp & m & 4554 &   5\\\\\n",
       "\t Afghanistan & AF & AFG & 1997 & new & sp & m & 5564 &   2\\\\\n",
       "\t Afghanistan & AF & AFG & 1997 & new & sp & m & 65   &   0\\\\\n",
       "\t Afghanistan & AF & AFG & 1997 & new & sp & f & 014  &   5\\\\\n",
       "\t Afghanistan & AF & AFG & 1997 & new & sp & f & 1524 &  38\\\\\n",
       "\t Afghanistan & AF & AFG & 1997 & new & sp & f & 2534 &  36\\\\\n",
       "\t Afghanistan & AF & AFG & 1997 & new & sp & f & 3544 &  14\\\\\n",
       "\t Afghanistan & AF & AFG & 1997 & new & sp & f & 4554 &   8\\\\\n",
       "\t Afghanistan & AF & AFG & 1997 & new & sp & f & 5564 &   0\\\\\n",
       "\t Afghanistan & AF & AFG & 1997 & new & sp & f & 65   &   1\\\\\n",
       "\t Afghanistan & AF & AFG & 1998 & new & sp & m & 014  &  30\\\\\n",
       "\t Afghanistan & AF & AFG & 1998 & new & sp & m & 1524 & 129\\\\\n",
       "\t Afghanistan & AF & AFG & 1998 & new & sp & m & 2534 & 128\\\\\n",
       "\t Afghanistan & AF & AFG & 1998 & new & sp & m & 3544 &  90\\\\\n",
       "\t Afghanistan & AF & AFG & 1998 & new & sp & m & 4554 &  89\\\\\n",
       "\t Afghanistan & AF & AFG & 1998 & new & sp & m & 5564 &  64\\\\\n",
       "\t Afghanistan & AF & AFG & 1998 & new & sp & m & 65   &  41\\\\\n",
       "\t Afghanistan & AF & AFG & 1998 & new & sp & f & 014  &  45\\\\\n",
       "\t Afghanistan & AF & AFG & 1998 & new & sp & f & 1524 & 350\\\\\n",
       "\t Afghanistan & AF & AFG & 1998 & new & sp & f & 2534 & 419\\\\\n",
       "\t Afghanistan & AF & AFG & 1998 & new & sp & f & 3544 & 194\\\\\n",
       "\t Afghanistan & AF & AFG & 1998 & new & sp & f & 4554 & 118\\\\\n",
       "\t Afghanistan & AF & AFG & 1998 & new & sp & f & 5564 &  61\\\\\n",
       "\t Afghanistan & AF & AFG & 1998 & new & sp & f & 65   &  20\\\\\n",
       "\t Afghanistan & AF & AFG & 1999 & new & sp & m & 014  &   8\\\\\n",
       "\t Afghanistan & AF & AFG & 1999 & new & sp & m & 1524 &  55\\\\\n",
       "\t ... & ... & ... & ... & ... & ... & ... & ... & ...\\\\\n",
       "\t Zimbabwe & ZW & ZWE & 2012 & new & sn  & f & 5564 &  516\\\\\n",
       "\t Zimbabwe & ZW & ZWE & 2012 & new & sn  & f & 65   &  432\\\\\n",
       "\t Zimbabwe & ZW & ZWE & 2012 & new & ep  & m & 014  &  233\\\\\n",
       "\t Zimbabwe & ZW & ZWE & 2012 & new & ep  & m & 1524 &  214\\\\\n",
       "\t Zimbabwe & ZW & ZWE & 2012 & new & ep  & m & 2534 &  658\\\\\n",
       "\t Zimbabwe & ZW & ZWE & 2012 & new & ep  & m & 3544 &  789\\\\\n",
       "\t Zimbabwe & ZW & ZWE & 2012 & new & ep  & m & 4554 &  331\\\\\n",
       "\t Zimbabwe & ZW & ZWE & 2012 & new & ep  & m & 5564 &  178\\\\\n",
       "\t Zimbabwe & ZW & ZWE & 2012 & new & ep  & m & 65   &  182\\\\\n",
       "\t Zimbabwe & ZW & ZWE & 2012 & new & ep  & f & 014  &  208\\\\\n",
       "\t Zimbabwe & ZW & ZWE & 2012 & new & ep  & f & 1524 &  319\\\\\n",
       "\t Zimbabwe & ZW & ZWE & 2012 & new & ep  & f & 2534 &  710\\\\\n",
       "\t Zimbabwe & ZW & ZWE & 2012 & new & ep  & f & 3544 &  579\\\\\n",
       "\t Zimbabwe & ZW & ZWE & 2012 & new & ep  & f & 4554 &  228\\\\\n",
       "\t Zimbabwe & ZW & ZWE & 2012 & new & ep  & f & 5564 &  140\\\\\n",
       "\t Zimbabwe & ZW & ZWE & 2012 & new & ep  & f & 65   &  143\\\\\n",
       "\t Zimbabwe & ZW & ZWE & 2013 & new & rel & m & 014  & 1315\\\\\n",
       "\t Zimbabwe & ZW & ZWE & 2013 & new & rel & m & 1524 & 1642\\\\\n",
       "\t Zimbabwe & ZW & ZWE & 2013 & new & rel & m & 2534 & 5331\\\\\n",
       "\t Zimbabwe & ZW & ZWE & 2013 & new & rel & m & 3544 & 5363\\\\\n",
       "\t Zimbabwe & ZW & ZWE & 2013 & new & rel & m & 4554 & 2349\\\\\n",
       "\t Zimbabwe & ZW & ZWE & 2013 & new & rel & m & 5564 & 1206\\\\\n",
       "\t Zimbabwe & ZW & ZWE & 2013 & new & rel & m & 65   & 1208\\\\\n",
       "\t Zimbabwe & ZW & ZWE & 2013 & new & rel & f & 014  & 1252\\\\\n",
       "\t Zimbabwe & ZW & ZWE & 2013 & new & rel & f & 1524 & 2069\\\\\n",
       "\t Zimbabwe & ZW & ZWE & 2013 & new & rel & f & 2534 & 4649\\\\\n",
       "\t Zimbabwe & ZW & ZWE & 2013 & new & rel & f & 3544 & 3526\\\\\n",
       "\t Zimbabwe & ZW & ZWE & 2013 & new & rel & f & 4554 & 1453\\\\\n",
       "\t Zimbabwe & ZW & ZWE & 2013 & new & rel & f & 5564 &  811\\\\\n",
       "\t Zimbabwe & ZW & ZWE & 2013 & new & rel & f & 65   &  725\\\\\n",
       "\\end{tabular}\n"
      ],
      "text/markdown": [
       "\n",
       "A tibble: 76046 × 9\n",
       "\n",
       "| country &lt;chr&gt; | iso2 &lt;chr&gt; | iso3 &lt;chr&gt; | year &lt;int&gt; | new &lt;chr&gt; | type &lt;chr&gt; | sex &lt;chr&gt; | age &lt;chr&gt; | Cases &lt;int&gt; |\n",
       "|---|---|---|---|---|---|---|---|---|\n",
       "| Afghanistan | AF | AFG | 1997 | new | sp | m | 014  |   0 |\n",
       "| Afghanistan | AF | AFG | 1997 | new | sp | m | 1524 |  10 |\n",
       "| Afghanistan | AF | AFG | 1997 | new | sp | m | 2534 |   6 |\n",
       "| Afghanistan | AF | AFG | 1997 | new | sp | m | 3544 |   3 |\n",
       "| Afghanistan | AF | AFG | 1997 | new | sp | m | 4554 |   5 |\n",
       "| Afghanistan | AF | AFG | 1997 | new | sp | m | 5564 |   2 |\n",
       "| Afghanistan | AF | AFG | 1997 | new | sp | m | 65   |   0 |\n",
       "| Afghanistan | AF | AFG | 1997 | new | sp | f | 014  |   5 |\n",
       "| Afghanistan | AF | AFG | 1997 | new | sp | f | 1524 |  38 |\n",
       "| Afghanistan | AF | AFG | 1997 | new | sp | f | 2534 |  36 |\n",
       "| Afghanistan | AF | AFG | 1997 | new | sp | f | 3544 |  14 |\n",
       "| Afghanistan | AF | AFG | 1997 | new | sp | f | 4554 |   8 |\n",
       "| Afghanistan | AF | AFG | 1997 | new | sp | f | 5564 |   0 |\n",
       "| Afghanistan | AF | AFG | 1997 | new | sp | f | 65   |   1 |\n",
       "| Afghanistan | AF | AFG | 1998 | new | sp | m | 014  |  30 |\n",
       "| Afghanistan | AF | AFG | 1998 | new | sp | m | 1524 | 129 |\n",
       "| Afghanistan | AF | AFG | 1998 | new | sp | m | 2534 | 128 |\n",
       "| Afghanistan | AF | AFG | 1998 | new | sp | m | 3544 |  90 |\n",
       "| Afghanistan | AF | AFG | 1998 | new | sp | m | 4554 |  89 |\n",
       "| Afghanistan | AF | AFG | 1998 | new | sp | m | 5564 |  64 |\n",
       "| Afghanistan | AF | AFG | 1998 | new | sp | m | 65   |  41 |\n",
       "| Afghanistan | AF | AFG | 1998 | new | sp | f | 014  |  45 |\n",
       "| Afghanistan | AF | AFG | 1998 | new | sp | f | 1524 | 350 |\n",
       "| Afghanistan | AF | AFG | 1998 | new | sp | f | 2534 | 419 |\n",
       "| Afghanistan | AF | AFG | 1998 | new | sp | f | 3544 | 194 |\n",
       "| Afghanistan | AF | AFG | 1998 | new | sp | f | 4554 | 118 |\n",
       "| Afghanistan | AF | AFG | 1998 | new | sp | f | 5564 |  61 |\n",
       "| Afghanistan | AF | AFG | 1998 | new | sp | f | 65   |  20 |\n",
       "| Afghanistan | AF | AFG | 1999 | new | sp | m | 014  |   8 |\n",
       "| Afghanistan | AF | AFG | 1999 | new | sp | m | 1524 |  55 |\n",
       "| ... | ... | ... | ... | ... | ... | ... | ... | ... |\n",
       "| Zimbabwe | ZW | ZWE | 2012 | new | sn  | f | 5564 |  516 |\n",
       "| Zimbabwe | ZW | ZWE | 2012 | new | sn  | f | 65   |  432 |\n",
       "| Zimbabwe | ZW | ZWE | 2012 | new | ep  | m | 014  |  233 |\n",
       "| Zimbabwe | ZW | ZWE | 2012 | new | ep  | m | 1524 |  214 |\n",
       "| Zimbabwe | ZW | ZWE | 2012 | new | ep  | m | 2534 |  658 |\n",
       "| Zimbabwe | ZW | ZWE | 2012 | new | ep  | m | 3544 |  789 |\n",
       "| Zimbabwe | ZW | ZWE | 2012 | new | ep  | m | 4554 |  331 |\n",
       "| Zimbabwe | ZW | ZWE | 2012 | new | ep  | m | 5564 |  178 |\n",
       "| Zimbabwe | ZW | ZWE | 2012 | new | ep  | m | 65   |  182 |\n",
       "| Zimbabwe | ZW | ZWE | 2012 | new | ep  | f | 014  |  208 |\n",
       "| Zimbabwe | ZW | ZWE | 2012 | new | ep  | f | 1524 |  319 |\n",
       "| Zimbabwe | ZW | ZWE | 2012 | new | ep  | f | 2534 |  710 |\n",
       "| Zimbabwe | ZW | ZWE | 2012 | new | ep  | f | 3544 |  579 |\n",
       "| Zimbabwe | ZW | ZWE | 2012 | new | ep  | f | 4554 |  228 |\n",
       "| Zimbabwe | ZW | ZWE | 2012 | new | ep  | f | 5564 |  140 |\n",
       "| Zimbabwe | ZW | ZWE | 2012 | new | ep  | f | 65   |  143 |\n",
       "| Zimbabwe | ZW | ZWE | 2013 | new | rel | m | 014  | 1315 |\n",
       "| Zimbabwe | ZW | ZWE | 2013 | new | rel | m | 1524 | 1642 |\n",
       "| Zimbabwe | ZW | ZWE | 2013 | new | rel | m | 2534 | 5331 |\n",
       "| Zimbabwe | ZW | ZWE | 2013 | new | rel | m | 3544 | 5363 |\n",
       "| Zimbabwe | ZW | ZWE | 2013 | new | rel | m | 4554 | 2349 |\n",
       "| Zimbabwe | ZW | ZWE | 2013 | new | rel | m | 5564 | 1206 |\n",
       "| Zimbabwe | ZW | ZWE | 2013 | new | rel | m | 65   | 1208 |\n",
       "| Zimbabwe | ZW | ZWE | 2013 | new | rel | f | 014  | 1252 |\n",
       "| Zimbabwe | ZW | ZWE | 2013 | new | rel | f | 1524 | 2069 |\n",
       "| Zimbabwe | ZW | ZWE | 2013 | new | rel | f | 2534 | 4649 |\n",
       "| Zimbabwe | ZW | ZWE | 2013 | new | rel | f | 3544 | 3526 |\n",
       "| Zimbabwe | ZW | ZWE | 2013 | new | rel | f | 4554 | 1453 |\n",
       "| Zimbabwe | ZW | ZWE | 2013 | new | rel | f | 5564 |  811 |\n",
       "| Zimbabwe | ZW | ZWE | 2013 | new | rel | f | 65   |  725 |\n",
       "\n"
      ],
      "text/plain": [
       "      country     iso2 iso3 year new type sex age  Cases\n",
       "1     Afghanistan AF   AFG  1997 new sp   m   014    0  \n",
       "2     Afghanistan AF   AFG  1997 new sp   m   1524  10  \n",
       "3     Afghanistan AF   AFG  1997 new sp   m   2534   6  \n",
       "4     Afghanistan AF   AFG  1997 new sp   m   3544   3  \n",
       "5     Afghanistan AF   AFG  1997 new sp   m   4554   5  \n",
       "6     Afghanistan AF   AFG  1997 new sp   m   5564   2  \n",
       "7     Afghanistan AF   AFG  1997 new sp   m   65     0  \n",
       "8     Afghanistan AF   AFG  1997 new sp   f   014    5  \n",
       "9     Afghanistan AF   AFG  1997 new sp   f   1524  38  \n",
       "10    Afghanistan AF   AFG  1997 new sp   f   2534  36  \n",
       "11    Afghanistan AF   AFG  1997 new sp   f   3544  14  \n",
       "12    Afghanistan AF   AFG  1997 new sp   f   4554   8  \n",
       "13    Afghanistan AF   AFG  1997 new sp   f   5564   0  \n",
       "14    Afghanistan AF   AFG  1997 new sp   f   65     1  \n",
       "15    Afghanistan AF   AFG  1998 new sp   m   014   30  \n",
       "16    Afghanistan AF   AFG  1998 new sp   m   1524 129  \n",
       "17    Afghanistan AF   AFG  1998 new sp   m   2534 128  \n",
       "18    Afghanistan AF   AFG  1998 new sp   m   3544  90  \n",
       "19    Afghanistan AF   AFG  1998 new sp   m   4554  89  \n",
       "20    Afghanistan AF   AFG  1998 new sp   m   5564  64  \n",
       "21    Afghanistan AF   AFG  1998 new sp   m   65    41  \n",
       "22    Afghanistan AF   AFG  1998 new sp   f   014   45  \n",
       "23    Afghanistan AF   AFG  1998 new sp   f   1524 350  \n",
       "24    Afghanistan AF   AFG  1998 new sp   f   2534 419  \n",
       "25    Afghanistan AF   AFG  1998 new sp   f   3544 194  \n",
       "26    Afghanistan AF   AFG  1998 new sp   f   4554 118  \n",
       "27    Afghanistan AF   AFG  1998 new sp   f   5564  61  \n",
       "28    Afghanistan AF   AFG  1998 new sp   f   65    20  \n",
       "29    Afghanistan AF   AFG  1999 new sp   m   014    8  \n",
       "30    Afghanistan AF   AFG  1999 new sp   m   1524  55  \n",
       "...   ...         ...  ...  ...  ... ...  ... ...  ...  \n",
       "76017 Zimbabwe    ZW   ZWE  2012 new sn   f   5564  516 \n",
       "76018 Zimbabwe    ZW   ZWE  2012 new sn   f   65    432 \n",
       "76019 Zimbabwe    ZW   ZWE  2012 new ep   m   014   233 \n",
       "76020 Zimbabwe    ZW   ZWE  2012 new ep   m   1524  214 \n",
       "76021 Zimbabwe    ZW   ZWE  2012 new ep   m   2534  658 \n",
       "76022 Zimbabwe    ZW   ZWE  2012 new ep   m   3544  789 \n",
       "76023 Zimbabwe    ZW   ZWE  2012 new ep   m   4554  331 \n",
       "76024 Zimbabwe    ZW   ZWE  2012 new ep   m   5564  178 \n",
       "76025 Zimbabwe    ZW   ZWE  2012 new ep   m   65    182 \n",
       "76026 Zimbabwe    ZW   ZWE  2012 new ep   f   014   208 \n",
       "76027 Zimbabwe    ZW   ZWE  2012 new ep   f   1524  319 \n",
       "76028 Zimbabwe    ZW   ZWE  2012 new ep   f   2534  710 \n",
       "76029 Zimbabwe    ZW   ZWE  2012 new ep   f   3544  579 \n",
       "76030 Zimbabwe    ZW   ZWE  2012 new ep   f   4554  228 \n",
       "76031 Zimbabwe    ZW   ZWE  2012 new ep   f   5564  140 \n",
       "76032 Zimbabwe    ZW   ZWE  2012 new ep   f   65    143 \n",
       "76033 Zimbabwe    ZW   ZWE  2013 new rel  m   014  1315 \n",
       "76034 Zimbabwe    ZW   ZWE  2013 new rel  m   1524 1642 \n",
       "76035 Zimbabwe    ZW   ZWE  2013 new rel  m   2534 5331 \n",
       "76036 Zimbabwe    ZW   ZWE  2013 new rel  m   3544 5363 \n",
       "76037 Zimbabwe    ZW   ZWE  2013 new rel  m   4554 2349 \n",
       "76038 Zimbabwe    ZW   ZWE  2013 new rel  m   5564 1206 \n",
       "76039 Zimbabwe    ZW   ZWE  2013 new rel  m   65   1208 \n",
       "76040 Zimbabwe    ZW   ZWE  2013 new rel  f   014  1252 \n",
       "76041 Zimbabwe    ZW   ZWE  2013 new rel  f   1524 2069 \n",
       "76042 Zimbabwe    ZW   ZWE  2013 new rel  f   2534 4649 \n",
       "76043 Zimbabwe    ZW   ZWE  2013 new rel  f   3544 3526 \n",
       "76044 Zimbabwe    ZW   ZWE  2013 new rel  f   4554 1453 \n",
       "76045 Zimbabwe    ZW   ZWE  2013 new rel  f   5564  811 \n",
       "76046 Zimbabwe    ZW   ZWE  2013 new rel  f   65    725 "
      ]
     },
     "metadata": {},
     "output_type": "display_data"
    }
   ],
   "source": [
    "View(Who4)"
   ]
  },
  {
   "cell_type": "markdown",
   "id": "5fdf0621",
   "metadata": {},
   "source": [
    "5. Displaying the first and last 5 rows of the Who4 Dataset"
   ]
  },
  {
   "cell_type": "markdown",
   "id": "a19def59",
   "metadata": {},
   "source": [
    "Using head to display the first 5 rows:"
   ]
  },
  {
   "cell_type": "code",
   "execution_count": 13,
   "id": "6c10261a",
   "metadata": {},
   "outputs": [
    {
     "data": {
      "text/html": [
       "<table class=\"dataframe\">\n",
       "<caption>A tibble: 5 × 9</caption>\n",
       "<thead>\n",
       "\t<tr><th scope=col>country</th><th scope=col>iso2</th><th scope=col>iso3</th><th scope=col>year</th><th scope=col>new</th><th scope=col>type</th><th scope=col>sex</th><th scope=col>age</th><th scope=col>Cases</th></tr>\n",
       "\t<tr><th scope=col>&lt;chr&gt;</th><th scope=col>&lt;chr&gt;</th><th scope=col>&lt;chr&gt;</th><th scope=col>&lt;int&gt;</th><th scope=col>&lt;chr&gt;</th><th scope=col>&lt;chr&gt;</th><th scope=col>&lt;chr&gt;</th><th scope=col>&lt;chr&gt;</th><th scope=col>&lt;int&gt;</th></tr>\n",
       "</thead>\n",
       "<tbody>\n",
       "\t<tr><td>Afghanistan</td><td>AF</td><td>AFG</td><td>1997</td><td>new</td><td>sp</td><td>m</td><td>014 </td><td> 0</td></tr>\n",
       "\t<tr><td>Afghanistan</td><td>AF</td><td>AFG</td><td>1997</td><td>new</td><td>sp</td><td>m</td><td>1524</td><td>10</td></tr>\n",
       "\t<tr><td>Afghanistan</td><td>AF</td><td>AFG</td><td>1997</td><td>new</td><td>sp</td><td>m</td><td>2534</td><td> 6</td></tr>\n",
       "\t<tr><td>Afghanistan</td><td>AF</td><td>AFG</td><td>1997</td><td>new</td><td>sp</td><td>m</td><td>3544</td><td> 3</td></tr>\n",
       "\t<tr><td>Afghanistan</td><td>AF</td><td>AFG</td><td>1997</td><td>new</td><td>sp</td><td>m</td><td>4554</td><td> 5</td></tr>\n",
       "</tbody>\n",
       "</table>\n"
      ],
      "text/latex": [
       "A tibble: 5 × 9\n",
       "\\begin{tabular}{lllllllll}\n",
       " country & iso2 & iso3 & year & new & type & sex & age & Cases\\\\\n",
       " <chr> & <chr> & <chr> & <int> & <chr> & <chr> & <chr> & <chr> & <int>\\\\\n",
       "\\hline\n",
       "\t Afghanistan & AF & AFG & 1997 & new & sp & m & 014  &  0\\\\\n",
       "\t Afghanistan & AF & AFG & 1997 & new & sp & m & 1524 & 10\\\\\n",
       "\t Afghanistan & AF & AFG & 1997 & new & sp & m & 2534 &  6\\\\\n",
       "\t Afghanistan & AF & AFG & 1997 & new & sp & m & 3544 &  3\\\\\n",
       "\t Afghanistan & AF & AFG & 1997 & new & sp & m & 4554 &  5\\\\\n",
       "\\end{tabular}\n"
      ],
      "text/markdown": [
       "\n",
       "A tibble: 5 × 9\n",
       "\n",
       "| country &lt;chr&gt; | iso2 &lt;chr&gt; | iso3 &lt;chr&gt; | year &lt;int&gt; | new &lt;chr&gt; | type &lt;chr&gt; | sex &lt;chr&gt; | age &lt;chr&gt; | Cases &lt;int&gt; |\n",
       "|---|---|---|---|---|---|---|---|---|\n",
       "| Afghanistan | AF | AFG | 1997 | new | sp | m | 014  |  0 |\n",
       "| Afghanistan | AF | AFG | 1997 | new | sp | m | 1524 | 10 |\n",
       "| Afghanistan | AF | AFG | 1997 | new | sp | m | 2534 |  6 |\n",
       "| Afghanistan | AF | AFG | 1997 | new | sp | m | 3544 |  3 |\n",
       "| Afghanistan | AF | AFG | 1997 | new | sp | m | 4554 |  5 |\n",
       "\n"
      ],
      "text/plain": [
       "  country     iso2 iso3 year new type sex age  Cases\n",
       "1 Afghanistan AF   AFG  1997 new sp   m   014   0   \n",
       "2 Afghanistan AF   AFG  1997 new sp   m   1524 10   \n",
       "3 Afghanistan AF   AFG  1997 new sp   m   2534  6   \n",
       "4 Afghanistan AF   AFG  1997 new sp   m   3544  3   \n",
       "5 Afghanistan AF   AFG  1997 new sp   m   4554  5   "
      ]
     },
     "metadata": {},
     "output_type": "display_data"
    }
   ],
   "source": [
    "head(Who4, 5)"
   ]
  },
  {
   "cell_type": "markdown",
   "id": "8adbf789",
   "metadata": {},
   "source": [
    "Using tail to display the last 5 rows:"
   ]
  },
  {
   "cell_type": "code",
   "execution_count": 14,
   "id": "d52ab536",
   "metadata": {},
   "outputs": [
    {
     "data": {
      "text/html": [
       "<table class=\"dataframe\">\n",
       "<caption>A tibble: 5 × 9</caption>\n",
       "<thead>\n",
       "\t<tr><th scope=col>country</th><th scope=col>iso2</th><th scope=col>iso3</th><th scope=col>year</th><th scope=col>new</th><th scope=col>type</th><th scope=col>sex</th><th scope=col>age</th><th scope=col>Cases</th></tr>\n",
       "\t<tr><th scope=col>&lt;chr&gt;</th><th scope=col>&lt;chr&gt;</th><th scope=col>&lt;chr&gt;</th><th scope=col>&lt;int&gt;</th><th scope=col>&lt;chr&gt;</th><th scope=col>&lt;chr&gt;</th><th scope=col>&lt;chr&gt;</th><th scope=col>&lt;chr&gt;</th><th scope=col>&lt;int&gt;</th></tr>\n",
       "</thead>\n",
       "<tbody>\n",
       "\t<tr><td>Zimbabwe</td><td>ZW</td><td>ZWE</td><td>2013</td><td>new</td><td>rel</td><td>f</td><td>2534</td><td>4649</td></tr>\n",
       "\t<tr><td>Zimbabwe</td><td>ZW</td><td>ZWE</td><td>2013</td><td>new</td><td>rel</td><td>f</td><td>3544</td><td>3526</td></tr>\n",
       "\t<tr><td>Zimbabwe</td><td>ZW</td><td>ZWE</td><td>2013</td><td>new</td><td>rel</td><td>f</td><td>4554</td><td>1453</td></tr>\n",
       "\t<tr><td>Zimbabwe</td><td>ZW</td><td>ZWE</td><td>2013</td><td>new</td><td>rel</td><td>f</td><td>5564</td><td> 811</td></tr>\n",
       "\t<tr><td>Zimbabwe</td><td>ZW</td><td>ZWE</td><td>2013</td><td>new</td><td>rel</td><td>f</td><td>65  </td><td> 725</td></tr>\n",
       "</tbody>\n",
       "</table>\n"
      ],
      "text/latex": [
       "A tibble: 5 × 9\n",
       "\\begin{tabular}{lllllllll}\n",
       " country & iso2 & iso3 & year & new & type & sex & age & Cases\\\\\n",
       " <chr> & <chr> & <chr> & <int> & <chr> & <chr> & <chr> & <chr> & <int>\\\\\n",
       "\\hline\n",
       "\t Zimbabwe & ZW & ZWE & 2013 & new & rel & f & 2534 & 4649\\\\\n",
       "\t Zimbabwe & ZW & ZWE & 2013 & new & rel & f & 3544 & 3526\\\\\n",
       "\t Zimbabwe & ZW & ZWE & 2013 & new & rel & f & 4554 & 1453\\\\\n",
       "\t Zimbabwe & ZW & ZWE & 2013 & new & rel & f & 5564 &  811\\\\\n",
       "\t Zimbabwe & ZW & ZWE & 2013 & new & rel & f & 65   &  725\\\\\n",
       "\\end{tabular}\n"
      ],
      "text/markdown": [
       "\n",
       "A tibble: 5 × 9\n",
       "\n",
       "| country &lt;chr&gt; | iso2 &lt;chr&gt; | iso3 &lt;chr&gt; | year &lt;int&gt; | new &lt;chr&gt; | type &lt;chr&gt; | sex &lt;chr&gt; | age &lt;chr&gt; | Cases &lt;int&gt; |\n",
       "|---|---|---|---|---|---|---|---|---|\n",
       "| Zimbabwe | ZW | ZWE | 2013 | new | rel | f | 2534 | 4649 |\n",
       "| Zimbabwe | ZW | ZWE | 2013 | new | rel | f | 3544 | 3526 |\n",
       "| Zimbabwe | ZW | ZWE | 2013 | new | rel | f | 4554 | 1453 |\n",
       "| Zimbabwe | ZW | ZWE | 2013 | new | rel | f | 5564 |  811 |\n",
       "| Zimbabwe | ZW | ZWE | 2013 | new | rel | f | 65   |  725 |\n",
       "\n"
      ],
      "text/plain": [
       "  country  iso2 iso3 year new type sex age  Cases\n",
       "1 Zimbabwe ZW   ZWE  2013 new rel  f   2534 4649 \n",
       "2 Zimbabwe ZW   ZWE  2013 new rel  f   3544 3526 \n",
       "3 Zimbabwe ZW   ZWE  2013 new rel  f   4554 1453 \n",
       "4 Zimbabwe ZW   ZWE  2013 new rel  f   5564  811 \n",
       "5 Zimbabwe ZW   ZWE  2013 new rel  f   65    725 "
      ]
     },
     "metadata": {},
     "output_type": "display_data"
    }
   ],
   "source": [
    "tail(Who4,5)"
   ]
  },
  {
   "cell_type": "markdown",
   "id": "4507dd77",
   "metadata": {},
   "source": [
    "6. Saving the Who4 dataset into a CSV file"
   ]
  },
  {
   "cell_type": "code",
   "execution_count": 15,
   "id": "dded0f11",
   "metadata": {},
   "outputs": [],
   "source": [
    "write.csv(Who4, 'Who4.csv')"
   ]
  },
  {
   "cell_type": "markdown",
   "id": "2892c8fd",
   "metadata": {},
   "source": [
    "# Second Portfolio Part"
   ]
  },
  {
   "cell_type": "markdown",
   "id": "6b9a77dc",
   "metadata": {},
   "source": [
    "1. Mean, Median, and Mode of sepal length"
   ]
  },
  {
   "cell_type": "markdown",
   "id": "e3366bf1",
   "metadata": {},
   "source": [
    "Note: I tried 'na.rm = TRUE' for the functions and the results are indifferent without it"
   ]
  },
  {
   "cell_type": "code",
   "execution_count": 16,
   "id": "4577945a",
   "metadata": {},
   "outputs": [],
   "source": [
    "SL <- iris$Sepal.Length #Take the Sepal Length Column as a list"
   ]
  },
  {
   "cell_type": "code",
   "execution_count": 17,
   "id": "26e34b66",
   "metadata": {
    "scrolled": true
   },
   "outputs": [
    {
     "name": "stdout",
     "output_type": "stream",
     "text": [
      "[1] \"The mean of iris sepal length is:\"\n"
     ]
    },
    {
     "data": {
      "text/html": [
       "5.84333333333333"
      ],
      "text/latex": [
       "5.84333333333333"
      ],
      "text/markdown": [
       "5.84333333333333"
      ],
      "text/plain": [
       "[1] 5.843333"
      ]
     },
     "metadata": {},
     "output_type": "display_data"
    }
   ],
   "source": [
    "print('The mean of iris sepal length is:')\n",
    "mean(SL) # geting the mean"
   ]
  },
  {
   "cell_type": "code",
   "execution_count": 18,
   "id": "fcdbd954",
   "metadata": {},
   "outputs": [
    {
     "name": "stdout",
     "output_type": "stream",
     "text": [
      "[1] \"The median of iris sepal length is:\"\n"
     ]
    },
    {
     "data": {
      "text/html": [
       "5.8"
      ],
      "text/latex": [
       "5.8"
      ],
      "text/markdown": [
       "5.8"
      ],
      "text/plain": [
       "[1] 5.8"
      ]
     },
     "metadata": {},
     "output_type": "display_data"
    }
   ],
   "source": [
    "print('The median of iris sepal length is:')\n",
    "median(SL) # geting the median"
   ]
  },
  {
   "cell_type": "code",
   "execution_count": 19,
   "id": "84fa01d1",
   "metadata": {
    "scrolled": true
   },
   "outputs": [
    {
     "name": "stdout",
     "output_type": "stream",
     "text": [
      "[1] \"The mode of iris sepal length is:\"\n"
     ]
    },
    {
     "data": {
      "text/html": [
       "5"
      ],
      "text/latex": [
       "5"
      ],
      "text/markdown": [
       "5"
      ],
      "text/plain": [
       "[1] 5"
      ]
     },
     "metadata": {},
     "output_type": "display_data"
    }
   ],
   "source": [
    "print('The mode of iris sepal length is:')\n",
    "mfv(SL) # geting the mode"
   ]
  },
  {
   "cell_type": "markdown",
   "id": "d60bd926",
   "metadata": {},
   "source": [
    "2. Seeing How spread out the sepal length data is"
   ]
  },
  {
   "cell_type": "code",
   "execution_count": 20,
   "id": "55de2239",
   "metadata": {},
   "outputs": [
    {
     "name": "stdout",
     "output_type": "stream",
     "text": [
      "[1] \"The maximum value in iris sepal length is:\"\n"
     ]
    },
    {
     "data": {
      "text/html": [
       "7.9"
      ],
      "text/latex": [
       "7.9"
      ],
      "text/markdown": [
       "7.9"
      ],
      "text/plain": [
       "[1] 7.9"
      ]
     },
     "metadata": {},
     "output_type": "display_data"
    }
   ],
   "source": [
    "print('The maximum value in iris sepal length is:')\n",
    "max(SL) # Calculating the max value, can be computed using range(SL)[2]"
   ]
  },
  {
   "cell_type": "code",
   "execution_count": 21,
   "id": "167520fc",
   "metadata": {},
   "outputs": [
    {
     "name": "stdout",
     "output_type": "stream",
     "text": [
      "[1] \"The minimum value in iris sepal length is:\"\n"
     ]
    },
    {
     "data": {
      "text/html": [
       "4.3"
      ],
      "text/latex": [
       "4.3"
      ],
      "text/markdown": [
       "4.3"
      ],
      "text/plain": [
       "[1] 4.3"
      ]
     },
     "metadata": {},
     "output_type": "display_data"
    }
   ],
   "source": [
    "print('The minimum value in iris sepal length is:')\n",
    "min(SL) # Computing the min value, can be computed using range(SL)[1]"
   ]
  },
  {
   "cell_type": "code",
   "execution_count": 22,
   "id": "68352c7d",
   "metadata": {},
   "outputs": [
    {
     "name": "stdout",
     "output_type": "stream",
     "text": [
      "[1] \"The range value in iris sepal length is:\"\n",
      "[1] 3.6\n"
     ]
    }
   ],
   "source": [
    "Range = range(SL)[2] - range(SL)[1] # Calculating the range value to see how \"Spread Out\" the data is\n",
    "print('The range value in iris sepal length is:')\n",
    "print(Range)"
   ]
  },
  {
   "cell_type": "markdown",
   "id": "df295f48",
   "metadata": {},
   "source": [
    "3. Calculating the interquartile (IQR) range of sepal length"
   ]
  },
  {
   "cell_type": "code",
   "execution_count": 23,
   "id": "a78883cf",
   "metadata": {},
   "outputs": [
    {
     "name": "stdout",
     "output_type": "stream",
     "text": [
      "[1] \"The IQR range value in iris sepal length is:\"\n"
     ]
    },
    {
     "data": {
      "text/html": [
       "1.3"
      ],
      "text/latex": [
       "1.3"
      ],
      "text/markdown": [
       "1.3"
      ],
      "text/plain": [
       "[1] 1.3"
      ]
     },
     "metadata": {},
     "output_type": "display_data"
    }
   ],
   "source": [
    "print('The IQR range value in iris sepal length is:')\n",
    "IQR(SL) #Computes the IQR value"
   ]
  },
  {
   "cell_type": "code",
   "execution_count": 24,
   "id": "45de41a0",
   "metadata": {
    "scrolled": true
   },
   "outputs": [
    {
     "name": "stdout",
     "output_type": "stream",
     "text": [
      "[1] \"The IQR range value calculated using \\\"quantile()\\\" in iris sepal length is:\"\n"
     ]
    },
    {
     "data": {
      "text/html": [
       "1.3"
      ],
      "text/latex": [
       "1.3"
      ],
      "text/markdown": [
       "1.3"
      ],
      "text/plain": [
       "[1] 1.3"
      ]
     },
     "metadata": {},
     "output_type": "display_data"
    }
   ],
   "source": [
    "Q = quantile(SL) #Shows all quartiles in one variable (from 0% to 100%)\n",
    "\n",
    "InterQ = as.double(Q[4] - Q[2]) # as.double used to show only a double value\n",
    "print('The IQR range value calculated using \"quantile()\" in iris sepal length is:') \n",
    "InterQ"
   ]
  },
  {
   "cell_type": "markdown",
   "id": "c5eeec14",
   "metadata": {},
   "source": [
    "###### There is no difference in the result when using 'IQR' or 'Quantile' to find the IQR value, 'IQR' would do the same steps faster and at once."
   ]
  },
  {
   "cell_type": "markdown",
   "id": "6e93658f",
   "metadata": {},
   "source": [
    "4. Computing the variance and standard deviation"
   ]
  },
  {
   "cell_type": "code",
   "execution_count": 26,
   "id": "f68e2ba5",
   "metadata": {},
   "outputs": [
    {
     "name": "stdout",
     "output_type": "stream",
     "text": [
      "[1] \"The variance value in iris sepal length is:\"\n"
     ]
    },
    {
     "data": {
      "text/html": [
       "0.685693512304251"
      ],
      "text/latex": [
       "0.685693512304251"
      ],
      "text/markdown": [
       "0.685693512304251"
      ],
      "text/plain": [
       "[1] 0.6856935"
      ]
     },
     "metadata": {},
     "output_type": "display_data"
    }
   ],
   "source": [
    "print('The variance value in iris sepal length is:')\n",
    "var(SL) #Get the variance value"
   ]
  },
  {
   "cell_type": "code",
   "execution_count": 27,
   "id": "306de812",
   "metadata": {},
   "outputs": [
    {
     "name": "stdout",
     "output_type": "stream",
     "text": [
      "[1] \"The standard deviation value in iris sepal length is:\"\n"
     ]
    },
    {
     "data": {
      "text/html": [
       "0.828066127977863"
      ],
      "text/latex": [
       "0.828066127977863"
      ],
      "text/markdown": [
       "0.828066127977863"
      ],
      "text/plain": [
       "[1] 0.8280661"
      ]
     },
     "metadata": {},
     "output_type": "display_data"
    }
   ],
   "source": [
    "print('The standard deviation value in iris sepal length is:')\n",
    "sd(SL) # Get the Standard Deviation value"
   ]
  },
  {
   "cell_type": "markdown",
   "id": "e20da091",
   "metadata": {},
   "source": [
    "5. Showing min, max, median, 1st and 3rd quartiles all at once "
   ]
  },
  {
   "cell_type": "code",
   "execution_count": 28,
   "id": "ae2a8268",
   "metadata": {},
   "outputs": [
    {
     "data": {
      "text/plain": [
       "   Min. 1st Qu.  Median    Mean 3rd Qu.    Max. \n",
       "  4.300   5.100   5.800   5.843   6.400   7.900 "
      ]
     },
     "metadata": {},
     "output_type": "display_data"
    }
   ],
   "source": [
    "summary(SL)"
   ]
  },
  {
   "cell_type": "markdown",
   "id": "5b94514f",
   "metadata": {},
   "source": [
    "6. using the 'sapply()' function to calculate the mean and quantiles of each column:"
   ]
  },
  {
   "cell_type": "markdown",
   "id": "4b0cad07",
   "metadata": {},
   "source": [
    "Using Sapply to get the mean values"
   ]
  },
  {
   "cell_type": "code",
   "execution_count": 29,
   "id": "0bf04833",
   "metadata": {},
   "outputs": [
    {
     "data": {
      "text/html": [
       "<style>\n",
       ".dl-inline {width: auto; margin:0; padding: 0}\n",
       ".dl-inline>dt, .dl-inline>dd {float: none; width: auto; display: inline-block}\n",
       ".dl-inline>dt::after {content: \":\\0020\"; padding-right: .5ex}\n",
       ".dl-inline>dt:not(:first-of-type) {padding-left: .5ex}\n",
       "</style><dl class=dl-inline><dt>Sepal.Length</dt><dd>5.84333333333333</dd><dt>Sepal.Width</dt><dd>3.05733333333333</dd><dt>Petal.Length</dt><dd>3.758</dd><dt>Petal.Width</dt><dd>1.19933333333333</dd></dl>\n"
      ],
      "text/latex": [
       "\\begin{description*}\n",
       "\\item[Sepal.Length] 5.84333333333333\n",
       "\\item[Sepal.Width] 3.05733333333333\n",
       "\\item[Petal.Length] 3.758\n",
       "\\item[Petal.Width] 1.19933333333333\n",
       "\\end{description*}\n"
      ],
      "text/markdown": [
       "Sepal.Length\n",
       ":   5.84333333333333Sepal.Width\n",
       ":   3.05733333333333Petal.Length\n",
       ":   3.758Petal.Width\n",
       ":   1.19933333333333\n",
       "\n"
      ],
      "text/plain": [
       "Sepal.Length  Sepal.Width Petal.Length  Petal.Width \n",
       "    5.843333     3.057333     3.758000     1.199333 "
      ]
     },
     "metadata": {},
     "output_type": "display_data"
    }
   ],
   "source": [
    "sapply(iris[1:4],mean) #Removing the 5th column as it is a string"
   ]
  },
  {
   "cell_type": "markdown",
   "id": "86ff2bba",
   "metadata": {},
   "source": [
    "Using Sapply to get the quantile values"
   ]
  },
  {
   "cell_type": "code",
   "execution_count": 30,
   "id": "358e7d26",
   "metadata": {},
   "outputs": [
    {
     "data": {
      "text/html": [
       "<table class=\"dataframe\">\n",
       "<caption>A matrix: 5 × 4 of type dbl</caption>\n",
       "<thead>\n",
       "\t<tr><th></th><th scope=col>Sepal.Length</th><th scope=col>Sepal.Width</th><th scope=col>Petal.Length</th><th scope=col>Petal.Width</th></tr>\n",
       "</thead>\n",
       "<tbody>\n",
       "\t<tr><th scope=row>0%</th><td>4.3</td><td>2.0</td><td>1.00</td><td>0.1</td></tr>\n",
       "\t<tr><th scope=row>25%</th><td>5.1</td><td>2.8</td><td>1.60</td><td>0.3</td></tr>\n",
       "\t<tr><th scope=row>50%</th><td>5.8</td><td>3.0</td><td>4.35</td><td>1.3</td></tr>\n",
       "\t<tr><th scope=row>75%</th><td>6.4</td><td>3.3</td><td>5.10</td><td>1.8</td></tr>\n",
       "\t<tr><th scope=row>100%</th><td>7.9</td><td>4.4</td><td>6.90</td><td>2.5</td></tr>\n",
       "</tbody>\n",
       "</table>\n"
      ],
      "text/latex": [
       "A matrix: 5 × 4 of type dbl\n",
       "\\begin{tabular}{r|llll}\n",
       "  & Sepal.Length & Sepal.Width & Petal.Length & Petal.Width\\\\\n",
       "\\hline\n",
       "\t0\\% & 4.3 & 2.0 & 1.00 & 0.1\\\\\n",
       "\t25\\% & 5.1 & 2.8 & 1.60 & 0.3\\\\\n",
       "\t50\\% & 5.8 & 3.0 & 4.35 & 1.3\\\\\n",
       "\t75\\% & 6.4 & 3.3 & 5.10 & 1.8\\\\\n",
       "\t100\\% & 7.9 & 4.4 & 6.90 & 2.5\\\\\n",
       "\\end{tabular}\n"
      ],
      "text/markdown": [
       "\n",
       "A matrix: 5 × 4 of type dbl\n",
       "\n",
       "| <!--/--> | Sepal.Length | Sepal.Width | Petal.Length | Petal.Width |\n",
       "|---|---|---|---|---|\n",
       "| 0% | 4.3 | 2.0 | 1.00 | 0.1 |\n",
       "| 25% | 5.1 | 2.8 | 1.60 | 0.3 |\n",
       "| 50% | 5.8 | 3.0 | 4.35 | 1.3 |\n",
       "| 75% | 6.4 | 3.3 | 5.10 | 1.8 |\n",
       "| 100% | 7.9 | 4.4 | 6.90 | 2.5 |\n",
       "\n"
      ],
      "text/plain": [
       "     Sepal.Length Sepal.Width Petal.Length Petal.Width\n",
       "0%   4.3          2.0         1.00         0.1        \n",
       "25%  5.1          2.8         1.60         0.3        \n",
       "50%  5.8          3.0         4.35         1.3        \n",
       "75%  6.4          3.3         5.10         1.8        \n",
       "100% 7.9          4.4         6.90         2.5        "
      ]
     },
     "metadata": {},
     "output_type": "display_data"
    }
   ],
   "source": [
    "sapply(iris[1:4],quantile)"
   ]
  },
  {
   "cell_type": "markdown",
   "id": "96b9f1d4",
   "metadata": {},
   "source": [
    "7. Creating the histogram"
   ]
  },
  {
   "cell_type": "code",
   "execution_count": 31,
   "id": "9ed07c64",
   "metadata": {
    "scrolled": false
   },
   "outputs": [
    {
     "data": {
      "image/png": "[encoded data removed]",
      "text/plain": [
       "Plot with title \"Histogram for sepal length\""
      ]
     },
     "metadata": {
      "image/png": {
       "height": 420,
       "width": 420
      }
     },
     "output_type": "display_data"
    }
   ],
   "source": [
    "# Main is for title, xlab is for x-label, col is for bar colors, and border is for borders color\n",
    "\n",
    "hist(SL, main = 'Histogram for sepal length', xlab = 'Sepal Length', col = 'blue', border ='cyan')"
   ]
  },
  {
   "cell_type": "markdown",
   "id": "e8443988",
   "metadata": {},
   "source": [
    "8. Creating the box-plot"
   ]
  },
  {
   "cell_type": "code",
   "execution_count": 32,
   "id": "5c1e6873",
   "metadata": {
    "scrolled": false
   },
   "outputs": [
    {
     "data": {
      "image/png": "[encoded data removed]",
      "text/plain": [
       "Plot with title \"Boxplot for all numeric columns in Iris\""
      ]
     },
     "metadata": {
      "image/png": {
       "height": 420,
       "width": 420
      }
     },
     "output_type": "display_data"
    }
   ],
   "source": [
    "boxplot(iris[1:4], main = 'Boxplot for all numeric columns in Iris', col= 'Blue', border='Navy')"
   ]
  },
  {
   "cell_type": "markdown",
   "id": "12cdbe08",
   "metadata": {},
   "source": [
    "9. Creating the QQ-plot"
   ]
  },
  {
   "cell_type": "code",
   "execution_count": 33,
   "id": "9aa9b22e",
   "metadata": {},
   "outputs": [
    {
     "data": {
      "image/png": "[encoded data removed]",
      "text/plain": [
       "Plot with title \"Normal Q-Q Plot\""
      ]
     },
     "metadata": {
      "image/png": {
       "height": 420,
       "width": 420
      }
     },
     "output_type": "display_data"
    }
   ],
   "source": [
    "qqnorm(SL, xlab = 'Sepal Length Theoretical Values', col='blue')\n",
    "qqline(SL, col='Green', lwd=2) # \"lwd\" specifies the line width"
   ]
  },
  {
   "cell_type": "markdown",
   "id": "5efba689",
   "metadata": {},
   "source": [
    "# Third Portfolio Part"
   ]
  },
  {
   "cell_type": "markdown",
   "id": "9177ae3a",
   "metadata": {},
   "source": [
    "Checking the data:"
   ]
  },
  {
   "cell_type": "code",
   "execution_count": 20,
   "id": "5bdc9e1d",
   "metadata": {},
   "outputs": [
    {
     "data": {
      "text/html": [
       "<table class=\"dataframe\">\n",
       "<caption>A tibble: 7 × 11</caption>\n",
       "<thead>\n",
       "\t<tr><th scope=col>manufacturer</th><th scope=col>model</th><th scope=col>displ</th><th scope=col>year</th><th scope=col>cyl</th><th scope=col>trans</th><th scope=col>drv</th><th scope=col>cty</th><th scope=col>hwy</th><th scope=col>fl</th><th scope=col>class</th></tr>\n",
       "\t<tr><th scope=col>&lt;chr&gt;</th><th scope=col>&lt;chr&gt;</th><th scope=col>&lt;dbl&gt;</th><th scope=col>&lt;int&gt;</th><th scope=col>&lt;int&gt;</th><th scope=col>&lt;chr&gt;</th><th scope=col>&lt;chr&gt;</th><th scope=col>&lt;int&gt;</th><th scope=col>&lt;int&gt;</th><th scope=col>&lt;chr&gt;</th><th scope=col>&lt;chr&gt;</th></tr>\n",
       "</thead>\n",
       "<tbody>\n",
       "\t<tr><td>audi</td><td>a4</td><td>1.8</td><td>1999</td><td>4</td><td>auto(l5)  </td><td>f</td><td>18</td><td>29</td><td>p</td><td>compact</td></tr>\n",
       "\t<tr><td>audi</td><td>a4</td><td>1.8</td><td>1999</td><td>4</td><td>manual(m5)</td><td>f</td><td>21</td><td>29</td><td>p</td><td>compact</td></tr>\n",
       "\t<tr><td>audi</td><td>a4</td><td>2.0</td><td>2008</td><td>4</td><td>manual(m6)</td><td>f</td><td>20</td><td>31</td><td>p</td><td>compact</td></tr>\n",
       "\t<tr><td>audi</td><td>a4</td><td>2.0</td><td>2008</td><td>4</td><td>auto(av)  </td><td>f</td><td>21</td><td>30</td><td>p</td><td>compact</td></tr>\n",
       "\t<tr><td>audi</td><td>a4</td><td>2.8</td><td>1999</td><td>6</td><td>auto(l5)  </td><td>f</td><td>16</td><td>26</td><td>p</td><td>compact</td></tr>\n",
       "\t<tr><td>audi</td><td>a4</td><td>2.8</td><td>1999</td><td>6</td><td>manual(m5)</td><td>f</td><td>18</td><td>26</td><td>p</td><td>compact</td></tr>\n",
       "\t<tr><td>audi</td><td>a4</td><td>3.1</td><td>2008</td><td>6</td><td>auto(av)  </td><td>f</td><td>18</td><td>27</td><td>p</td><td>compact</td></tr>\n",
       "</tbody>\n",
       "</table>\n"
      ],
      "text/latex": [
       "A tibble: 7 × 11\n",
       "\\begin{tabular}{lllllllllll}\n",
       " manufacturer & model & displ & year & cyl & trans & drv & cty & hwy & fl & class\\\\\n",
       " <chr> & <chr> & <dbl> & <int> & <int> & <chr> & <chr> & <int> & <int> & <chr> & <chr>\\\\\n",
       "\\hline\n",
       "\t audi & a4 & 1.8 & 1999 & 4 & auto(l5)   & f & 18 & 29 & p & compact\\\\\n",
       "\t audi & a4 & 1.8 & 1999 & 4 & manual(m5) & f & 21 & 29 & p & compact\\\\\n",
       "\t audi & a4 & 2.0 & 2008 & 4 & manual(m6) & f & 20 & 31 & p & compact\\\\\n",
       "\t audi & a4 & 2.0 & 2008 & 4 & auto(av)   & f & 21 & 30 & p & compact\\\\\n",
       "\t audi & a4 & 2.8 & 1999 & 6 & auto(l5)   & f & 16 & 26 & p & compact\\\\\n",
       "\t audi & a4 & 2.8 & 1999 & 6 & manual(m5) & f & 18 & 26 & p & compact\\\\\n",
       "\t audi & a4 & 3.1 & 2008 & 6 & auto(av)   & f & 18 & 27 & p & compact\\\\\n",
       "\\end{tabular}\n"
      ],
      "text/markdown": [
       "\n",
       "A tibble: 7 × 11\n",
       "\n",
       "| manufacturer &lt;chr&gt; | model &lt;chr&gt; | displ &lt;dbl&gt; | year &lt;int&gt; | cyl &lt;int&gt; | trans &lt;chr&gt; | drv &lt;chr&gt; | cty &lt;int&gt; | hwy &lt;int&gt; | fl &lt;chr&gt; | class &lt;chr&gt; |\n",
       "|---|---|---|---|---|---|---|---|---|---|---|\n",
       "| audi | a4 | 1.8 | 1999 | 4 | auto(l5)   | f | 18 | 29 | p | compact |\n",
       "| audi | a4 | 1.8 | 1999 | 4 | manual(m5) | f | 21 | 29 | p | compact |\n",
       "| audi | a4 | 2.0 | 2008 | 4 | manual(m6) | f | 20 | 31 | p | compact |\n",
       "| audi | a4 | 2.0 | 2008 | 4 | auto(av)   | f | 21 | 30 | p | compact |\n",
       "| audi | a4 | 2.8 | 1999 | 6 | auto(l5)   | f | 16 | 26 | p | compact |\n",
       "| audi | a4 | 2.8 | 1999 | 6 | manual(m5) | f | 18 | 26 | p | compact |\n",
       "| audi | a4 | 3.1 | 2008 | 6 | auto(av)   | f | 18 | 27 | p | compact |\n",
       "\n"
      ],
      "text/plain": [
       "  manufacturer model displ year cyl trans      drv cty hwy fl class  \n",
       "1 audi         a4    1.8   1999 4   auto(l5)   f   18  29  p  compact\n",
       "2 audi         a4    1.8   1999 4   manual(m5) f   21  29  p  compact\n",
       "3 audi         a4    2.0   2008 4   manual(m6) f   20  31  p  compact\n",
       "4 audi         a4    2.0   2008 4   auto(av)   f   21  30  p  compact\n",
       "5 audi         a4    2.8   1999 6   auto(l5)   f   16  26  p  compact\n",
       "6 audi         a4    2.8   1999 6   manual(m5) f   18  26  p  compact\n",
       "7 audi         a4    3.1   2008 6   auto(av)   f   18  27  p  compact"
      ]
     },
     "metadata": {},
     "output_type": "display_data"
    }
   ],
   "source": [
    "mpg = ggplot2::mpg\n",
    "head(mpg,7)"
   ]
  },
  {
   "cell_type": "markdown",
   "id": "e1d15fc2",
   "metadata": {},
   "source": [
    "Setting the figures' sizes:"
   ]
  },
  {
   "cell_type": "code",
   "execution_count": 17,
   "id": "147919d2",
   "metadata": {},
   "outputs": [],
   "source": [
    "options(repr.plot.width=18, repr.plot.height=11)"
   ]
  },
  {
   "cell_type": "markdown",
   "id": "37bc05a3",
   "metadata": {},
   "source": [
    "### Q1:\n",
    "Plot and explain: Which vehicle brand (or manufacturer) offers the best mpg in both city and in the highway?"
   ]
  },
  {
   "cell_type": "code",
   "execution_count": 36,
   "id": "7a342886",
   "metadata": {
    "scrolled": false
   },
   "outputs": [
    {
     "data": {
      "image/png": "[encoded data removed]",
      "text/plain": [
       "plot without title"
      ]
     },
     "metadata": {
      "image/png": {
       "height": 660,
       "width": 1080
      }
     },
     "output_type": "display_data"
    }
   ],
   "source": [
    "ggplot(mpg, aes(x=manufacturer, y=cty, group=hwy, fill=hwy))+\n",
    "geom_bar(position='dodge',stat=\"identity\")+\n",
    "xlab('Car Brand')+ ylab('City MPG')\n",
    "\n",
    "#x-axis is manufacturer, y-axis is cty, group used to add hwy in the bar plot, and fill used to identify the hwy"
   ]
  },
  {
   "cell_type": "markdown",
   "id": "5318ae2e",
   "metadata": {},
   "source": [
    "You can see that the brightest color is highest hwy and the highest bar is cty. Therefore, it is clear that Volkswagen has the best mpg in city and highway."
   ]
  },
  {
   "cell_type": "markdown",
   "id": "52169972",
   "metadata": {},
   "source": [
    "### Q2:\n",
    "Plot and explain: Which type of car, regarding their size of engine, has the lowest mpg in the city categorised by the vehicle type."
   ]
  },
  {
   "cell_type": "code",
   "execution_count": 23,
   "id": "1a21fff4",
   "metadata": {},
   "outputs": [
    {
     "data": {
      "image/png": "[encoded data removed]",
      "text/plain": [
       "plot without title"
      ]
     },
     "metadata": {
      "image/png": {
       "height": 660,
       "width": 1080
      }
     },
     "output_type": "display_data"
    }
   ],
   "source": [
    "ggplot(mpg, aes(x=displ, y=cty,color=cty,fill=class))+\n",
    "geom_bar(position='dodge',stat=\"identity\")+\n",
    "xlab('Size of Engine')+ ylab('City MPG')+\n",
    "facet_wrap(~class)\n",
    "\n",
    "# position='dodge' implements the side bar plot\n",
    "# stat='identity' keeps the original data in the plot (not the percentage/ratio)"
   ]
  },
  {
   "cell_type": "markdown",
   "id": "ce91775b",
   "metadata": {},
   "source": [
    "Each car type has its own plot.  The lowest city mpg for each type regarding their size engine is as follows: <br>\n",
    "2Seater: 5.7L, 6.2L, and 7.0L  at 15 mpg. <br>\n",
    "compact: 2.8L and 3.1L both at 15 mpg <br>\n",
    "midsize: 2.8L at 15 mpg <br>\n",
    "minivan: 3.3L at 11 mpg. <br>\n",
    "pickup: 4.7L at 9 mpg. <br>\n",
    "subcompact: 5.4L at 14 mpg <br>\n",
    "SUV: 4.7L at 9 mpg  <br>"
   ]
  },
  {
   "cell_type": "markdown",
   "id": "ed3c90da",
   "metadata": {},
   "source": [
    "### Q3:\n",
    "Plot and explain: Which type of car, regarding their size of engine has the best mpg performance in both city and highway categorised by the number of cylinders and the drive type."
   ]
  },
  {
   "cell_type": "code",
   "execution_count": 38,
   "id": "dc1f7db4",
   "metadata": {},
   "outputs": [
    {
     "data": {
      "image/png": "[encoded data removed]",
      "text/plain": [
       "plot without title"
      ]
     },
     "metadata": {
      "image/png": {
       "height": 660,
       "width": 1080
      }
     },
     "output_type": "display_data"
    }
   ],
   "source": [
    "ggplot(mpg, aes(x=displ, y=hwy, group=cty, fill=cty, color=class))+\n",
    "geom_bar(position='dodge',stat=\"identity\")+\n",
    "xlab('Size of Engine')+ ylab('Highway MPG')+\n",
    "facet_grid(cyl ~ drv)"
   ]
  },
  {
   "cell_type": "markdown",
   "id": "5fd60603",
   "metadata": {},
   "source": [
    "###### Q: You are a buyer who wants a high litre engine vehicle and drives mostly in the highway, which type of car would you choose?"
   ]
  },
  {
   "cell_type": "markdown",
   "id": "3cd5ce81",
   "metadata": {},
   "source": [
    "###### A: I would choose an 8 cylinder Rear-Wheel drive 2-seater car, either a 6.2L or 5.7L engine that can run up to 26 mpg. "
   ]
  }
 ],
 "metadata": {
  "kernelspec": {
   "display_name": "R",
   "language": "R",
   "name": "ir"
  },
  "language_info": {
   "codemirror_mode": "r",
   "file_extension": ".r",
   "mimetype": "text/x-r-source",
   "name": "R",
   "pygments_lexer": "r",
   "version": "4.1.2"
  }
 },
 "nbformat": 4,
 "nbformat_minor": 5
}
